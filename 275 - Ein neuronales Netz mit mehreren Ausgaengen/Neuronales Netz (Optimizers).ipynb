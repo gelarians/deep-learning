{
 "cells": [
  {
   "cell_type": "code",
   "execution_count": 2,
   "metadata": {},
   "outputs": [],
   "source": [
    "# Vorstellung: MNIST-Daten!\n",
    "# http://yann.lecun.com/exdb/mnist/\n",
    "# FashionMNIST: https://github.com/zalandoresearch/fashion-mnist\n",
    "\n",
    "import gzip\n",
    "import numpy as np\n",
    "from tensorflow.keras.utils import to_categorical\n",
    "\n",
    "def open_images(filename):\n",
    "    with gzip.open(filename, \"rb\") as file:\n",
    "        data = file.read()\n",
    "        return np.frombuffer(data, dtype=np.uint8, offset=16)\\\n",
    "            .reshape(-1, 28, 28)\\\n",
    "            .astype(np.float32)\n",
    "\n",
    "\n",
    "def open_labels(filename):\n",
    "    with gzip.open(filename, \"rb\") as file:\n",
    "        data = file.read()\n",
    "        return np.frombuffer(data, dtype=np.uint8, offset=8)\n",
    "    \n",
    "X_train = open_images(\"../data/fashion/train-images-idx3-ubyte.gz\")\n",
    "y_train = open_labels(\"../data/fashion/train-labels-idx1-ubyte.gz\")\n",
    "\n",
    "X_test = open_images(\"../data/fashion/t10k-images-idx3-ubyte.gz\")\n",
    "y_test = open_labels(\"../data/fashion/t10k-labels-idx1-ubyte.gz\")\n",
    "\n",
    "y_train = to_categorical(y_train)\n",
    "y_test = to_categorical(y_test)"
   ]
  },
  {
   "cell_type": "markdown",
   "metadata": {},
   "source": [
    "### Neuronales Netz (mit Softmax)"
   ]
  },
  {
   "cell_type": "code",
   "execution_count": 3,
   "metadata": {},
   "outputs": [],
   "source": [
    "from tensorflow.keras.models import Sequential\n",
    "from tensorflow.keras.layers import Dense"
   ]
  },
  {
   "cell_type": "code",
   "execution_count": 8,
   "metadata": {},
   "outputs": [],
   "source": [
    "model = Sequential()\n",
    "\n",
    "model.add(Dense(100, activation=\"sigmoid\", input_shape=(784,)))\n",
    "model.add(Dense(10, activation=\"softmax\"))\n",
    "\n",
    "# rmsprop, adam\n",
    "model.compile(optimizer=\"adam\", loss=\"categorical_crossentropy\", metrics=[\"accuracy\"])"
   ]
  },
  {
   "cell_type": "code",
   "execution_count": 9,
   "metadata": {},
   "outputs": [
    {
     "name": "stdout",
     "output_type": "stream",
     "text": [
      "Epoch 1/10\n",
      "60/60 [==============================] - 0s 3ms/step - loss: 1.5240 - accuracy: 0.5215\n",
      "Epoch 2/10\n",
      "60/60 [==============================] - 0s 3ms/step - loss: 0.7618 - accuracy: 0.7642\n",
      "Epoch 3/10\n",
      "60/60 [==============================] - 0s 3ms/step - loss: 0.6462 - accuracy: 0.7877\n",
      "Epoch 4/10\n",
      "60/60 [==============================] - 0s 3ms/step - loss: 0.5837 - accuracy: 0.8027\n",
      "Epoch 5/10\n",
      "60/60 [==============================] - 0s 3ms/step - loss: 0.5447 - accuracy: 0.8181\n",
      "Epoch 6/10\n",
      "60/60 [==============================] - 0s 3ms/step - loss: 0.5245 - accuracy: 0.8202\n",
      "Epoch 7/10\n",
      "60/60 [==============================] - 0s 3ms/step - loss: 0.5060 - accuracy: 0.8251\n",
      "Epoch 8/10\n",
      "60/60 [==============================] - 0s 3ms/step - loss: 0.5005 - accuracy: 0.8281\n",
      "Epoch 9/10\n",
      "60/60 [==============================] - 0s 3ms/step - loss: 0.4911 - accuracy: 0.8298\n",
      "Epoch 10/10\n",
      "60/60 [==============================] - 0s 3ms/step - loss: 0.4794 - accuracy: 0.8318\n"
     ]
    },
    {
     "data": {
      "text/plain": [
       "<tensorflow.python.keras.callbacks.History at 0x7fa1e0bba0d0>"
      ]
     },
     "execution_count": 9,
     "metadata": {},
     "output_type": "execute_result"
    }
   ],
   "source": [
    "model.fit(\n",
    "    X_train.reshape(60000, 784),\n",
    "    y_train,\n",
    "    epochs=10,\n",
    "    batch_size=1000)"
   ]
  },
  {
   "cell_type": "code",
   "execution_count": 10,
   "metadata": {},
   "outputs": [
    {
     "name": "stdout",
     "output_type": "stream",
     "text": [
      "313/313 [==============================] - 0s 543us/step - loss: 0.5056 - accuracy: 0.8220\n"
     ]
    },
    {
     "data": {
      "text/plain": [
       "[0.5056477785110474, 0.8220000267028809]"
      ]
     },
     "execution_count": 10,
     "metadata": {},
     "output_type": "execute_result"
    }
   ],
   "source": [
    "model.evaluate(X_test.reshape(-1, 784), y_test)"
   ]
  },
  {
   "cell_type": "code",
   "execution_count": 51,
   "metadata": {},
   "outputs": [],
   "source": [
    "predictions = model.predict(X_test.reshape(-1, 784))"
   ]
  },
  {
   "cell_type": "code",
   "execution_count": 52,
   "metadata": {},
   "outputs": [
    {
     "data": {
      "text/plain": [
       "array([0.04052383, 0.01013587, 0.6088565 , 0.01352766, 0.11325114,\n",
       "       0.01926491, 0.15268987, 0.0048103 , 0.02799441, 0.00894551],\n",
       "      dtype=float32)"
      ]
     },
     "execution_count": 52,
     "metadata": {},
     "output_type": "execute_result"
    }
   ],
   "source": [
    "predictions[1]"
   ]
  },
  {
   "cell_type": "code",
   "execution_count": 53,
   "metadata": {},
   "outputs": [
    {
     "data": {
      "text/plain": [
       "1.0"
      ]
     },
     "execution_count": 53,
     "metadata": {},
     "output_type": "execute_result"
    }
   ],
   "source": [
    "np.sum(predictions[1])"
   ]
  },
  {
   "cell_type": "code",
   "execution_count": null,
   "metadata": {},
   "outputs": [],
   "source": []
  }
 ],
 "metadata": {
  "kernelspec": {
   "display_name": "Python 3",
   "language": "python",
   "name": "python3"
  },
  "language_info": {
   "codemirror_mode": {
    "name": "ipython",
    "version": 3
   },
   "file_extension": ".py",
   "mimetype": "text/x-python",
   "name": "python",
   "nbconvert_exporter": "python",
   "pygments_lexer": "ipython3",
   "version": "3.8.5"
  }
 },
 "nbformat": 4,
 "nbformat_minor": 2
}
