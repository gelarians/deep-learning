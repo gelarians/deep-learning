{
 "cells": [
  {
   "cell_type": "code",
   "execution_count": 1,
   "metadata": {},
   "outputs": [],
   "source": [
    "# Vorstellung: MNIST-Daten!\n",
    "# http://yann.lecun.com/exdb/mnist/\n",
    "# FashionMNIST: https://github.com/zalandoresearch/fashion-mnist\n",
    "\n",
    "import gzip\n",
    "import numpy as np\n",
    "from tensorflow.keras.utils import to_categorical\n",
    "\n",
    "def open_images(filename):\n",
    "    with gzip.open(filename, \"rb\") as file:\n",
    "        data = file.read()\n",
    "        return np.frombuffer(data, dtype=np.uint8, offset=16)\\\n",
    "            .reshape(-1, 28, 28)\\\n",
    "            .astype(np.float32)\n",
    "\n",
    "\n",
    "def open_labels(filename):\n",
    "    with gzip.open(filename, \"rb\") as file:\n",
    "        data = file.read()\n",
    "        return np.frombuffer(data, dtype=np.uint8, offset=8)\n",
    "    \n",
    "X_train = open_images(\"../data/fashion/train-images-idx3-ubyte.gz\")\n",
    "y_train = open_labels(\"../data/fashion/train-labels-idx1-ubyte.gz\")\n",
    "\n",
    "X_test = open_images(\"../data/fashion/t10k-images-idx3-ubyte.gz\")\n",
    "y_test = open_labels(\"../data/fashion/t10k-labels-idx1-ubyte.gz\")\n",
    "\n",
    "y_train = to_categorical(y_train)\n",
    "y_test = to_categorical(y_test)"
   ]
  },
  {
   "cell_type": "markdown",
   "metadata": {},
   "source": [
    "### Neuronales Netz (mit Softmax)"
   ]
  },
  {
   "cell_type": "code",
   "execution_count": 2,
   "metadata": {},
   "outputs": [],
   "source": [
    "from tensorflow.keras.models import Sequential\n",
    "from tensorflow.keras.layers import Dense"
   ]
  },
  {
   "cell_type": "code",
   "execution_count": 3,
   "metadata": {},
   "outputs": [],
   "source": [
    "model = Sequential()\n",
    "\n",
    "model.add(Dense(200, activation=\"sigmoid\", input_shape=(784,)))\n",
    "model.add(Dense(100, activation=\"sigmoid\", input_shape=(784,)))\n",
    "model.add(Dense(10, activation=\"softmax\"))\n",
    "\n",
    "# rmsprop, adam\n",
    "model.compile(optimizer=\"adam\", loss=\"categorical_crossentropy\", metrics=[\"accuracy\"])"
   ]
  },
  {
   "cell_type": "code",
   "execution_count": 4,
   "metadata": {},
   "outputs": [
    {
     "name": "stdout",
     "output_type": "stream",
     "text": [
      "Epoch 1/100\n",
      "60/60 [==============================] - 1s 5ms/step - loss: 1.7111 - accuracy: 0.5381\n",
      "Epoch 2/100\n",
      "60/60 [==============================] - 0s 5ms/step - loss: 0.7353 - accuracy: 0.7690\n",
      "Epoch 3/100\n",
      "60/60 [==============================] - 0s 5ms/step - loss: 0.5974 - accuracy: 0.8005\n",
      "Epoch 4/100\n",
      "60/60 [==============================] - 0s 5ms/step - loss: 0.5479 - accuracy: 0.8148\n",
      "Epoch 5/100\n",
      "60/60 [==============================] - 0s 5ms/step - loss: 0.5168 - accuracy: 0.8259\n",
      "Epoch 6/100\n",
      "60/60 [==============================] - 0s 5ms/step - loss: 0.5125 - accuracy: 0.8187\n",
      "Epoch 7/100\n",
      "60/60 [==============================] - 0s 5ms/step - loss: 0.5007 - accuracy: 0.8249\n",
      "Epoch 8/100\n",
      "60/60 [==============================] - 0s 5ms/step - loss: 0.4917 - accuracy: 0.8301\n",
      "Epoch 9/100\n",
      "60/60 [==============================] - 0s 5ms/step - loss: 0.4913 - accuracy: 0.8250\n",
      "Epoch 10/100\n",
      "60/60 [==============================] - 0s 5ms/step - loss: 0.4812 - accuracy: 0.8298\n",
      "Epoch 11/100\n",
      "60/60 [==============================] - 0s 6ms/step - loss: 0.4994 - accuracy: 0.8237\n",
      "Epoch 12/100\n",
      "60/60 [==============================] - 0s 6ms/step - loss: 0.4864 - accuracy: 0.8270\n",
      "Epoch 13/100\n",
      "60/60 [==============================] - 0s 6ms/step - loss: 0.4816 - accuracy: 0.8323\n",
      "Epoch 14/100\n",
      "60/60 [==============================] - 0s 6ms/step - loss: 0.4862 - accuracy: 0.8235\n",
      "Epoch 15/100\n",
      "60/60 [==============================] - 0s 6ms/step - loss: 0.5001 - accuracy: 0.8227\n",
      "Epoch 16/100\n",
      "60/60 [==============================] - 0s 6ms/step - loss: 0.4871 - accuracy: 0.8270\n",
      "Epoch 17/100\n",
      "60/60 [==============================] - 0s 6ms/step - loss: 0.4759 - accuracy: 0.8301\n",
      "Epoch 18/100\n",
      "60/60 [==============================] - 0s 6ms/step - loss: 0.4788 - accuracy: 0.8246\n",
      "Epoch 19/100\n",
      "60/60 [==============================] - 0s 6ms/step - loss: 0.4800 - accuracy: 0.8287\n",
      "Epoch 20/100\n",
      "60/60 [==============================] - 0s 6ms/step - loss: 0.4680 - accuracy: 0.8340\n",
      "Epoch 21/100\n",
      "60/60 [==============================] - 0s 6ms/step - loss: 0.4735 - accuracy: 0.8265\n",
      "Epoch 22/100\n",
      "60/60 [==============================] - 0s 7ms/step - loss: 0.4815 - accuracy: 0.8278\n",
      "Epoch 23/100\n",
      "60/60 [==============================] - 0s 6ms/step - loss: 0.4750 - accuracy: 0.8285\n",
      "Epoch 24/100\n",
      "60/60 [==============================] - 0s 6ms/step - loss: 0.4637 - accuracy: 0.8312\n",
      "Epoch 25/100\n",
      "60/60 [==============================] - 0s 6ms/step - loss: 0.4734 - accuracy: 0.8290\n",
      "Epoch 26/100\n",
      "60/60 [==============================] - 0s 7ms/step - loss: 0.4778 - accuracy: 0.8322\n",
      "Epoch 27/100\n",
      "60/60 [==============================] - 0s 7ms/step - loss: 0.4703 - accuracy: 0.8346\n",
      "Epoch 28/100\n",
      "60/60 [==============================] - 0s 7ms/step - loss: 0.4873 - accuracy: 0.8230\n",
      "Epoch 29/100\n",
      "60/60 [==============================] - 0s 7ms/step - loss: 0.4593 - accuracy: 0.8354\n",
      "Epoch 30/100\n",
      "60/60 [==============================] - 0s 7ms/step - loss: 0.4639 - accuracy: 0.8310\n",
      "Epoch 31/100\n",
      "60/60 [==============================] - 0s 7ms/step - loss: 0.4659 - accuracy: 0.8337\n",
      "Epoch 32/100\n",
      "60/60 [==============================] - 0s 7ms/step - loss: 0.4667 - accuracy: 0.8360\n",
      "Epoch 33/100\n",
      "60/60 [==============================] - 0s 7ms/step - loss: 0.4768 - accuracy: 0.8261\n",
      "Epoch 34/100\n",
      "60/60 [==============================] - 0s 7ms/step - loss: 0.4669 - accuracy: 0.8336\n",
      "Epoch 35/100\n",
      "60/60 [==============================] - 0s 7ms/step - loss: 0.4655 - accuracy: 0.8365\n",
      "Epoch 36/100\n",
      "60/60 [==============================] - 0s 6ms/step - loss: 0.4633 - accuracy: 0.8297\n",
      "Epoch 37/100\n",
      "60/60 [==============================] - 0s 7ms/step - loss: 0.4621 - accuracy: 0.8290\n",
      "Epoch 38/100\n",
      "60/60 [==============================] - 0s 6ms/step - loss: 0.4700 - accuracy: 0.8260\n",
      "Epoch 39/100\n",
      "60/60 [==============================] - 0s 7ms/step - loss: 0.4673 - accuracy: 0.8290\n",
      "Epoch 40/100\n",
      "60/60 [==============================] - 0s 6ms/step - loss: 0.4765 - accuracy: 0.8248\n",
      "Epoch 41/100\n",
      "60/60 [==============================] - 0s 6ms/step - loss: 0.4695 - accuracy: 0.8297\n",
      "Epoch 42/100\n",
      "60/60 [==============================] - 0s 7ms/step - loss: 0.4639 - accuracy: 0.8329\n",
      "Epoch 43/100\n",
      "60/60 [==============================] - 0s 7ms/step - loss: 0.4707 - accuracy: 0.8291\n",
      "Epoch 44/100\n",
      "60/60 [==============================] - 0s 7ms/step - loss: 0.4476 - accuracy: 0.8372\n",
      "Epoch 45/100\n",
      "60/60 [==============================] - 0s 6ms/step - loss: 0.4491 - accuracy: 0.8324\n",
      "Epoch 46/100\n",
      "60/60 [==============================] - 0s 7ms/step - loss: 0.4472 - accuracy: 0.8395\n",
      "Epoch 47/100\n",
      "60/60 [==============================] - 0s 6ms/step - loss: 0.4580 - accuracy: 0.8330\n",
      "Epoch 48/100\n",
      "60/60 [==============================] - 0s 6ms/step - loss: 0.4535 - accuracy: 0.8344\n",
      "Epoch 49/100\n",
      "60/60 [==============================] - 0s 6ms/step - loss: 0.4479 - accuracy: 0.8398\n",
      "Epoch 50/100\n",
      "60/60 [==============================] - 0s 6ms/step - loss: 0.4426 - accuracy: 0.8424\n",
      "Epoch 51/100\n",
      "60/60 [==============================] - 0s 7ms/step - loss: 0.4300 - accuracy: 0.8468\n",
      "Epoch 52/100\n",
      "60/60 [==============================] - 0s 6ms/step - loss: 0.4366 - accuracy: 0.8438\n",
      "Epoch 53/100\n",
      "60/60 [==============================] - 0s 6ms/step - loss: 0.4577 - accuracy: 0.8313\n",
      "Epoch 54/100\n",
      "60/60 [==============================] - 0s 7ms/step - loss: 0.4460 - accuracy: 0.8366\n",
      "Epoch 55/100\n",
      "60/60 [==============================] - 0s 6ms/step - loss: 0.4457 - accuracy: 0.8406\n",
      "Epoch 56/100\n",
      "60/60 [==============================] - 0s 6ms/step - loss: 0.4479 - accuracy: 0.8398\n",
      "Epoch 57/100\n",
      "60/60 [==============================] - 0s 6ms/step - loss: 0.4231 - accuracy: 0.8509\n",
      "Epoch 58/100\n",
      "60/60 [==============================] - 0s 6ms/step - loss: 0.4485 - accuracy: 0.8383\n",
      "Epoch 59/100\n",
      "60/60 [==============================] - 0s 8ms/step - loss: 0.4372 - accuracy: 0.8408\n",
      "Epoch 60/100\n",
      "60/60 [==============================] - 0s 8ms/step - loss: 0.4475 - accuracy: 0.8354\n",
      "Epoch 61/100\n",
      "60/60 [==============================] - 0s 6ms/step - loss: 0.4441 - accuracy: 0.8375\n",
      "Epoch 62/100\n",
      "60/60 [==============================] - 0s 6ms/step - loss: 0.4415 - accuracy: 0.8393\n",
      "Epoch 63/100\n",
      "60/60 [==============================] - 0s 7ms/step - loss: 0.4185 - accuracy: 0.8504\n",
      "Epoch 64/100\n",
      "60/60 [==============================] - 0s 6ms/step - loss: 0.4280 - accuracy: 0.8456\n",
      "Epoch 65/100\n",
      "60/60 [==============================] - 0s 6ms/step - loss: 0.4325 - accuracy: 0.8425\n",
      "Epoch 66/100\n",
      "60/60 [==============================] - 0s 6ms/step - loss: 0.4376 - accuracy: 0.8420\n",
      "Epoch 67/100\n",
      "60/60 [==============================] - 0s 6ms/step - loss: 0.4323 - accuracy: 0.8462\n",
      "Epoch 68/100\n",
      "60/60 [==============================] - 0s 6ms/step - loss: 0.4280 - accuracy: 0.8445\n",
      "Epoch 69/100\n",
      "60/60 [==============================] - 0s 6ms/step - loss: 0.4249 - accuracy: 0.8465\n",
      "Epoch 70/100\n",
      "60/60 [==============================] - 0s 6ms/step - loss: 0.4260 - accuracy: 0.8468\n",
      "Epoch 71/100\n",
      "60/60 [==============================] - 0s 6ms/step - loss: 0.4240 - accuracy: 0.8431\n",
      "Epoch 72/100\n",
      "60/60 [==============================] - 0s 6ms/step - loss: 0.4219 - accuracy: 0.8459\n",
      "Epoch 73/100\n",
      "60/60 [==============================] - 0s 6ms/step - loss: 0.4150 - accuracy: 0.8449\n",
      "Epoch 74/100\n",
      "60/60 [==============================] - 0s 7ms/step - loss: 0.4107 - accuracy: 0.8525\n",
      "Epoch 75/100\n",
      "60/60 [==============================] - 0s 6ms/step - loss: 0.4330 - accuracy: 0.8400\n",
      "Epoch 76/100\n",
      "60/60 [==============================] - 0s 6ms/step - loss: 0.4288 - accuracy: 0.8446\n",
      "Epoch 77/100\n",
      "60/60 [==============================] - 0s 6ms/step - loss: 0.4251 - accuracy: 0.8478\n",
      "Epoch 78/100\n",
      "60/60 [==============================] - 0s 6ms/step - loss: 0.4232 - accuracy: 0.8476\n",
      "Epoch 79/100\n",
      "60/60 [==============================] - 0s 6ms/step - loss: 0.4272 - accuracy: 0.8440\n",
      "Epoch 80/100\n",
      "60/60 [==============================] - 0s 6ms/step - loss: 0.4220 - accuracy: 0.8474\n",
      "Epoch 81/100\n",
      "60/60 [==============================] - 0s 6ms/step - loss: 0.4318 - accuracy: 0.8397\n",
      "Epoch 82/100\n",
      "60/60 [==============================] - 0s 6ms/step - loss: 0.4221 - accuracy: 0.8476\n",
      "Epoch 83/100\n"
     ]
    },
    {
     "name": "stdout",
     "output_type": "stream",
     "text": [
      "60/60 [==============================] - 0s 6ms/step - loss: 0.4054 - accuracy: 0.8553\n",
      "Epoch 84/100\n",
      "60/60 [==============================] - 0s 6ms/step - loss: 0.4056 - accuracy: 0.8563\n",
      "Epoch 85/100\n",
      "60/60 [==============================] - 0s 7ms/step - loss: 0.4110 - accuracy: 0.8488\n",
      "Epoch 86/100\n",
      "60/60 [==============================] - 0s 7ms/step - loss: 0.4147 - accuracy: 0.8527\n",
      "Epoch 87/100\n",
      "60/60 [==============================] - 0s 6ms/step - loss: 0.4101 - accuracy: 0.8504\n",
      "Epoch 88/100\n",
      "60/60 [==============================] - 0s 6ms/step - loss: 0.4087 - accuracy: 0.8533\n",
      "Epoch 89/100\n",
      "60/60 [==============================] - 0s 6ms/step - loss: 0.4088 - accuracy: 0.8549\n",
      "Epoch 90/100\n",
      "60/60 [==============================] - 0s 6ms/step - loss: 0.4175 - accuracy: 0.8482\n",
      "Epoch 91/100\n",
      "60/60 [==============================] - 0s 6ms/step - loss: 0.4067 - accuracy: 0.8521\n",
      "Epoch 92/100\n",
      "60/60 [==============================] - 0s 6ms/step - loss: 0.4124 - accuracy: 0.8479\n",
      "Epoch 93/100\n",
      "60/60 [==============================] - 0s 6ms/step - loss: 0.3992 - accuracy: 0.8559\n",
      "Epoch 94/100\n",
      "60/60 [==============================] - 0s 7ms/step - loss: 0.4083 - accuracy: 0.8543\n",
      "Epoch 95/100\n",
      "60/60 [==============================] - 0s 6ms/step - loss: 0.4104 - accuracy: 0.8497\n",
      "Epoch 96/100\n",
      "60/60 [==============================] - 0s 6ms/step - loss: 0.4070 - accuracy: 0.8530\n",
      "Epoch 97/100\n",
      "60/60 [==============================] - 0s 6ms/step - loss: 0.4080 - accuracy: 0.8530\n",
      "Epoch 98/100\n",
      "60/60 [==============================] - 0s 6ms/step - loss: 0.4107 - accuracy: 0.8514\n",
      "Epoch 99/100\n",
      "60/60 [==============================] - 0s 6ms/step - loss: 0.4018 - accuracy: 0.8566\n",
      "Epoch 100/100\n",
      "60/60 [==============================] - 0s 6ms/step - loss: 0.4173 - accuracy: 0.8499\n"
     ]
    },
    {
     "data": {
      "text/plain": [
       "<tensorflow.python.keras.callbacks.History at 0x7fd17ef658b0>"
      ]
     },
     "execution_count": 4,
     "metadata": {},
     "output_type": "execute_result"
    }
   ],
   "source": [
    "model.fit(\n",
    "    X_train.reshape(60000, 784),\n",
    "    y_train,\n",
    "    epochs=100,\n",
    "    batch_size=1000)"
   ]
  },
  {
   "cell_type": "markdown",
   "metadata": {},
   "source": [
    "### Es gilt: Das Netz passt sich an die Daten an.\n",
    "\n",
    "- Testgenauigkeit nur minimal schlechter wie die Trainingsgenauigkeit: Das Modell darf vermutlich noch was komplexer sein \n",
    "\n",
    "- Testgenauigkeit sehr viel schlechter wie die Trainingsgenauigkeit: Das Modell ist zu komplex (das Modell hat sich zu stark an die Trainingsdaten angepasst)\n",
    "\n",
    "- Beides schlecht: Du brauchst mehr Daten!"
   ]
  },
  {
   "cell_type": "code",
   "execution_count": 15,
   "metadata": {},
   "outputs": [
    {
     "name": "stdout",
     "output_type": "stream",
     "text": [
      "60000/60000 [==============================] - 2s 28us/step\n"
     ]
    },
    {
     "data": {
      "text/plain": [
       "[0.41246314092874525, 0.8516333333333334]"
      ]
     },
     "execution_count": 15,
     "metadata": {},
     "output_type": "execute_result"
    }
   ],
   "source": [
    "model.evaluate(X_train.reshape(-1, 784), y_train)"
   ]
  },
  {
   "cell_type": "code",
   "execution_count": 16,
   "metadata": {},
   "outputs": [
    {
     "name": "stdout",
     "output_type": "stream",
     "text": [
      "10000/10000 [==============================] - 0s 28us/step\n"
     ]
    },
    {
     "data": {
      "text/plain": [
       "[0.4634205700159073, 0.833]"
      ]
     },
     "execution_count": 16,
     "metadata": {},
     "output_type": "execute_result"
    }
   ],
   "source": [
    "model.evaluate(X_test.reshape(-1, 784), y_test)"
   ]
  },
  {
   "cell_type": "code",
   "execution_count": null,
   "metadata": {},
   "outputs": [],
   "source": []
  }
 ],
 "metadata": {
  "kernelspec": {
   "display_name": "Python 3",
   "language": "python",
   "name": "python3"
  },
  "language_info": {
   "codemirror_mode": {
    "name": "ipython",
    "version": 3
   },
   "file_extension": ".py",
   "mimetype": "text/x-python",
   "name": "python",
   "nbconvert_exporter": "python",
   "pygments_lexer": "ipython3",
   "version": "3.8.5"
  }
 },
 "nbformat": 4,
 "nbformat_minor": 2
}
