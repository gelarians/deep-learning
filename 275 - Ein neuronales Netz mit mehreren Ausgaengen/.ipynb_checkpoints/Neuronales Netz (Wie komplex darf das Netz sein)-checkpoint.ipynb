{
 "cells": [
  {
   "cell_type": "code",
   "execution_count": 5,
   "metadata": {},
   "outputs": [],
   "source": [
    "# Vorstellung: MNIST-Daten!\n",
    "# http://yann.lecun.com/exdb/mnist/\n",
    "# FashionMNIST: https://github.com/zalandoresearch/fashion-mnist\n",
    "\n",
    "import gzip\n",
    "import numpy as np\n",
    "from keras.utils import to_categorical\n",
    "\n",
    "def open_images(filename):\n",
    "    with gzip.open(filename, \"rb\") as file:\n",
    "        data = file.read()\n",
    "        return np.frombuffer(data, dtype=np.uint8, offset=16)\\\n",
    "            .reshape(-1, 28, 28)\\\n",
    "            .astype(np.float32)\n",
    "\n",
    "\n",
    "def open_labels(filename):\n",
    "    with gzip.open(filename, \"rb\") as file:\n",
    "        data = file.read()\n",
    "        return np.frombuffer(data, dtype=np.uint8, offset=8)\n",
    "    \n",
    "X_train = open_images(\"../data/fashion/train-images-idx3-ubyte.gz\")\n",
    "y_train = open_labels(\"../data/fashion/train-labels-idx1-ubyte.gz\")\n",
    "\n",
    "X_test = open_images(\"../data/fashion/t10k-images-idx3-ubyte.gz\")\n",
    "y_test = open_labels(\"../data/fashion/t10k-labels-idx1-ubyte.gz\")\n",
    "\n",
    "y_train = to_categorical(y_train)\n",
    "y_test = to_categorical(y_test)"
   ]
  },
  {
   "cell_type": "markdown",
   "metadata": {},
   "source": [
    "### Neuronales Netz (mit Softmax)"
   ]
  },
  {
   "cell_type": "code",
   "execution_count": 2,
   "metadata": {},
   "outputs": [],
   "source": [
    "from keras.models import Sequential\n",
    "from keras.layers import Dense"
   ]
  },
  {
   "cell_type": "code",
   "execution_count": 13,
   "metadata": {},
   "outputs": [],
   "source": [
    "model = Sequential()\n",
    "\n",
    "model.add(Dense(200, activation=\"sigmoid\", input_shape=(784,)))\n",
    "model.add(Dense(100, activation=\"sigmoid\", input_shape=(784,)))\n",
    "model.add(Dense(10, activation=\"softmax\"))\n",
    "\n",
    "# rmsprop, adam\n",
    "model.compile(optimizer=\"adam\", loss=\"categorical_crossentropy\", metrics=[\"accuracy\"])"
   ]
  },
  {
   "cell_type": "code",
   "execution_count": 14,
   "metadata": {},
   "outputs": [
    {
     "name": "stdout",
     "output_type": "stream",
     "text": [
      "Epoch 1/100\n",
      "60000/60000 [==============================] - 1s 18us/step - loss: 1.3537 - acc: 0.6495\n",
      "Epoch 2/100\n",
      "60000/60000 [==============================] - 1s 14us/step - loss: 0.6926 - acc: 0.7787\n",
      "Epoch 3/100\n",
      "60000/60000 [==============================] - 1s 13us/step - loss: 0.5755 - acc: 0.8097\n",
      "Epoch 4/100\n",
      "60000/60000 [==============================] - 1s 13us/step - loss: 0.5365 - acc: 0.8183\n",
      "Epoch 5/100\n",
      "60000/60000 [==============================] - 1s 13us/step - loss: 0.5195 - acc: 0.8223\n",
      "Epoch 6/100\n",
      "60000/60000 [==============================] - 1s 13us/step - loss: 0.5149 - acc: 0.8210\n",
      "Epoch 7/100\n",
      "60000/60000 [==============================] - 1s 13us/step - loss: 0.5085 - acc: 0.8214\n",
      "Epoch 8/100\n",
      "60000/60000 [==============================] - 1s 13us/step - loss: 0.4982 - acc: 0.8253\n",
      "Epoch 9/100\n",
      "60000/60000 [==============================] - 1s 13us/step - loss: 0.4896 - acc: 0.8277\n",
      "Epoch 10/100\n",
      "60000/60000 [==============================] - 1s 14us/step - loss: 0.4821 - acc: 0.8323: 0s - loss: 0.4703 -\n",
      "Epoch 11/100\n",
      "60000/60000 [==============================] - 1s 13us/step - loss: 0.4841 - acc: 0.8314\n",
      "Epoch 12/100\n",
      "60000/60000 [==============================] - 1s 13us/step - loss: 0.4903 - acc: 0.8262\n",
      "Epoch 13/100\n",
      "60000/60000 [==============================] - 1s 13us/step - loss: 0.4790 - acc: 0.8292\n",
      "Epoch 14/100\n",
      "60000/60000 [==============================] - 1s 13us/step - loss: 0.4944 - acc: 0.8215\n",
      "Epoch 15/100\n",
      "60000/60000 [==============================] - 1s 13us/step - loss: 0.4812 - acc: 0.8249\n",
      "Epoch 16/100\n",
      "60000/60000 [==============================] - 1s 14us/step - loss: 0.4734 - acc: 0.8298\n",
      "Epoch 17/100\n",
      "60000/60000 [==============================] - 1s 15us/step - loss: 0.4779 - acc: 0.8274\n",
      "Epoch 18/100\n",
      "60000/60000 [==============================] - 1s 14us/step - loss: 0.4847 - acc: 0.8250\n",
      "Epoch 19/100\n",
      "60000/60000 [==============================] - ETA: 0s - loss: 0.4656 - acc: 0.832 - 1s 13us/step - loss: 0.4653 - acc: 0.8328\n",
      "Epoch 20/100\n",
      "60000/60000 [==============================] - 1s 13us/step - loss: 0.4801 - acc: 0.8259\n",
      "Epoch 21/100\n",
      "60000/60000 [==============================] - 1s 14us/step - loss: 0.4819 - acc: 0.8270\n",
      "Epoch 22/100\n",
      "60000/60000 [==============================] - 1s 14us/step - loss: 0.4825 - acc: 0.8270\n",
      "Epoch 23/100\n",
      "60000/60000 [==============================] - 1s 13us/step - loss: 0.4626 - acc: 0.8330\n",
      "Epoch 24/100\n",
      "60000/60000 [==============================] - 1s 13us/step - loss: 0.4790 - acc: 0.8269\n",
      "Epoch 25/100\n",
      "60000/60000 [==============================] - 1s 14us/step - loss: 0.4773 - acc: 0.8238\n",
      "Epoch 26/100\n",
      "60000/60000 [==============================] - 1s 18us/step - loss: 0.4767 - acc: 0.8284\n",
      "Epoch 27/100\n",
      "60000/60000 [==============================] - 1s 14us/step - loss: 0.4802 - acc: 0.8238\n",
      "Epoch 28/100\n",
      "60000/60000 [==============================] - 1s 13us/step - loss: 0.4768 - acc: 0.8295\n",
      "Epoch 29/100\n",
      "60000/60000 [==============================] - 1s 12us/step - loss: 0.4654 - acc: 0.8306\n",
      "Epoch 30/100\n",
      "60000/60000 [==============================] - 1s 12us/step - loss: 0.4655 - acc: 0.8296\n",
      "Epoch 31/100\n",
      "60000/60000 [==============================] - 1s 12us/step - loss: 0.4647 - acc: 0.8313\n",
      "Epoch 32/100\n",
      "60000/60000 [==============================] - 1s 12us/step - loss: 0.4651 - acc: 0.8318\n",
      "Epoch 33/100\n",
      "60000/60000 [==============================] - 1s 12us/step - loss: 0.4731 - acc: 0.8282\n",
      "Epoch 34/100\n",
      "60000/60000 [==============================] - 1s 13us/step - loss: 0.4632 - acc: 0.8341\n",
      "Epoch 35/100\n",
      "60000/60000 [==============================] - 1s 15us/step - loss: 0.4727 - acc: 0.8300\n",
      "Epoch 36/100\n",
      "60000/60000 [==============================] - 1s 13us/step - loss: 0.4711 - acc: 0.8281\n",
      "Epoch 37/100\n",
      "60000/60000 [==============================] - ETA: 0s - loss: 0.4686 - acc: 0.828 - 1s 14us/step - loss: 0.4688 - acc: 0.8290\n",
      "Epoch 38/100\n",
      "60000/60000 [==============================] - 1s 14us/step - loss: 0.4610 - acc: 0.8320\n",
      "Epoch 39/100\n",
      "60000/60000 [==============================] - 1s 15us/step - loss: 0.4749 - acc: 0.8273\n",
      "Epoch 40/100\n",
      "60000/60000 [==============================] - 1s 14us/step - loss: 0.4565 - acc: 0.8354\n",
      "Epoch 41/100\n",
      "60000/60000 [==============================] - 1s 13us/step - loss: 0.4651 - acc: 0.8282\n",
      "Epoch 42/100\n",
      "60000/60000 [==============================] - 1s 14us/step - loss: 0.4670 - acc: 0.8289\n",
      "Epoch 43/100\n",
      "60000/60000 [==============================] - 1s 15us/step - loss: 0.4495 - acc: 0.8387\n",
      "Epoch 44/100\n",
      "60000/60000 [==============================] - 1s 13us/step - loss: 0.4635 - acc: 0.8325\n",
      "Epoch 45/100\n",
      "60000/60000 [==============================] - 1s 12us/step - loss: 0.4683 - acc: 0.8247\n",
      "Epoch 46/100\n",
      "60000/60000 [==============================] - 1s 13us/step - loss: 0.4792 - acc: 0.8263\n",
      "Epoch 47/100\n",
      "60000/60000 [==============================] - 1s 12us/step - loss: 0.4704 - acc: 0.8283\n",
      "Epoch 48/100\n",
      "60000/60000 [==============================] - 1s 13us/step - loss: 0.4701 - acc: 0.8294\n",
      "Epoch 49/100\n",
      "60000/60000 [==============================] - 1s 13us/step - loss: 0.4663 - acc: 0.8289\n",
      "Epoch 50/100\n",
      "60000/60000 [==============================] - 1s 12us/step - loss: 0.4525 - acc: 0.8357\n",
      "Epoch 51/100\n",
      "60000/60000 [==============================] - 1s 12us/step - loss: 0.4485 - acc: 0.8375\n",
      "Epoch 52/100\n",
      "60000/60000 [==============================] - 1s 13us/step - loss: 0.4594 - acc: 0.8353\n",
      "Epoch 53/100\n",
      "60000/60000 [==============================] - 1s 12us/step - loss: 0.4417 - acc: 0.8388\n",
      "Epoch 54/100\n",
      "60000/60000 [==============================] - 1s 16us/step - loss: 0.4438 - acc: 0.8390\n",
      "Epoch 55/100\n",
      "60000/60000 [==============================] - 1s 18us/step - loss: 0.4470 - acc: 0.8382\n",
      "Epoch 56/100\n",
      "60000/60000 [==============================] - 1s 18us/step - loss: 0.4512 - acc: 0.8359\n",
      "Epoch 57/100\n",
      "60000/60000 [==============================] - 1s 19us/step - loss: 0.4418 - acc: 0.8415\n",
      "Epoch 58/100\n",
      "60000/60000 [==============================] - 1s 17us/step - loss: 0.4427 - acc: 0.8376\n",
      "Epoch 59/100\n",
      "60000/60000 [==============================] - 1s 15us/step - loss: 0.4350 - acc: 0.8426\n",
      "Epoch 60/100\n",
      "60000/60000 [==============================] - 1s 15us/step - loss: 0.4323 - acc: 0.8423\n",
      "Epoch 61/100\n",
      "60000/60000 [==============================] - 1s 15us/step - loss: 0.4326 - acc: 0.8424\n",
      "Epoch 62/100\n",
      "60000/60000 [==============================] - 1s 18us/step - loss: 0.4446 - acc: 0.8368\n",
      "Epoch 63/100\n",
      "60000/60000 [==============================] - 1s 16us/step - loss: 0.4369 - acc: 0.8398\n",
      "Epoch 64/100\n",
      "60000/60000 [==============================] - 1s 16us/step - loss: 0.4296 - acc: 0.8429\n",
      "Epoch 65/100\n",
      "60000/60000 [==============================] - 1s 15us/step - loss: 0.4318 - acc: 0.8437\n",
      "Epoch 66/100\n",
      "60000/60000 [==============================] - 1s 15us/step - loss: 0.4318 - acc: 0.8467\n",
      "Epoch 67/100\n",
      "60000/60000 [==============================] - 1s 15us/step - loss: 0.4350 - acc: 0.8408\n",
      "Epoch 68/100\n",
      "60000/60000 [==============================] - 1s 17us/step - loss: 0.4348 - acc: 0.8429\n",
      "Epoch 69/100\n",
      "60000/60000 [==============================] - 1s 15us/step - loss: 0.4378 - acc: 0.8441\n",
      "Epoch 70/100\n",
      "60000/60000 [==============================] - 1s 14us/step - loss: 0.4314 - acc: 0.8448\n",
      "Epoch 71/100\n",
      "60000/60000 [==============================] - 1s 14us/step - loss: 0.4260 - acc: 0.8464\n",
      "Epoch 72/100\n",
      "60000/60000 [==============================] - 1s 15us/step - loss: 0.4239 - acc: 0.8454\n",
      "Epoch 73/100\n",
      "60000/60000 [==============================] - 1s 17us/step - loss: 0.4230 - acc: 0.8484\n",
      "Epoch 74/100\n",
      "60000/60000 [==============================] - 1s 16us/step - loss: 0.4272 - acc: 0.8454\n",
      "Epoch 75/100\n",
      "60000/60000 [==============================] - 1s 17us/step - loss: 0.4210 - acc: 0.8466\n",
      "Epoch 76/100\n",
      "60000/60000 [==============================] - 1s 16us/step - loss: 0.4245 - acc: 0.8451\n",
      "Epoch 77/100\n",
      "60000/60000 [==============================] - 1s 15us/step - loss: 0.4257 - acc: 0.8457\n",
      "Epoch 78/100\n",
      "60000/60000 [==============================] - 1s 15us/step - loss: 0.4394 - acc: 0.8381\n",
      "Epoch 79/100\n",
      "60000/60000 [==============================] - 1s 16us/step - loss: 0.4424 - acc: 0.8383\n",
      "Epoch 80/100\n"
     ]
    },
    {
     "name": "stdout",
     "output_type": "stream",
     "text": [
      "60000/60000 [==============================] - 1s 15us/step - loss: 0.4263 - acc: 0.8484\n",
      "Epoch 81/100\n",
      "60000/60000 [==============================] - 1s 13us/step - loss: 0.4195 - acc: 0.8474\n",
      "Epoch 82/100\n",
      "60000/60000 [==============================] - 1s 13us/step - loss: 0.4355 - acc: 0.8364\n",
      "Epoch 83/100\n",
      "60000/60000 [==============================] - 1s 13us/step - loss: 0.4282 - acc: 0.8412\n",
      "Epoch 84/100\n",
      "60000/60000 [==============================] - 1s 13us/step - loss: 0.4095 - acc: 0.8516\n",
      "Epoch 85/100\n",
      "60000/60000 [==============================] - 1s 13us/step - loss: 0.4085 - acc: 0.8527\n",
      "Epoch 86/100\n",
      "60000/60000 [==============================] - 1s 12us/step - loss: 0.4142 - acc: 0.8475\n",
      "Epoch 87/100\n",
      "60000/60000 [==============================] - 1s 13us/step - loss: 0.4132 - acc: 0.8498\n",
      "Epoch 88/100\n",
      "60000/60000 [==============================] - 1s 12us/step - loss: 0.4130 - acc: 0.8490\n",
      "Epoch 89/100\n",
      "60000/60000 [==============================] - 1s 12us/step - loss: 0.4168 - acc: 0.8470\n",
      "Epoch 90/100\n",
      "60000/60000 [==============================] - 1s 12us/step - loss: 0.4163 - acc: 0.8467\n",
      "Epoch 91/100\n",
      "60000/60000 [==============================] - 1s 12us/step - loss: 0.4145 - acc: 0.8483\n",
      "Epoch 92/100\n",
      "60000/60000 [==============================] - 1s 12us/step - loss: 0.4081 - acc: 0.8512\n",
      "Epoch 93/100\n",
      "60000/60000 [==============================] - 1s 13us/step - loss: 0.4026 - acc: 0.8540\n",
      "Epoch 94/100\n",
      "60000/60000 [==============================] - 1s 12us/step - loss: 0.3997 - acc: 0.8548\n",
      "Epoch 95/100\n",
      "60000/60000 [==============================] - 1s 12us/step - loss: 0.4091 - acc: 0.8497\n",
      "Epoch 96/100\n",
      "60000/60000 [==============================] - 1s 12us/step - loss: 0.4074 - acc: 0.8513\n",
      "Epoch 97/100\n",
      "60000/60000 [==============================] - 1s 12us/step - loss: 0.4017 - acc: 0.8540\n",
      "Epoch 98/100\n",
      "60000/60000 [==============================] - 1s 13us/step - loss: 0.4196 - acc: 0.8474\n",
      "Epoch 99/100\n",
      "60000/60000 [==============================] - 1s 15us/step - loss: 0.4012 - acc: 0.8533\n",
      "Epoch 100/100\n",
      "60000/60000 [==============================] - 1s 15us/step - loss: 0.4081 - acc: 0.8542\n"
     ]
    },
    {
     "data": {
      "text/plain": [
       "<keras.callbacks.History at 0xb17a3f320>"
      ]
     },
     "execution_count": 14,
     "metadata": {},
     "output_type": "execute_result"
    }
   ],
   "source": [
    "model.fit(\n",
    "    X_train.reshape(60000, 784),\n",
    "    y_train,\n",
    "    epochs=100,\n",
    "    batch_size=1000)"
   ]
  },
  {
   "cell_type": "markdown",
   "metadata": {},
   "source": [
    "### Es gilt: Das Netz passt sich an die Daten an.\n",
    "\n",
    "- Testgenauigkeit nur minimal schlechter wie die Trainingsgenauigkeit: Das Modell darf vermutlich noch was komplexer sein \n",
    "\n",
    "- Testgenauigkeit sehr viel schlechter wie die Trainingsgenauigkeit: Das Modell ist zu komplex (das Modell hat sich zu stark an die Trainingsdaten angepasst)\n",
    "\n",
    "- Beides schlecht: Du brauchst mehr Daten!"
   ]
  },
  {
   "cell_type": "code",
   "execution_count": 15,
   "metadata": {},
   "outputs": [
    {
     "name": "stdout",
     "output_type": "stream",
     "text": [
      "60000/60000 [==============================] - 2s 28us/step\n"
     ]
    },
    {
     "data": {
      "text/plain": [
       "[0.41246314092874525, 0.8516333333333334]"
      ]
     },
     "execution_count": 15,
     "metadata": {},
     "output_type": "execute_result"
    }
   ],
   "source": [
    "model.evaluate(X_train.reshape(-1, 784), y_train)"
   ]
  },
  {
   "cell_type": "code",
   "execution_count": 16,
   "metadata": {},
   "outputs": [
    {
     "name": "stdout",
     "output_type": "stream",
     "text": [
      "10000/10000 [==============================] - 0s 28us/step\n"
     ]
    },
    {
     "data": {
      "text/plain": [
       "[0.4634205700159073, 0.833]"
      ]
     },
     "execution_count": 16,
     "metadata": {},
     "output_type": "execute_result"
    }
   ],
   "source": [
    "model.evaluate(X_test.reshape(-1, 784), y_test)"
   ]
  },
  {
   "cell_type": "code",
   "execution_count": null,
   "metadata": {},
   "outputs": [],
   "source": []
  }
 ],
 "metadata": {
  "kernelspec": {
   "display_name": "Python 3",
   "language": "python",
   "name": "python3"
  },
  "language_info": {
   "codemirror_mode": {
    "name": "ipython",
    "version": 3
   },
   "file_extension": ".py",
   "mimetype": "text/x-python",
   "name": "python",
   "nbconvert_exporter": "python",
   "pygments_lexer": "ipython3",
   "version": "3.6.5"
  }
 },
 "nbformat": 4,
 "nbformat_minor": 2
}
