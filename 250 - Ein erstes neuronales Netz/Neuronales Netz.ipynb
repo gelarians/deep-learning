{
 "cells": [
  {
   "cell_type": "code",
   "execution_count": 1,
   "metadata": {},
   "outputs": [],
   "source": [
    "# Vorstellung: MNIST-Daten!\n",
    "# http://yann.lecun.com/exdb/mnist/\n",
    "# FashionMNIST: https://github.com/zalandoresearch/fashion-mnist\n",
    "\n",
    "import gzip\n",
    "import numpy as np\n",
    "\n",
    "def open_images(filename):\n",
    "    with gzip.open(filename, \"rb\") as file:\n",
    "        data = file.read()\n",
    "        return np.frombuffer(data, dtype=np.uint8, offset=16)\\\n",
    "            .reshape(-1, 28, 28)\\\n",
    "            .astype(np.float32)\n",
    "\n",
    "\n",
    "def open_labels(filename):\n",
    "    with gzip.open(filename, \"rb\") as file:\n",
    "        data = file.read()\n",
    "        return np.frombuffer(data, dtype=np.uint8, offset=8)\n",
    "    \n",
    "X_train = open_images(\"../data/fashion/train-images-idx3-ubyte.gz\")\n",
    "y_train = open_labels(\"../data/fashion/train-labels-idx1-ubyte.gz\")\n",
    "\n",
    "y_train = y_train == 0"
   ]
  },
  {
   "cell_type": "code",
   "execution_count": 2,
   "metadata": {},
   "outputs": [
    {
     "data": {
      "text/plain": [
       "array([False,  True,  True, ..., False,  True, False])"
      ]
     },
     "execution_count": 2,
     "metadata": {},
     "output_type": "execute_result"
    }
   ],
   "source": [
    "y_train"
   ]
  },
  {
   "cell_type": "code",
   "execution_count": 4,
   "metadata": {},
   "outputs": [
    {
     "name": "stdout",
     "output_type": "stream",
     "text": [
      "Collecting tensorflow\n",
      "  Downloading tensorflow-2.4.0-cp38-cp38-macosx_10_11_x86_64.whl (175.5 MB)\n",
      "\u001b[K     |████████████████████████████████| 175.5 MB 27.4 MB/s eta 0:00:01\n",
      "\u001b[?25hRequirement already satisfied: typing-extensions~=3.7.4 in /Users/element/opt/anaconda3/lib/python3.8/site-packages (from tensorflow) (3.7.4.3)\n",
      "Requirement already satisfied: wheel~=0.35 in /Users/element/opt/anaconda3/lib/python3.8/site-packages (from tensorflow) (0.35.1)\n",
      "Requirement already satisfied: numpy~=1.19.2 in /Users/element/opt/anaconda3/lib/python3.8/site-packages (from tensorflow) (1.19.2)\n",
      "Collecting absl-py~=0.10\n",
      "  Using cached absl_py-0.11.0-py3-none-any.whl (127 kB)\n",
      "Collecting gast==0.3.3\n",
      "  Using cached gast-0.3.3-py2.py3-none-any.whl (9.7 kB)\n",
      "Collecting protobuf>=3.9.2\n",
      "  Downloading protobuf-3.14.0-cp38-cp38-macosx_10_9_x86_64.whl (1.0 MB)\n",
      "\u001b[K     |████████████████████████████████| 1.0 MB 3.1 MB/s eta 0:00:01\n",
      "\u001b[?25hCollecting tensorflow-estimator<2.5.0,>=2.4.0rc0\n",
      "  Using cached tensorflow_estimator-2.4.0-py2.py3-none-any.whl (462 kB)\n",
      "Requirement already satisfied: h5py~=2.10.0 in /Users/element/opt/anaconda3/lib/python3.8/site-packages (from tensorflow) (2.10.0)\n",
      "Collecting opt-einsum~=3.3.0\n",
      "  Using cached opt_einsum-3.3.0-py3-none-any.whl (65 kB)\n",
      "Collecting google-pasta~=0.2\n",
      "  Using cached google_pasta-0.2.0-py3-none-any.whl (57 kB)\n",
      "Collecting termcolor~=1.1.0\n",
      "  Using cached termcolor-1.1.0.tar.gz (3.9 kB)\n",
      "Requirement already satisfied: six~=1.15.0 in /Users/element/opt/anaconda3/lib/python3.8/site-packages (from tensorflow) (1.15.0)\n",
      "Collecting wrapt~=1.12.1\n",
      "  Using cached wrapt-1.12.1.tar.gz (27 kB)\n",
      "Collecting tensorboard~=2.4\n",
      "  Downloading tensorboard-2.4.1-py3-none-any.whl (10.6 MB)\n",
      "\u001b[K     |████████████████████████████████| 10.6 MB 1.1 MB/s eta 0:00:01\n",
      "\u001b[?25hCollecting keras-preprocessing~=1.1.2\n",
      "  Using cached Keras_Preprocessing-1.1.2-py2.py3-none-any.whl (42 kB)\n",
      "Collecting flatbuffers~=1.12.0\n",
      "  Using cached flatbuffers-1.12-py2.py3-none-any.whl (15 kB)\n",
      "Collecting astunparse~=1.6.3\n",
      "  Using cached astunparse-1.6.3-py2.py3-none-any.whl (12 kB)\n",
      "Collecting grpcio~=1.32.0\n",
      "  Downloading grpcio-1.32.0-cp38-cp38-macosx_10_9_x86_64.whl (3.3 MB)\n",
      "\u001b[K     |████████████████████████████████| 3.3 MB 1.8 MB/s eta 0:00:01\n",
      "\u001b[?25hRequirement already satisfied: setuptools>=41.0.0 in /Users/element/opt/anaconda3/lib/python3.8/site-packages (from tensorboard~=2.4->tensorflow) (50.3.1.post20201107)\n",
      "Collecting tensorboard-plugin-wit>=1.6.0\n",
      "  Using cached tensorboard_plugin_wit-1.7.0-py3-none-any.whl (779 kB)\n",
      "Collecting google-auth-oauthlib<0.5,>=0.4.1\n",
      "  Using cached google_auth_oauthlib-0.4.2-py2.py3-none-any.whl (18 kB)\n",
      "Requirement already satisfied: requests<3,>=2.21.0 in /Users/element/opt/anaconda3/lib/python3.8/site-packages (from tensorboard~=2.4->tensorflow) (2.24.0)\n",
      "Requirement already satisfied: werkzeug>=0.11.15 in /Users/element/opt/anaconda3/lib/python3.8/site-packages (from tensorboard~=2.4->tensorflow) (1.0.1)\n",
      "Collecting markdown>=2.6.8\n",
      "  Using cached Markdown-3.3.3-py3-none-any.whl (96 kB)\n",
      "Collecting google-auth<2,>=1.6.3\n",
      "  Using cached google_auth-1.24.0-py2.py3-none-any.whl (114 kB)\n",
      "Collecting requests-oauthlib>=0.7.0\n",
      "  Using cached requests_oauthlib-1.3.0-py2.py3-none-any.whl (23 kB)\n",
      "Requirement already satisfied: idna<3,>=2.5 in /Users/element/opt/anaconda3/lib/python3.8/site-packages (from requests<3,>=2.21.0->tensorboard~=2.4->tensorflow) (2.10)\n",
      "Requirement already satisfied: certifi>=2017.4.17 in /Users/element/opt/anaconda3/lib/python3.8/site-packages (from requests<3,>=2.21.0->tensorboard~=2.4->tensorflow) (2020.6.20)\n",
      "Requirement already satisfied: urllib3!=1.25.0,!=1.25.1,<1.26,>=1.21.1 in /Users/element/opt/anaconda3/lib/python3.8/site-packages (from requests<3,>=2.21.0->tensorboard~=2.4->tensorflow) (1.25.11)\n",
      "Requirement already satisfied: chardet<4,>=3.0.2 in /Users/element/opt/anaconda3/lib/python3.8/site-packages (from requests<3,>=2.21.0->tensorboard~=2.4->tensorflow) (3.0.4)\n",
      "Collecting cachetools<5.0,>=2.0.0\n",
      "  Using cached cachetools-4.2.0-py3-none-any.whl (12 kB)\n",
      "Collecting pyasn1-modules>=0.2.1\n",
      "  Using cached pyasn1_modules-0.2.8-py2.py3-none-any.whl (155 kB)\n",
      "Collecting rsa<5,>=3.1.4; python_version >= \"3.6\"\n",
      "  Using cached rsa-4.7-py3-none-any.whl (34 kB)\n",
      "Collecting oauthlib>=3.0.0\n",
      "  Using cached oauthlib-3.1.0-py2.py3-none-any.whl (147 kB)\n",
      "Collecting pyasn1<0.5.0,>=0.4.6\n",
      "  Using cached pyasn1-0.4.8-py2.py3-none-any.whl (77 kB)\n",
      "Building wheels for collected packages: termcolor, wrapt\n",
      "  Building wheel for termcolor (setup.py) ... \u001b[?25ldone\n",
      "\u001b[?25h  Created wheel for termcolor: filename=termcolor-1.1.0-py3-none-any.whl size=4830 sha256=96d7f8cbfd22e7f8c26f9e96b204968e2cc7f65ffbd2a562ca1bab7ab75602dc\n",
      "  Stored in directory: /Users/element/Library/Caches/pip/wheels/a0/16/9c/5473df82468f958445479c59e784896fa24f4a5fc024b0f501\n",
      "  Building wheel for wrapt (setup.py) ... \u001b[?25ldone\n",
      "\u001b[?25h  Created wheel for wrapt: filename=wrapt-1.12.1-cp38-cp38-macosx_10_9_x86_64.whl size=32588 sha256=3e37429aac93f9243e5beb5da804c83defad98317c3f7c407a6b97f90d4bd318\n",
      "  Stored in directory: /Users/element/Library/Caches/pip/wheels/5f/fd/9e/b6cf5890494cb8ef0b5eaff72e5d55a70fb56316007d6dfe73\n",
      "Successfully built termcolor wrapt\n",
      "Installing collected packages: absl-py, gast, protobuf, tensorflow-estimator, opt-einsum, google-pasta, termcolor, wrapt, tensorboard-plugin-wit, cachetools, pyasn1, pyasn1-modules, rsa, google-auth, oauthlib, requests-oauthlib, google-auth-oauthlib, grpcio, markdown, tensorboard, keras-preprocessing, flatbuffers, astunparse, tensorflow\n",
      "  Attempting uninstall: wrapt\n",
      "    Found existing installation: wrapt 1.11.2\n",
      "    Uninstalling wrapt-1.11.2:\n",
      "      Successfully uninstalled wrapt-1.11.2\n",
      "Successfully installed absl-py-0.11.0 astunparse-1.6.3 cachetools-4.2.0 flatbuffers-1.12 gast-0.3.3 google-auth-1.24.0 google-auth-oauthlib-0.4.2 google-pasta-0.2.0 grpcio-1.32.0 keras-preprocessing-1.1.2 markdown-3.3.3 oauthlib-3.1.0 opt-einsum-3.3.0 protobuf-3.14.0 pyasn1-0.4.8 pyasn1-modules-0.2.8 requests-oauthlib-1.3.0 rsa-4.7 tensorboard-2.4.1 tensorboard-plugin-wit-1.7.0 tensorflow-2.4.0 tensorflow-estimator-2.4.0 termcolor-1.1.0 wrapt-1.12.1\n"
     ]
    }
   ],
   "source": [
    "!pip install tensorflow"
   ]
  },
  {
   "cell_type": "code",
   "execution_count": 6,
   "metadata": {},
   "outputs": [],
   "source": [
    "from tensorflow.keras.models import Sequential\n",
    "from tensorflow.keras.layers import Dense # Dense = dicht standart layer"
   ]
  },
  {
   "cell_type": "code",
   "execution_count": 7,
   "metadata": {},
   "outputs": [],
   "source": [
    "model = Sequential()\n",
    "\n",
    "model.add(Dense(100, activation=\"sigmoid\", input_shape=(784,))) #28 x 28 = 784 TUPEL! \n",
    "model.add(Dense(1, activation=\"sigmoid\")) # true fals array\n",
    "\n",
    "model.compile(optimizer=\"sgd\", loss=\"binary_crossentropy\") #wichtig um auf einer gpu ausführen zu können"
   ]
  },
  {
   "cell_type": "code",
   "execution_count": 8,
   "metadata": {},
   "outputs": [
    {
     "data": {
      "text/plain": [
       "array([[0., 0., 0., ..., 0., 0., 0.],\n",
       "       [0., 0., 0., ..., 0., 0., 0.],\n",
       "       [0., 0., 0., ..., 0., 0., 0.],\n",
       "       ...,\n",
       "       [0., 0., 0., ..., 0., 0., 0.],\n",
       "       [0., 0., 0., ..., 0., 0., 0.],\n",
       "       [0., 0., 0., ..., 0., 0., 0.]], dtype=float32)"
      ]
     },
     "execution_count": 8,
     "metadata": {},
     "output_type": "execute_result"
    }
   ],
   "source": [
    "X_train.reshape(60000, 784)"
   ]
  },
  {
   "cell_type": "code",
   "execution_count": 31,
   "metadata": {},
   "outputs": [
    {
     "name": "stdout",
     "output_type": "stream",
     "text": [
      "Epoch 1/100\n",
      "60/60 [==============================] - 0s 3ms/step - loss: 0.1195\n",
      "Epoch 2/100\n",
      "60/60 [==============================] - 0s 3ms/step - loss: 0.1175\n",
      "Epoch 3/100\n",
      "60/60 [==============================] - 0s 3ms/step - loss: 0.1156\n",
      "Epoch 4/100\n",
      "60/60 [==============================] - 0s 3ms/step - loss: 0.1142\n",
      "Epoch 5/100\n",
      "60/60 [==============================] - 0s 3ms/step - loss: 0.1130\n",
      "Epoch 6/100\n",
      "60/60 [==============================] - 0s 3ms/step - loss: 0.1121\n",
      "Epoch 7/100\n",
      "60/60 [==============================] - 0s 3ms/step - loss: 0.1108\n",
      "Epoch 8/100\n",
      "60/60 [==============================] - 0s 3ms/step - loss: 0.1098\n",
      "Epoch 9/100\n",
      "60/60 [==============================] - 0s 3ms/step - loss: 0.1088\n",
      "Epoch 10/100\n",
      "60/60 [==============================] - 0s 3ms/step - loss: 0.1075\n",
      "Epoch 11/100\n",
      "60/60 [==============================] - 0s 3ms/step - loss: 0.1071\n",
      "Epoch 12/100\n",
      "60/60 [==============================] - 0s 3ms/step - loss: 0.1066\n",
      "Epoch 13/100\n",
      "60/60 [==============================] - 0s 3ms/step - loss: 0.1057\n",
      "Epoch 14/100\n",
      "60/60 [==============================] - 0s 3ms/step - loss: 0.1049\n",
      "Epoch 15/100\n",
      "60/60 [==============================] - 0s 3ms/step - loss: 0.1047\n",
      "Epoch 16/100\n",
      "60/60 [==============================] - 0s 3ms/step - loss: 0.1037\n",
      "Epoch 17/100\n",
      "60/60 [==============================] - 0s 3ms/step - loss: 0.1030\n",
      "Epoch 18/100\n",
      "60/60 [==============================] - 0s 3ms/step - loss: 0.1025\n",
      "Epoch 19/100\n",
      "60/60 [==============================] - 0s 3ms/step - loss: 0.1023\n",
      "Epoch 20/100\n",
      "60/60 [==============================] - 0s 3ms/step - loss: 0.1017\n",
      "Epoch 21/100\n",
      "60/60 [==============================] - 0s 3ms/step - loss: 0.1011\n",
      "Epoch 22/100\n",
      "60/60 [==============================] - 0s 3ms/step - loss: 0.1007\n",
      "Epoch 23/100\n",
      "60/60 [==============================] - 0s 3ms/step - loss: 0.1003\n",
      "Epoch 24/100\n",
      "60/60 [==============================] - 0s 3ms/step - loss: 0.0992\n",
      "Epoch 25/100\n",
      "60/60 [==============================] - 0s 3ms/step - loss: 0.0992\n",
      "Epoch 26/100\n",
      "60/60 [==============================] - 0s 3ms/step - loss: 0.0988\n",
      "Epoch 27/100\n",
      "60/60 [==============================] - 0s 3ms/step - loss: 0.0985\n",
      "Epoch 28/100\n",
      "60/60 [==============================] - 0s 3ms/step - loss: 0.0980\n",
      "Epoch 29/100\n",
      "60/60 [==============================] - 0s 3ms/step - loss: 0.0978\n",
      "Epoch 30/100\n",
      "60/60 [==============================] - 0s 3ms/step - loss: 0.0973\n",
      "Epoch 31/100\n",
      "60/60 [==============================] - 0s 3ms/step - loss: 0.0971\n",
      "Epoch 32/100\n",
      "60/60 [==============================] - 0s 3ms/step - loss: 0.0967\n",
      "Epoch 33/100\n",
      "60/60 [==============================] - 0s 3ms/step - loss: 0.0961\n",
      "Epoch 34/100\n",
      "60/60 [==============================] - 0s 3ms/step - loss: 0.0956\n",
      "Epoch 35/100\n",
      "60/60 [==============================] - 0s 3ms/step - loss: 0.0951\n",
      "Epoch 36/100\n",
      "60/60 [==============================] - 0s 3ms/step - loss: 0.0952\n",
      "Epoch 37/100\n",
      "60/60 [==============================] - 0s 4ms/step - loss: 0.0948\n",
      "Epoch 38/100\n",
      "60/60 [==============================] - 0s 3ms/step - loss: 0.0947\n",
      "Epoch 39/100\n",
      "60/60 [==============================] - 0s 3ms/step - loss: 0.0939\n",
      "Epoch 40/100\n",
      "60/60 [==============================] - 0s 3ms/step - loss: 0.0937\n",
      "Epoch 41/100\n",
      "60/60 [==============================] - 0s 3ms/step - loss: 0.0940\n",
      "Epoch 42/100\n",
      "60/60 [==============================] - 0s 3ms/step - loss: 0.0943\n",
      "Epoch 43/100\n",
      "60/60 [==============================] - 0s 3ms/step - loss: 0.0935\n",
      "Epoch 44/100\n",
      "60/60 [==============================] - 0s 3ms/step - loss: 0.0933\n",
      "Epoch 45/100\n",
      "60/60 [==============================] - 0s 3ms/step - loss: 0.0925\n",
      "Epoch 46/100\n",
      "60/60 [==============================] - 0s 3ms/step - loss: 0.0922\n",
      "Epoch 47/100\n",
      "60/60 [==============================] - 0s 3ms/step - loss: 0.0918\n",
      "Epoch 48/100\n",
      "60/60 [==============================] - 0s 3ms/step - loss: 0.0920\n",
      "Epoch 49/100\n",
      "60/60 [==============================] - 0s 3ms/step - loss: 0.0914\n",
      "Epoch 50/100\n",
      "60/60 [==============================] - 0s 3ms/step - loss: 0.0911\n",
      "Epoch 51/100\n",
      "60/60 [==============================] - 0s 3ms/step - loss: 0.0908\n",
      "Epoch 52/100\n",
      "60/60 [==============================] - 0s 4ms/step - loss: 0.0906\n",
      "Epoch 53/100\n",
      "60/60 [==============================] - 0s 4ms/step - loss: 0.0904\n",
      "Epoch 54/100\n",
      "60/60 [==============================] - 0s 3ms/step - loss: 0.0904\n",
      "Epoch 55/100\n",
      "60/60 [==============================] - 0s 3ms/step - loss: 0.0899\n",
      "Epoch 56/100\n",
      "60/60 [==============================] - 0s 3ms/step - loss: 0.0897\n",
      "Epoch 57/100\n",
      "60/60 [==============================] - 0s 3ms/step - loss: 0.0892\n",
      "Epoch 58/100\n",
      "60/60 [==============================] - 0s 3ms/step - loss: 0.0895\n",
      "Epoch 59/100\n",
      "60/60 [==============================] - 0s 3ms/step - loss: 0.0894\n",
      "Epoch 60/100\n",
      "60/60 [==============================] - 0s 3ms/step - loss: 0.0889\n",
      "Epoch 61/100\n",
      "60/60 [==============================] - 0s 3ms/step - loss: 0.0887\n",
      "Epoch 62/100\n",
      "60/60 [==============================] - 0s 3ms/step - loss: 0.0882\n",
      "Epoch 63/100\n",
      "60/60 [==============================] - 0s 4ms/step - loss: 0.0884\n",
      "Epoch 64/100\n",
      "60/60 [==============================] - 0s 3ms/step - loss: 0.0882\n",
      "Epoch 65/100\n",
      "60/60 [==============================] - 0s 4ms/step - loss: 0.0884\n",
      "Epoch 66/100\n",
      "60/60 [==============================] - 0s 3ms/step - loss: 0.0881\n",
      "Epoch 67/100\n",
      "60/60 [==============================] - 0s 3ms/step - loss: 0.0876\n",
      "Epoch 68/100\n",
      "60/60 [==============================] - 0s 3ms/step - loss: 0.0870\n",
      "Epoch 69/100\n",
      "60/60 [==============================] - 0s 4ms/step - loss: 0.0869\n",
      "Epoch 70/100\n",
      "60/60 [==============================] - 0s 3ms/step - loss: 0.0866\n",
      "Epoch 71/100\n",
      "60/60 [==============================] - 0s 3ms/step - loss: 0.0865\n",
      "Epoch 72/100\n",
      "60/60 [==============================] - 0s 3ms/step - loss: 0.0864\n",
      "Epoch 73/100\n",
      "60/60 [==============================] - 0s 3ms/step - loss: 0.0865\n",
      "Epoch 74/100\n",
      "60/60 [==============================] - 0s 3ms/step - loss: 0.0863\n",
      "Epoch 75/100\n",
      "60/60 [==============================] - 0s 3ms/step - loss: 0.0866\n",
      "Epoch 76/100\n",
      "60/60 [==============================] - 0s 3ms/step - loss: 0.0856\n",
      "Epoch 77/100\n",
      "60/60 [==============================] - 0s 3ms/step - loss: 0.0853\n",
      "Epoch 78/100\n",
      "60/60 [==============================] - 0s 3ms/step - loss: 0.0856\n",
      "Epoch 79/100\n",
      "60/60 [==============================] - 0s 3ms/step - loss: 0.0856\n",
      "Epoch 80/100\n",
      "60/60 [==============================] - 0s 3ms/step - loss: 0.0849\n",
      "Epoch 81/100\n",
      "60/60 [==============================] - 0s 3ms/step - loss: 0.0847\n",
      "Epoch 82/100\n",
      "60/60 [==============================] - 0s 3ms/step - loss: 0.0848\n",
      "Epoch 83/100\n",
      "60/60 [==============================] - 0s 3ms/step - loss: 0.0842\n",
      "Epoch 84/100\n",
      "60/60 [==============================] - 0s 3ms/step - loss: 0.0841\n",
      "Epoch 85/100\n",
      "60/60 [==============================] - 0s 3ms/step - loss: 0.0840\n",
      "Epoch 86/100\n",
      "60/60 [==============================] - 0s 3ms/step - loss: 0.0840\n",
      "Epoch 87/100\n",
      "60/60 [==============================] - 0s 3ms/step - loss: 0.0836\n",
      "Epoch 88/100\n",
      "60/60 [==============================] - 0s 3ms/step - loss: 0.0837\n",
      "Epoch 89/100\n",
      "60/60 [==============================] - 0s 3ms/step - loss: 0.0834\n",
      "Epoch 90/100\n",
      "60/60 [==============================] - 0s 3ms/step - loss: 0.0829\n",
      "Epoch 91/100\n",
      "60/60 [==============================] - 0s 3ms/step - loss: 0.0828\n",
      "Epoch 92/100\n",
      "60/60 [==============================] - 0s 3ms/step - loss: 0.0827\n",
      "Epoch 93/100\n",
      "60/60 [==============================] - 0s 3ms/step - loss: 0.0829\n",
      "Epoch 94/100\n",
      "60/60 [==============================] - 0s 3ms/step - loss: 0.0826\n",
      "Epoch 95/100\n",
      "60/60 [==============================] - 0s 3ms/step - loss: 0.0820\n",
      "Epoch 96/100\n",
      "60/60 [==============================] - 0s 3ms/step - loss: 0.0822\n",
      "Epoch 97/100\n",
      "60/60 [==============================] - 0s 3ms/step - loss: 0.0821\n",
      "Epoch 98/100\n",
      "60/60 [==============================] - 0s 3ms/step - loss: 0.0818\n",
      "Epoch 99/100\n",
      "60/60 [==============================] - 0s 3ms/step - loss: 0.0820\n",
      "Epoch 100/100\n",
      "60/60 [==============================] - 0s 3ms/step - loss: 0.0815\n"
     ]
    },
    {
     "data": {
      "text/plain": [
       "<tensorflow.python.keras.callbacks.History at 0x7fabf03e22b0>"
      ]
     },
     "execution_count": 31,
     "metadata": {},
     "output_type": "execute_result"
    }
   ],
   "source": [
    "model.fit(\n",
    "    X_train.reshape(60000, 784),\n",
    "    y_train,\n",
    "    epochs=100,\n",
    "    batch_size=1000)"
   ]
  },
  {
   "cell_type": "code",
   "execution_count": 32,
   "metadata": {},
   "outputs": [
    {
     "name": "stdout",
     "output_type": "stream",
     "text": [
      "True\n"
     ]
    }
   ],
   "source": [
    "print(y_train[1])"
   ]
  },
  {
   "cell_type": "code",
   "execution_count": 33,
   "metadata": {},
   "outputs": [
    {
     "data": {
      "image/png": "[encoded data removed]",
      "text/plain": [
       "<Figure size 432x288 with 1 Axes>"
      ]
     },
     "metadata": {
      "needs_background": "light"
     },
     "output_type": "display_data"
    }
   ],
   "source": [
    "%matplotlib inline\n",
    "import matplotlib.pyplot as plt\n",
    "\n",
    "plt.imshow(X_train[1], cmap=\"gray_r\")\n",
    "plt.show()"
   ]
  },
  {
   "cell_type": "markdown",
   "metadata": {},
   "source": [
    "# X_train[1].reshape(1, 784).shape"
   ]
  },
  {
   "cell_type": "code",
   "execution_count": 35,
   "metadata": {},
   "outputs": [
    {
     "data": {
      "text/plain": [
       "array([[0.9711908]], dtype=float32)"
      ]
     },
     "execution_count": 35,
     "metadata": {},
     "output_type": "execute_result"
    }
   ],
   "source": [
    "model.predict(X_train[1].reshape(1, 784))"
   ]
  },
  {
   "cell_type": "code",
   "execution_count": null,
   "metadata": {},
   "outputs": [],
   "source": []
  },
  {
   "cell_type": "code",
   "execution_count": null,
   "metadata": {},
   "outputs": [],
   "source": []
  }
 ],
 "metadata": {
  "kernelspec": {
   "display_name": "Python 3",
   "language": "python",
   "name": "python3"
  },
  "language_info": {
   "codemirror_mode": {
    "name": "ipython",
    "version": 3
   },
   "file_extension": ".py",
   "mimetype": "text/x-python",
   "name": "python",
   "nbconvert_exporter": "python",
   "pygments_lexer": "ipython3",
   "version": "3.8.5"
  }
 },
 "nbformat": 4,
 "nbformat_minor": 2
}
