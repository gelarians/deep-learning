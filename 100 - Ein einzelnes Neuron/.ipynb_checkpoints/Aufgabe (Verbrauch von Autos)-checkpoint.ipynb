{
 "cells": [
  {
   "cell_type": "markdown",
   "metadata": {},
   "source": [
    "### Verbrauch von Autos vorhersagen\n",
    "\n",
    "#### Aufgabe:\n",
    "\n",
    "Eine Firma hat ein neues Auto angekündigt, aber noch keine Verbrauchsdaten angegeben. Kannst du den Verbrauch (in l/100km) des Autos schätzen, indem du ein Modell trainierst?\n",
    "\n",
    "Das Auto hat:\n",
    "\n",
    "- 8 Zylinder\n",
    "- 200PS\n",
    "- 2500kg\n",
    "\n",
    "Lese dazu die Datei `mpg-dataset.csv` ein. Trainiere anschließend ein Modell, und sage den Verbrauch (in l/100km) dieses Autos vorher!"
   ]
  },
  {
   "cell_type": "code",
   "execution_count": 5,
   "metadata": {},
   "outputs": [
    {
     "name": "stdout",
     "output_type": "stream",
     "text": [
      "2.352145833333333\n"
     ]
    }
   ],
   "source": [
    "def mpg_to_l_per_100km(mpg):\n",
    "    LITERS_PER_GALLON = 3.785411784\n",
    "    KILOMETERS_PER_MILES = 1.609344\n",
    "\n",
    "    return (100 * LITERS_PER_GALLON) / (KILOMETERS_PER_MILES * mpg)\n",
    "\n",
    "print(mpg_to_l_per_100km(100))"
   ]
  },
  {
   "cell_type": "code",
   "execution_count": 6,
   "metadata": {},
   "outputs": [],
   "source": [
    "import pandas as pd\n",
    "\n",
    "df = pd.read_csv(\"mpg-dataset.csv\")"
   ]
  },
  {
   "cell_type": "code",
   "execution_count": 8,
   "metadata": {},
   "outputs": [],
   "source": [
    "X = df[[\"cylinders\", \"horsepower\", \"weight\"]]"
   ]
  },
  {
   "cell_type": "code",
   "execution_count": 12,
   "metadata": {},
   "outputs": [],
   "source": [
    "y = mpg_to_l_per_100km(df[\"mpg\"])"
   ]
  },
  {
   "cell_type": "code",
   "execution_count": null,
   "metadata": {},
   "outputs": [],
   "source": [
    "# Aufgabe: Hier Lineare Regression trainieren"
   ]
  },
  {
   "cell_type": "code",
   "execution_count": null,
   "metadata": {},
   "outputs": [],
   "source": []
  },
  {
   "cell_type": "code",
   "execution_count": null,
   "metadata": {},
   "outputs": [],
   "source": []
  }
 ],
 "metadata": {
  "kernelspec": {
   "display_name": "Python 3",
   "language": "python",
   "name": "python3"
  },
  "language_info": {
   "codemirror_mode": {
    "name": "ipython",
    "version": 3
   },
   "file_extension": ".py",
   "mimetype": "text/x-python",
   "name": "python",
   "nbconvert_exporter": "python",
   "pygments_lexer": "ipython3",
   "version": "3.6.4"
  }
 },
 "nbformat": 4,
 "nbformat_minor": 2
}
