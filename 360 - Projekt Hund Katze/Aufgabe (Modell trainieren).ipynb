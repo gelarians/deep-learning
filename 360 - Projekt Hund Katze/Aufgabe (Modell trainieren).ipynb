{
 "cells": [
  {
   "cell_type": "markdown",
   "metadata": {},
   "source": [
    "## Aufgabe: \n",
    "\n",
    "Trainiere ein Modell, welches Katzen und Hunden unterscheiden kann!\n",
    "\n",
    "### Lösungstipp 1:\n",
    "\n",
    "Dieses Modell wird recht komplex werden, und entsprechend lange zum Training benötigen. Später werden wir noch ein schnelleres Modell kennenlernen - für diese Aufgabe möchtest du aber auf jeden Fall eine GPU zur Verfügung haben. \n",
    "\n",
    "### Lösungstipp 2:\n",
    "\n",
    "Ggf. macht es Sinn, die Datenmenge erstmal zu reduzieren - beispielsweise könntest du mit 1000 Hund-Bildern und 1000 Katzen-Bildern starten. Du darfst den Code aus den letzten Lektionen 1:1 übernehmen, anpassen,...\n",
    "\n",
    "### Lösungstipp 3:\n",
    "\n",
    "Um die Bilder korrekt zu klassifizieren, wirst du u.U. mehrere Layer benötigen. Du könntest hier z.B. einen Aufbau ähnlich zum VGG-Netz verwenden, also mehrere Blöcke mit jeweils 2-3 Convolutional-Layern, die von einem MaxPooling abgeschlossen werden. Nach mehreren dieser Blöcke kannst du dann 2-3 Dense-Layer platzieren, um die Ergebnisse auf 1 Neuron herunterzubrechen.\n",
    "\n",
    "### Lösungstipp 4:\n",
    "\n",
    "Ggf. sind die y-Daten noch nicht im richtigen Format. Du brauchst hier eine Shape von (X, 1), wobei X hier die Anzahl der Datensätze sind. Die Shape der y-Variable kannst du dir über `y.shape` ausgeben, sollte die Shape nicht `(X, 1)` sein, so kannst du hierfür den `.reshape`-Befehl verwenden.\n",
    "\n",
    "### Lösungstipp 5: \n",
    "\n",
    "Gegebenenfalls wird dein Netz trotzdem die Daten nicht korrekt lernen können. Das liegt dann daran, dass die Lernrate zu hoch ist - in dem Fall musst du die Lernrate verringern. Beispiel (für \"adam\"):\n",
    "\n",
    "```python\n",
    "from keras.optimizers import Adam\n",
    "model.compile(optimizer=Adam(lr=0.000001), loss=\"binary_crossentropy\", metrics=[\"acc\"])\n",
    "```\n"
   ]
  },
  {
   "cell_type": "code",
   "execution_count": 1,
   "metadata": {},
   "outputs": [
    {
     "name": "stderr",
     "output_type": "stream",
     "text": [
      "<ipython-input-1-0a3fd85e7491>:13: TqdmDeprecationWarning: This function will be removed in tqdm==5.0.0\n",
      "Please use `tqdm.notebook.tqdm` instead of `tqdm.tqdm_notebook`\n",
      "  for file in tqdm(files):\n"
     ]
    },
    {
     "data": {
      "application/vnd.jupyter.widget-view+json": {
       "model_id": "ce7212b46392436e9ac3acdddf1fa380",
       "version_major": 2,
       "version_minor": 0
      },
      "text/plain": [
       "HBox(children=(HTML(value=''), FloatProgress(value=0.0, max=12500.0), HTML(value='')))"
      ]
     },
     "metadata": {},
     "output_type": "display_data"
    },
    {
     "name": "stdout",
     "output_type": "stream",
     "text": [
      "\n"
     ]
    },
    {
     "data": {
      "application/vnd.jupyter.widget-view+json": {
       "model_id": "9c5cb0d04b654c79b22bbc1187ff5e53",
       "version_major": 2,
       "version_minor": 0
      },
      "text/plain": [
       "HBox(children=(HTML(value=''), FloatProgress(value=0.0, max=12500.0), HTML(value='')))"
      ]
     },
     "metadata": {},
     "output_type": "display_data"
    },
    {
     "name": "stderr",
     "output_type": "stream",
     "text": [
      "C:\\Users\\Shadow\\anaconda3\\lib\\site-packages\\PIL\\TiffImagePlugin.py:770: UserWarning: Possibly corrupt EXIF data.  Expecting to read 32 bytes but only got 0. Skipping tag 270\n",
      "  warnings.warn(\n",
      "C:\\Users\\Shadow\\anaconda3\\lib\\site-packages\\PIL\\TiffImagePlugin.py:770: UserWarning: Possibly corrupt EXIF data.  Expecting to read 5 bytes but only got 0. Skipping tag 271\n",
      "  warnings.warn(\n",
      "C:\\Users\\Shadow\\anaconda3\\lib\\site-packages\\PIL\\TiffImagePlugin.py:770: UserWarning: Possibly corrupt EXIF data.  Expecting to read 8 bytes but only got 0. Skipping tag 272\n",
      "  warnings.warn(\n",
      "C:\\Users\\Shadow\\anaconda3\\lib\\site-packages\\PIL\\TiffImagePlugin.py:770: UserWarning: Possibly corrupt EXIF data.  Expecting to read 8 bytes but only got 0. Skipping tag 282\n",
      "  warnings.warn(\n",
      "C:\\Users\\Shadow\\anaconda3\\lib\\site-packages\\PIL\\TiffImagePlugin.py:770: UserWarning: Possibly corrupt EXIF data.  Expecting to read 8 bytes but only got 0. Skipping tag 283\n",
      "  warnings.warn(\n",
      "C:\\Users\\Shadow\\anaconda3\\lib\\site-packages\\PIL\\TiffImagePlugin.py:770: UserWarning: Possibly corrupt EXIF data.  Expecting to read 20 bytes but only got 0. Skipping tag 306\n",
      "  warnings.warn(\n",
      "C:\\Users\\Shadow\\anaconda3\\lib\\site-packages\\PIL\\TiffImagePlugin.py:770: UserWarning: Possibly corrupt EXIF data.  Expecting to read 48 bytes but only got 0. Skipping tag 532\n",
      "  warnings.warn(\n",
      "C:\\Users\\Shadow\\anaconda3\\lib\\site-packages\\PIL\\TiffImagePlugin.py:792: UserWarning: Corrupt EXIF data.  Expecting to read 2 bytes but only got 0. \n",
      "  warnings.warn(str(msg))\n"
     ]
    },
    {
     "name": "stdout",
     "output_type": "stream",
     "text": [
      "\n"
     ]
    }
   ],
   "source": [
    "import os\n",
    "import numpy as np\n",
    "from tqdm import tqdm_notebook as tqdm\n",
    "from PIL import Image\n",
    "\n",
    "def read_images(path):\n",
    "    files = os.listdir(path)\n",
    "    files = [file for file in files if file[-4:] == \".jpg\"]\n",
    "    \n",
    "    # files = files[:2000]\n",
    "    \n",
    "    images = []\n",
    "    for file in tqdm(files):\n",
    "        try:\n",
    "            image = Image.open(os.path.join(path, file))\n",
    "            image = image.resize((224, 224), Image.LANCZOS)\n",
    "            image = image.convert(\"RGB\")\n",
    "            image = np.asarray(image)\n",
    "            images.append(image)\n",
    "        except OSError:\n",
    "            pass\n",
    "    \n",
    "    return images\n",
    "    \n",
    "cats = read_images(os.path.join(\"data\", \"PetImages\", \"Cat\"))\n",
    "dogs = read_images(os.path.join(\"data\", \"PetImages\", \"Dog\"))\n",
    "\n",
    "dogs = np.asarray(dogs)\n",
    "cats = np.asarray(cats)\n",
    "\n",
    "X = np.concatenate([dogs, cats]).astype(np.float32) / 255.\n",
    "\n",
    "y_dogs = np.zeros(len(dogs))\n",
    "y_cats = np.ones(len(cats))\n",
    "\n",
    "y = np.concatenate([y_dogs, y_cats])"
   ]
  },
  {
   "cell_type": "code",
   "execution_count": 2,
   "metadata": {},
   "outputs": [],
   "source": [
    "# y ins richtige Format bringen\n",
    "y = y.reshape(-1, 1)"
   ]
  },
  {
   "cell_type": "code",
   "execution_count": 4,
   "metadata": {},
   "outputs": [
    {
     "name": "stdout",
     "output_type": "stream",
     "text": [
      "Model: \"sequential_1\"\n",
      "_________________________________________________________________\n",
      "Layer (type)                 Output Shape              Param #   \n",
      "=================================================================\n",
      "conv2d_8 (Conv2D)            (None, 222, 222, 32)      896       \n",
      "_________________________________________________________________\n",
      "conv2d_9 (Conv2D)            (None, 220, 220, 32)      9248      \n",
      "_________________________________________________________________\n",
      "max_pooling2d_4 (MaxPooling2 (None, 110, 110, 32)      0         \n",
      "_________________________________________________________________\n",
      "conv2d_10 (Conv2D)           (None, 108, 108, 64)      18496     \n",
      "_________________________________________________________________\n",
      "conv2d_11 (Conv2D)           (None, 106, 106, 64)      36928     \n",
      "_________________________________________________________________\n",
      "max_pooling2d_5 (MaxPooling2 (None, 53, 53, 64)        0         \n",
      "_________________________________________________________________\n",
      "conv2d_12 (Conv2D)           (None, 51, 51, 128)       73856     \n",
      "_________________________________________________________________\n",
      "conv2d_13 (Conv2D)           (None, 49, 49, 128)       147584    \n",
      "_________________________________________________________________\n",
      "max_pooling2d_6 (MaxPooling2 (None, 24, 24, 128)       0         \n",
      "_________________________________________________________________\n",
      "conv2d_14 (Conv2D)           (None, 22, 22, 128)       147584    \n",
      "_________________________________________________________________\n",
      "conv2d_15 (Conv2D)           (None, 20, 20, 128)       147584    \n",
      "_________________________________________________________________\n",
      "max_pooling2d_7 (MaxPooling2 (None, 10, 10, 128)       0         \n",
      "_________________________________________________________________\n",
      "flatten_1 (Flatten)          (None, 12800)             0         \n",
      "_________________________________________________________________\n",
      "dense_3 (Dense)              (None, 1024)              13108224  \n",
      "_________________________________________________________________\n",
      "dense_4 (Dense)              (None, 128)               131200    \n",
      "_________________________________________________________________\n",
      "dense_5 (Dense)              (None, 1)                 129       \n",
      "=================================================================\n",
      "Total params: 13,821,729\n",
      "Trainable params: 13,821,729\n",
      "Non-trainable params: 0\n",
      "_________________________________________________________________\n"
     ]
    }
   ],
   "source": [
    "from tensorflow.keras.models import Sequential\n",
    "from tensorflow.keras.layers import Conv2D, Dense, MaxPooling2D, Dropout, Flatten\n",
    "\n",
    "model = Sequential()\n",
    "model.add(Conv2D(32, kernel_size=(3, 3), activation=\"relu\", input_shape=(224, 224, 3)))\n",
    "model.add(Conv2D(32, kernel_size=(3, 3), activation=\"relu\"))\n",
    "model.add(MaxPooling2D())\n",
    "\n",
    "model.add(Conv2D(64, kernel_size=(3, 3), activation=\"relu\"))\n",
    "model.add(Conv2D(64, kernel_size=(3, 3), activation=\"relu\"))\n",
    "model.add(MaxPooling2D())\n",
    "\n",
    "model.add(Conv2D(128, kernel_size=(3, 3), activation=\"relu\"))\n",
    "model.add(Conv2D(128, kernel_size=(3, 3), activation=\"relu\"))\n",
    "model.add(MaxPooling2D())\n",
    "\n",
    "model.add(Conv2D(128, kernel_size=(3, 3), activation=\"relu\"))\n",
    "model.add(Conv2D(128, kernel_size=(3, 3), activation=\"relu\"))\n",
    "model.add(MaxPooling2D())\n",
    "\n",
    "model.add(Flatten())\n",
    "\n",
    "model.add(Dense(1024, activation=\"relu\"))\n",
    "model.add(Dense(128, activation=\"relu\"))\n",
    "model.add(Dense(1, activation=\"sigmoid\"))\n",
    "\n",
    "from tensorflow.keras.optimizers import Adam\n",
    "\n",
    "model.compile(optimizer=Adam(lr=0.00001), loss=\"binary_crossentropy\", metrics=[\"acc\"])\n",
    "\n",
    "model.summary()"
   ]
  },
  {
   "cell_type": "code",
   "execution_count": 5,
   "metadata": {},
   "outputs": [
    {
     "name": "stdout",
     "output_type": "stream",
     "text": [
      "Epoch 1/20\n",
      "391/391 [==============================] - 110s 244ms/step - loss: 0.6866 - acc: 0.5260\n",
      "Epoch 2/20\n",
      "391/391 [==============================] - 94s 240ms/step - loss: 0.6200 - acc: 0.6558\n",
      "Epoch 3/20\n",
      "391/391 [==============================] - 96s 246ms/step - loss: 0.5731 - acc: 0.6982\n",
      "Epoch 4/20\n",
      "391/391 [==============================] - 96s 245ms/step - loss: 0.5455 - acc: 0.7253\n",
      "Epoch 5/20\n",
      "391/391 [==============================] - 95s 244ms/step - loss: 0.5211 - acc: 0.7419\n",
      "Epoch 6/20\n",
      "391/391 [==============================] - 98s 251ms/step - loss: 0.5026 - acc: 0.7529\n",
      "Epoch 7/20\n",
      "391/391 [==============================] - 95s 242ms/step - loss: 0.4834 - acc: 0.7671\n",
      "Epoch 8/20\n",
      "391/391 [==============================] - 93s 239ms/step - loss: 0.4697 - acc: 0.7800\n",
      "Epoch 9/20\n",
      "391/391 [==============================] - 94s 239ms/step - loss: 0.4595 - acc: 0.7847\n",
      "Epoch 10/20\n",
      "391/391 [==============================] - 93s 239ms/step - loss: 0.4442 - acc: 0.7904\n",
      "Epoch 11/20\n",
      "391/391 [==============================] - 94s 240ms/step - loss: 0.4174 - acc: 0.8082\n",
      "Epoch 12/20\n",
      "391/391 [==============================] - 92s 235ms/step - loss: 0.4150 - acc: 0.8093\n",
      "Epoch 13/20\n",
      "391/391 [==============================] - 92s 235ms/step - loss: 0.4126 - acc: 0.8093\n",
      "Epoch 14/20\n",
      "391/391 [==============================] - 92s 235ms/step - loss: 0.3939 - acc: 0.8228\n",
      "Epoch 15/20\n",
      "391/391 [==============================] - 91s 234ms/step - loss: 0.3838 - acc: 0.8281\n",
      "Epoch 16/20\n",
      "391/391 [==============================] - 92s 235ms/step - loss: 0.3735 - acc: 0.8353\n",
      "Epoch 17/20\n",
      "391/391 [==============================] - 92s 236ms/step - loss: 0.3688 - acc: 0.8380\n",
      "Epoch 18/20\n",
      "391/391 [==============================] - 94s 240ms/step - loss: 0.3568 - acc: 0.8435\n",
      "Epoch 19/20\n",
      "391/391 [==============================] - 95s 243ms/step - loss: 0.3510 - acc: 0.8468\n",
      "Epoch 20/20\n",
      "391/391 [==============================] - 98s 249ms/step - loss: 0.3399 - acc: 0.8521\n"
     ]
    },
    {
     "data": {
      "text/plain": [
       "<tensorflow.python.keras.callbacks.History at 0x22a067a2d60>"
      ]
     },
     "execution_count": 5,
     "metadata": {},
     "output_type": "execute_result"
    }
   ],
   "source": [
    "model.fit(X, y, epochs=20, batch_size=64)"
   ]
  },
  {
   "cell_type": "code",
   "execution_count": 6,
   "metadata": {},
   "outputs": [],
   "source": [
    "model.save(\"dave.h5\")"
   ]
  },
  {
   "cell_type": "code",
   "execution_count": null,
   "metadata": {},
   "outputs": [],
   "source": []
  }
 ],
 "metadata": {
  "kernelspec": {
   "display_name": "Python 3",
   "language": "python",
   "name": "python3"
  },
  "language_info": {
   "codemirror_mode": {
    "name": "ipython",
    "version": 3
   },
   "file_extension": ".py",
   "mimetype": "text/x-python",
   "name": "python",
   "nbconvert_exporter": "python",
   "pygments_lexer": "ipython3",
   "version": "3.8.5"
  }
 },
 "nbformat": 4,
 "nbformat_minor": 2
}
