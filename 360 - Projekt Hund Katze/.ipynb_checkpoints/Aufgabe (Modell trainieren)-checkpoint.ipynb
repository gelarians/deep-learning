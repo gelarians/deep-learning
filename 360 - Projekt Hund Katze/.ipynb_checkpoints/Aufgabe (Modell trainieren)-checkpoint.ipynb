{
 "cells": [
  {
   "cell_type": "markdown",
   "metadata": {},
   "source": [
    "## Aufgabe: \n",
    "\n",
    "Trainiere ein Modell, welches Katzen und Hunden unterscheiden kann!\n",
    "\n",
    "### Lösungstipp 1:\n",
    "\n",
    "Dieses Modell wird recht komplex werden, und entsprechend lange zum Training benötigen. Später werden wir noch ein schnelleres Modell kennenlernen - für diese Aufgabe möchtest du aber auf jeden Fall eine GPU zur Verfügung haben. \n",
    "\n",
    "### Lösungstipp 2:\n",
    "\n",
    "Ggf. macht es Sinn, die Datenmenge erstmal zu reduzieren - beispielsweise könntest du mit 1000 Hund-Bildern und 1000 Katzen-Bildern starten. Du darfst den Code aus den letzten Lektionen 1:1 übernehmen, anpassen,...\n",
    "\n",
    "### Lösungstipp 3:\n",
    "\n",
    "Um die Bilder korrekt zu klassifizieren, wirst du u.U. mehrere Layer benötigen. Du könntest hier z.B. einen Aufbau ähnlich zum VGG-Netz verwenden, also mehrere Blöcke mit jeweils 2-3 Convolutional-Layern, die von einem MaxPooling abgeschlossen werden. Nach mehreren dieser Blöcke kannst du dann 2-3 Dense-Layer platzieren, um die Ergebnisse auf 1 Neuron herunterzubrechen.\n",
    "\n",
    "### Lösungstipp 4:\n",
    "\n",
    "Ggf. sind die y-Daten noch nicht im richtigen Format. Du brauchst hier eine Shape von (X, 1), wobei X hier die Anzahl der Datensätze sind. Die Shape der y-Variable kannst du dir über `y.shape` ausgeben, sollte die Shape nicht `(X, 1)` sein, so kannst du hierfür den `.reshape`-Befehl verwenden.\n",
    "\n",
    "### Lösungstipp 5: \n",
    "\n",
    "Gegebenenfalls wird dein Netz trotzdem die Daten nicht korrekt lernen können. Das liegt dann daran, dass die Lernrate zu hoch ist - in dem Fall musst du die Lernrate verringern. Beispiel (für \"adam\"):\n",
    "\n",
    "```python\n",
    "from keras.optimizers import Adam\n",
    "model.compile(optimizer=Adam(lr=0.000001), loss=\"binary_crossentropy\", metrics=[\"acc\"])\n",
    "```\n"
   ]
  },
  {
   "cell_type": "code",
   "execution_count": null,
   "metadata": {},
   "outputs": [],
   "source": []
  },
  {
   "cell_type": "code",
   "execution_count": null,
   "metadata": {},
   "outputs": [],
   "source": []
  }
 ],
 "metadata": {
  "kernelspec": {
   "display_name": "Python [conda env:tensorflow_p36]",
   "language": "python",
   "name": "conda-env-tensorflow_p36-py"
  },
  "language_info": {
   "codemirror_mode": {
    "name": "ipython",
    "version": 3
   },
   "file_extension": ".py",
   "mimetype": "text/x-python",
   "name": "python",
   "nbconvert_exporter": "python",
   "pygments_lexer": "ipython3",
   "version": "3.6.4"
  }
 },
 "nbformat": 4,
 "nbformat_minor": 2
}
