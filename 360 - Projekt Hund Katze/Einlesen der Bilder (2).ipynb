{
 "cells": [
  {
   "cell_type": "code",
   "execution_count": 9,
   "metadata": {},
   "outputs": [
    {
     "name": "stderr",
     "output_type": "stream",
     "text": [
      "<ipython-input-9-ced7398b7b8b>:13: TqdmDeprecationWarning: This function will be removed in tqdm==5.0.0\n",
      "Please use `tqdm.notebook.tqdm` instead of `tqdm.tqdm_notebook`\n",
      "  for file in tqdm(files):\n"
     ]
    },
    {
     "data": {
      "application/vnd.jupyter.widget-view+json": {
       "model_id": "915f48ee5f5b4474818db42c9b1a215b",
       "version_major": 2,
       "version_minor": 0
      },
      "text/plain": [
       "HBox(children=(HTML(value=''), FloatProgress(value=0.0, max=12500.0), HTML(value='')))"
      ]
     },
     "metadata": {},
     "output_type": "display_data"
    },
    {
     "name": "stdout",
     "output_type": "stream",
     "text": [
      "\n"
     ]
    }
   ],
   "source": [
    "import os\n",
    "import numpy as np\n",
    "from tqdm import tqdm_notebook as tqdm\n",
    "from PIL import Image\n",
    "\n",
    "def read_images(path):\n",
    "    files = os.listdir(path)\n",
    "    files = [file for file in files if file[-4:] == \".jpg\"]\n",
    "    \n",
    "    # files = files[:2000]\n",
    "    \n",
    "    images = []\n",
    "    for file in tqdm(files):\n",
    "        try:\n",
    "            image = Image.open(os.path.join(path, file))\n",
    "\n",
    "            # https://pillow.readthedocs.io/en/3.1.x/reference/Image.html#PIL.Image.Image.resize\n",
    "            image = image.resize((224, 224), Image.LANCZOS)\n",
    "\n",
    "            # https://pillow.readthedocs.io/en/3.1.x/reference/Image.html#PIL.Image.Image.convert\n",
    "            image = image.convert(\"RGB\")\n",
    "\n",
    "            image = np.asarray(image)\n",
    "\n",
    "            images.append(image)\n",
    "        except OSError:\n",
    "            pass\n",
    "    \n",
    "    return images\n",
    "    \n",
    "cats = read_images(os.path.join(\"data\", \"PetImages\", \"Cat\"))"
   ]
  },
  {
   "cell_type": "code",
   "execution_count": 6,
   "metadata": {},
   "outputs": [
    {
     "data": {
      "text/plain": [
       "array([[[203, 164,  87],\n",
       "        [205, 166,  89],\n",
       "        [208, 169,  92],\n",
       "        ...,\n",
       "        [245, 203, 121],\n",
       "        [241, 202, 122],\n",
       "        [239, 200, 121]],\n",
       "\n",
       "       [[203, 164,  87],\n",
       "        [205, 166,  89],\n",
       "        [208, 169,  92],\n",
       "        ...,\n",
       "        [244, 204, 121],\n",
       "        [242, 202, 123],\n",
       "        [240, 201, 122]],\n",
       "\n",
       "       [[203, 164,  87],\n",
       "        [205, 166,  89],\n",
       "        [208, 169,  92],\n",
       "        ...,\n",
       "        [243, 205, 123],\n",
       "        [242, 203, 123],\n",
       "        [240, 201, 122]],\n",
       "\n",
       "       ...,\n",
       "\n",
       "       [[154, 123,  56],\n",
       "        [155, 124,  57],\n",
       "        [156, 125,  58],\n",
       "        ...,\n",
       "        [  3,   3,   1],\n",
       "        [  3,   3,   1],\n",
       "        [  3,   3,   1]],\n",
       "\n",
       "       [[153, 122,  55],\n",
       "        [153, 122,  55],\n",
       "        [154, 123,  56],\n",
       "        ...,\n",
       "        [  2,   2,   0],\n",
       "        [  2,   2,   0],\n",
       "        [  2,   2,   0]],\n",
       "\n",
       "       [[151, 120,  53],\n",
       "        [152, 121,  54],\n",
       "        [153, 122,  55],\n",
       "        ...,\n",
       "        [  1,   1,   0],\n",
       "        [  1,   1,   0],\n",
       "        [  1,   1,   0]]], dtype=uint8)"
      ]
     },
     "execution_count": 6,
     "metadata": {},
     "output_type": "execute_result"
    }
   ],
   "source": [
    "cats[0]\n"
   ]
  },
  {
   "cell_type": "code",
   "execution_count": null,
   "metadata": {},
   "outputs": [],
   "source": []
  }
 ],
 "metadata": {
  "kernelspec": {
   "display_name": "Python 3",
   "language": "python",
   "name": "python3"
  },
  "language_info": {
   "codemirror_mode": {
    "name": "ipython",
    "version": 3
   },
   "file_extension": ".py",
   "mimetype": "text/x-python",
   "name": "python",
   "nbconvert_exporter": "python",
   "pygments_lexer": "ipython3",
   "version": "3.8.5"
  }
 },
 "nbformat": 4,
 "nbformat_minor": 2
}
