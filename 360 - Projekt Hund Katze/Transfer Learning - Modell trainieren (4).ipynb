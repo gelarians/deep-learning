{
 "cells": [
  {
   "cell_type": "code",
   "execution_count": 10,
   "metadata": {},
   "outputs": [
    {
     "name": "stderr",
     "output_type": "stream",
     "text": [
      "<ipython-input-10-80f19bd85744>:15: TqdmDeprecationWarning: This function will be removed in tqdm==5.0.0\n",
      "Please use `tqdm.notebook.tqdm` instead of `tqdm.tqdm_notebook`\n",
      "  for file in tqdm(files):\n"
     ]
    },
    {
     "data": {
      "application/vnd.jupyter.widget-view+json": {
       "model_id": "38c649e76894452ebe6c485d3d792d1c",
       "version_major": 2,
       "version_minor": 0
      },
      "text/plain": [
       "HBox(children=(HTML(value=''), FloatProgress(value=0.0, max=2000.0), HTML(value='')))"
      ]
     },
     "metadata": {},
     "output_type": "display_data"
    },
    {
     "name": "stdout",
     "output_type": "stream",
     "text": [
      "\n"
     ]
    },
    {
     "data": {
      "application/vnd.jupyter.widget-view+json": {
       "model_id": "8176db6cd9ec4c0fbe0aa963fdcced80",
       "version_major": 2,
       "version_minor": 0
      },
      "text/plain": [
       "HBox(children=(HTML(value=''), FloatProgress(value=0.0, max=2000.0), HTML(value='')))"
      ]
     },
     "metadata": {},
     "output_type": "display_data"
    },
    {
     "name": "stdout",
     "output_type": "stream",
     "text": [
      "\n"
     ]
    }
   ],
   "source": [
    "# Einlesen der Daten\n",
    "\n",
    "import os\n",
    "import numpy as np\n",
    "from tqdm import tqdm_notebook as tqdm\n",
    "from PIL import Image\n",
    "\n",
    "def read_images(path):\n",
    "    files = os.listdir(path)\n",
    "    files = [file for file in files if file[-4:] == \".jpg\"]\n",
    "    \n",
    "    files = files[:2000]\n",
    "    \n",
    "    images = []\n",
    "    for file in tqdm(files):\n",
    "        try:\n",
    "            image = Image.open(os.path.join(path, file))\n",
    "\n",
    "            # https://pillow.readthedocs.io/en/3.1.x/reference/Image.html#PIL.Image.Image.resize\n",
    "            image = image.resize((224, 224), Image.LANCZOS)\n",
    "\n",
    "            # https://pillow.readthedocs.io/en/3.1.x/reference/Image.html#PIL.Image.Image.convert\n",
    "            image = image.convert(\"RGB\")\n",
    "\n",
    "            image = np.asarray(image)\n",
    "\n",
    "            images.append(image)\n",
    "        except OSError:\n",
    "            pass\n",
    "    \n",
    "    return images\n",
    "    \n",
    "cats = read_images(os.path.join(\"data\", \"PetImages\", \"Cat\"))\n",
    "dogs = read_images(os.path.join(\"data\", \"PetImages\", \"Dog\"))\n",
    "\n",
    "dogs = np.asarray(dogs)\n",
    "cats = np.asarray(cats)\n",
    "\n",
    "# X = np.concatenate([dogs, cats]).astype(np.float32) / 255.\n",
    "X = np.concatenate([dogs, cats])\n",
    "\n",
    "y_dogs = np.zeros(len(dogs))\n",
    "y_cats = np.ones(len(cats))\n",
    "\n",
    "y = np.concatenate([y_dogs, y_cats])\n",
    "\n",
    "del dogs, cats, y_dogs, y_cats"
   ]
  },
  {
   "cell_type": "markdown",
   "metadata": {},
   "source": [
    "## Transfer Learning mit VGG16"
   ]
  },
  {
   "cell_type": "code",
   "execution_count": 11,
   "metadata": {},
   "outputs": [],
   "source": [
    "from tensorflow.keras.applications.vgg16 import VGG16, preprocess_input\n",
    "\n",
    "X = preprocess_input(X)"
   ]
  },
  {
   "cell_type": "code",
   "execution_count": 12,
   "metadata": {},
   "outputs": [
    {
     "name": "stdout",
     "output_type": "stream",
     "text": [
      "125/125 [==============================] - 29s 137ms/step\n"
     ]
    }
   ],
   "source": [
    "vgg16_model = VGG16(include_top=False, input_shape=(224, 224, 3))\n",
    "vgg16_model.trainable = False\n",
    "\n",
    "X_after_vgg = vgg16_model.predict(X, verbose=1)"
   ]
  },
  {
   "cell_type": "code",
   "execution_count": 13,
   "metadata": {},
   "outputs": [
    {
     "data": {
      "text/plain": [
       "(3999, 7, 7, 512)"
      ]
     },
     "execution_count": 13,
     "metadata": {},
     "output_type": "execute_result"
    }
   ],
   "source": [
    "X_after_vgg.shape"
   ]
  },
  {
   "cell_type": "code",
   "execution_count": 14,
   "metadata": {},
   "outputs": [],
   "source": [
    "from sklearn.utils import shuffle\n",
    "\n",
    "X_after_vgg, y = shuffle(X_after_vgg, y)"
   ]
  },
  {
   "cell_type": "code",
   "execution_count": 15,
   "metadata": {},
   "outputs": [
    {
     "name": "stdout",
     "output_type": "stream",
     "text": [
      "Model: \"sequential\"\n",
      "_________________________________________________________________\n",
      "Layer (type)                 Output Shape              Param #   \n",
      "=================================================================\n",
      "flatten (Flatten)            (None, 25088)             0         \n",
      "_________________________________________________________________\n",
      "dense (Dense)                (None, 1024)              25691136  \n",
      "_________________________________________________________________\n",
      "dense_1 (Dense)              (None, 16)                16400     \n",
      "_________________________________________________________________\n",
      "dense_2 (Dense)              (None, 1)                 17        \n",
      "=================================================================\n",
      "Total params: 25,707,553\n",
      "Trainable params: 25,707,553\n",
      "Non-trainable params: 0\n",
      "_________________________________________________________________\n"
     ]
    }
   ],
   "source": [
    "from tensorflow.keras.models import Sequential\n",
    "from tensorflow.keras.layers import Dense, Flatten\n",
    "from tensorflow.keras.optimizers import Adam\n",
    "\n",
    "model = Sequential()\n",
    "\n",
    "model.add(Flatten(input_shape=(7, 7, 512)))\n",
    "model.add(Dense(1024, activation=\"relu\"))\n",
    "model.add(Dense(16, activation=\"relu\"))\n",
    "model.add(Dense(1, activation=\"sigmoid\"))\n",
    "\n",
    "model.add\n",
    "\n",
    "model.compile(optimizer=Adam(lr=0.0001), loss=\"binary_crossentropy\", metrics=[\"acc\"])\n",
    "\n",
    "model.summary()"
   ]
  },
  {
   "cell_type": "code",
   "execution_count": 16,
   "metadata": {},
   "outputs": [
    {
     "name": "stdout",
     "output_type": "stream",
     "text": [
      "Epoch 1/50\n",
      "50/50 [==============================] - 2s 26ms/step - loss: 1.2546 - acc: 0.8487 - val_loss: 0.1456 - val_acc: 0.9650\n",
      "Epoch 2/50\n",
      "50/50 [==============================] - 1s 18ms/step - loss: 0.0548 - acc: 0.9794 - val_loss: 0.1389 - val_acc: 0.9700\n",
      "Epoch 3/50\n",
      "50/50 [==============================] - 1s 18ms/step - loss: 0.0270 - acc: 0.9842 - val_loss: 0.1728 - val_acc: 0.9688\n",
      "Epoch 4/50\n",
      "50/50 [==============================] - 1s 25ms/step - loss: 0.0150 - acc: 0.9932 - val_loss: 0.1535 - val_acc: 0.9663\n",
      "Epoch 5/50\n",
      "50/50 [==============================] - 1s 18ms/step - loss: 0.0058 - acc: 0.9980 - val_loss: 0.1593 - val_acc: 0.9663\n",
      "Epoch 6/50\n",
      "50/50 [==============================] - 1s 18ms/step - loss: 0.0055 - acc: 0.9979 - val_loss: 0.2114 - val_acc: 0.9638\n",
      "Epoch 7/50\n",
      "50/50 [==============================] - 1s 18ms/step - loss: 0.0041 - acc: 0.9984 - val_loss: 0.1590 - val_acc: 0.9700\n",
      "Epoch 8/50\n",
      "50/50 [==============================] - 1s 19ms/step - loss: 0.0031 - acc: 0.9991 - val_loss: 0.1580 - val_acc: 0.9700\n",
      "Epoch 9/50\n",
      "50/50 [==============================] - 1s 18ms/step - loss: 0.0033 - acc: 0.9988 - val_loss: 0.1616 - val_acc: 0.9688\n",
      "Epoch 10/50\n",
      "50/50 [==============================] - 1s 18ms/step - loss: 0.0024 - acc: 0.9984 - val_loss: 0.1639 - val_acc: 0.9688\n",
      "Epoch 11/50\n",
      "50/50 [==============================] - 1s 18ms/step - loss: 0.0026 - acc: 0.9996 - val_loss: 0.1662 - val_acc: 0.9700\n",
      "Epoch 12/50\n",
      "50/50 [==============================] - 1s 18ms/step - loss: 0.0021 - acc: 0.9994 - val_loss: 0.1680 - val_acc: 0.9700\n",
      "Epoch 13/50\n",
      "50/50 [==============================] - 1s 18ms/step - loss: 0.0013 - acc: 0.9996 - val_loss: 0.1696 - val_acc: 0.9700\n",
      "Epoch 14/50\n",
      "50/50 [==============================] - 1s 19ms/step - loss: 0.0044 - acc: 0.9992 - val_loss: 0.1710 - val_acc: 0.9700\n",
      "Epoch 15/50\n",
      "50/50 [==============================] - 1s 19ms/step - loss: 0.0029 - acc: 0.9987 - val_loss: 0.1723 - val_acc: 0.9700\n",
      "Epoch 16/50\n",
      "50/50 [==============================] - 1s 18ms/step - loss: 0.0043 - acc: 0.9992 - val_loss: 0.1734 - val_acc: 0.9700\n",
      "Epoch 17/50\n",
      "50/50 [==============================] - 1s 18ms/step - loss: 0.0032 - acc: 0.9987 - val_loss: 0.1744 - val_acc: 0.9700\n",
      "Epoch 18/50\n",
      "50/50 [==============================] - 1s 18ms/step - loss: 0.0045 - acc: 0.9989 - val_loss: 0.1899 - val_acc: 0.9762\n",
      "Epoch 19/50\n",
      "50/50 [==============================] - 1s 18ms/step - loss: 0.0015 - acc: 0.9999 - val_loss: 0.2106 - val_acc: 0.9737\n",
      "Epoch 20/50\n",
      "50/50 [==============================] - 1s 18ms/step - loss: 5.6929e-04 - acc: 1.0000 - val_loss: 0.2636 - val_acc: 0.9638\n",
      "Epoch 21/50\n",
      "50/50 [==============================] - 1s 18ms/step - loss: 0.0077 - acc: 0.9987 - val_loss: 0.2525 - val_acc: 0.9737\n",
      "Epoch 22/50\n",
      "50/50 [==============================] - 1s 18ms/step - loss: 0.0117 - acc: 0.9970 - val_loss: 0.3214 - val_acc: 0.9625\n",
      "Epoch 23/50\n",
      "50/50 [==============================] - 1s 18ms/step - loss: 0.0067 - acc: 0.9972 - val_loss: 0.5239 - val_acc: 0.9638\n",
      "Epoch 24/50\n",
      "50/50 [==============================] - 1s 18ms/step - loss: 0.0222 - acc: 0.9960 - val_loss: 0.3816 - val_acc: 0.9675\n",
      "Epoch 25/50\n",
      "50/50 [==============================] - 1s 18ms/step - loss: 0.0164 - acc: 0.9980 - val_loss: 0.3917 - val_acc: 0.9688\n",
      "Epoch 26/50\n",
      "50/50 [==============================] - 1s 18ms/step - loss: 0.0056 - acc: 0.9986 - val_loss: 0.3311 - val_acc: 0.9663\n",
      "Epoch 27/50\n",
      "50/50 [==============================] - 1s 18ms/step - loss: 4.8534e-04 - acc: 0.9999 - val_loss: 0.3905 - val_acc: 0.9712\n",
      "Epoch 28/50\n",
      "50/50 [==============================] - 1s 18ms/step - loss: 9.1412e-04 - acc: 1.0000 - val_loss: 0.3834 - val_acc: 0.9725\n",
      "Epoch 29/50\n",
      "50/50 [==============================] - 1s 19ms/step - loss: 8.4606e-04 - acc: 1.0000 - val_loss: 0.3838 - val_acc: 0.9725\n",
      "Epoch 30/50\n",
      "50/50 [==============================] - 1s 18ms/step - loss: 3.5426e-04 - acc: 1.0000 - val_loss: 0.3840 - val_acc: 0.9725\n",
      "Epoch 31/50\n",
      "50/50 [==============================] - 1s 18ms/step - loss: 5.0412e-04 - acc: 1.0000 - val_loss: 0.3841 - val_acc: 0.9725\n",
      "Epoch 32/50\n",
      "50/50 [==============================] - 1s 18ms/step - loss: 3.7171e-04 - acc: 1.0000 - val_loss: 0.3843 - val_acc: 0.9725\n",
      "Epoch 33/50\n",
      "50/50 [==============================] - 1s 18ms/step - loss: 4.2885e-04 - acc: 1.0000 - val_loss: 0.3844 - val_acc: 0.9725\n",
      "Epoch 34/50\n",
      "50/50 [==============================] - 1s 18ms/step - loss: 9.6940e-05 - acc: 1.0000 - val_loss: 0.3846 - val_acc: 0.9725\n",
      "Epoch 35/50\n",
      "50/50 [==============================] - 1s 18ms/step - loss: 9.1472e-04 - acc: 1.0000 - val_loss: 0.3847 - val_acc: 0.9725\n",
      "Epoch 36/50\n",
      "50/50 [==============================] - 1s 18ms/step - loss: 3.7462e-04 - acc: 1.0000 - val_loss: 0.3849 - val_acc: 0.9725\n",
      "Epoch 37/50\n",
      "50/50 [==============================] - 1s 17ms/step - loss: 4.3917e-05 - acc: 1.0000 - val_loss: 0.3850 - val_acc: 0.9725\n",
      "Epoch 38/50\n",
      "50/50 [==============================] - 1s 18ms/step - loss: 3.3726e-04 - acc: 1.0000 - val_loss: 0.3851 - val_acc: 0.9725\n",
      "Epoch 39/50\n",
      "50/50 [==============================] - 1s 18ms/step - loss: 6.9313e-04 - acc: 1.0000 - val_loss: 0.3852 - val_acc: 0.9725\n",
      "Epoch 40/50\n",
      "50/50 [==============================] - 1s 18ms/step - loss: 3.3601e-04 - acc: 1.0000 - val_loss: 0.3853 - val_acc: 0.9725\n",
      "Epoch 41/50\n",
      "50/50 [==============================] - 1s 18ms/step - loss: 2.3386e-04 - acc: 1.0000 - val_loss: 0.3855 - val_acc: 0.9725\n",
      "Epoch 42/50\n",
      "50/50 [==============================] - 1s 18ms/step - loss: 4.2508e-04 - acc: 1.0000 - val_loss: 0.3855 - val_acc: 0.9725\n",
      "Epoch 43/50\n",
      "50/50 [==============================] - 1s 18ms/step - loss: 2.6489e-04 - acc: 1.0000 - val_loss: 0.3857 - val_acc: 0.9725\n",
      "Epoch 44/50\n",
      "50/50 [==============================] - 1s 18ms/step - loss: 2.9155e-04 - acc: 1.0000 - val_loss: 0.3858 - val_acc: 0.9725\n",
      "Epoch 45/50\n",
      "50/50 [==============================] - 1s 18ms/step - loss: 4.3063e-04 - acc: 1.0000 - val_loss: 0.3859 - val_acc: 0.9725\n",
      "Epoch 46/50\n",
      "50/50 [==============================] - 1s 18ms/step - loss: 9.4112e-05 - acc: 1.0000 - val_loss: 0.3860 - val_acc: 0.9725\n",
      "Epoch 47/50\n",
      "50/50 [==============================] - 1s 18ms/step - loss: 1.9869e-04 - acc: 1.0000 - val_loss: 0.3861 - val_acc: 0.9725\n",
      "Epoch 48/50\n",
      "50/50 [==============================] - 1s 18ms/step - loss: 3.9421e-04 - acc: 1.0000 - val_loss: 0.3861 - val_acc: 0.9725\n",
      "Epoch 49/50\n",
      "50/50 [==============================] - 1s 17ms/step - loss: 3.9111e-04 - acc: 1.0000 - val_loss: 0.3862 - val_acc: 0.9725\n",
      "Epoch 50/50\n",
      "50/50 [==============================] - 1s 18ms/step - loss: 7.9517e-05 - acc: 1.0000 - val_loss: 0.3863 - val_acc: 0.9725\n"
     ]
    },
    {
     "data": {
      "text/plain": [
       "<tensorflow.python.keras.callbacks.History at 0x21595a90700>"
      ]
     },
     "execution_count": 16,
     "metadata": {},
     "output_type": "execute_result"
    }
   ],
   "source": [
    "model.fit(X_after_vgg, y, epochs=50, batch_size=64, validation_split=0.2, shuffle=True)"
   ]
  },
  {
   "cell_type": "code",
   "execution_count": 17,
   "metadata": {},
   "outputs": [],
   "source": [
    "model.save(\"transfer-learning-dave.h5\")"
   ]
  },
  {
   "cell_type": "code",
   "execution_count": null,
   "metadata": {},
   "outputs": [],
   "source": []
  }
 ],
 "metadata": {
  "kernelspec": {
   "display_name": "Python 3",
   "language": "python",
   "name": "python3"
  },
  "language_info": {
   "codemirror_mode": {
    "name": "ipython",
    "version": 3
   },
   "file_extension": ".py",
   "mimetype": "text/x-python",
   "name": "python",
   "nbconvert_exporter": "python",
   "pygments_lexer": "ipython3",
   "version": "3.8.5"
  }
 },
 "nbformat": 4,
 "nbformat_minor": 2
}
