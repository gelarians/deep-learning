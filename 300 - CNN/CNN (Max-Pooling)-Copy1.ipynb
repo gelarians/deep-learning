{
 "cells": [
  {
   "cell_type": "code",
   "execution_count": 1,
   "metadata": {},
   "outputs": [],
   "source": [
    "# Vorstellung: MNIST-Daten!\n",
    "# http://yann.lecun.com/exdb/mnist/\n",
    "# FashionMNIST: https://github.com/zalandoresearch/fashion-mnist\n",
    "\n",
    "import gzip\n",
    "import numpy as np\n",
    "from tensorflow.keras.utils import to_categorical\n",
    "\n",
    "def open_images(filename):\n",
    "    with gzip.open(filename, \"rb\") as file:\n",
    "        data = file.read()\n",
    "        return np.frombuffer(data, dtype=np.uint8, offset=16)\\\n",
    "            .reshape(-1, 28, 28)\\\n",
    "            .astype(np.float32)\n",
    "\n",
    "\n",
    "def open_labels(filename):\n",
    "    with gzip.open(filename, \"rb\") as file:\n",
    "        data = file.read()\n",
    "        return np.frombuffer(data, dtype=np.uint8, offset=8)\n",
    "    \n",
    "X_train = open_images(\"../data/fashion/train-images-idx3-ubyte.gz\")\n",
    "y_train = open_labels(\"../data/fashion/train-labels-idx1-ubyte.gz\")\n",
    "\n",
    "X_test = open_images(\"../data/fashion/t10k-images-idx3-ubyte.gz\")\n",
    "y_test = open_labels(\"../data/fashion/t10k-labels-idx1-ubyte.gz\")\n",
    "\n",
    "y_train = to_categorical(y_train)\n",
    "y_test = to_categorical(y_test)"
   ]
  },
  {
   "cell_type": "code",
   "execution_count": 2,
   "metadata": {},
   "outputs": [
    {
     "name": "stdout",
     "output_type": "stream",
     "text": [
      "Epoch 1/10\n",
      "60/60 [==============================] - 5s 74ms/step - loss: 1.4860 - accuracy: 0.4975\n",
      "Epoch 2/10\n",
      "60/60 [==============================] - 5s 77ms/step - loss: 0.5779 - accuracy: 0.7977\n",
      "Epoch 3/10\n",
      "60/60 [==============================] - 4s 75ms/step - loss: 0.4721 - accuracy: 0.8359\n",
      "Epoch 4/10\n",
      "60/60 [==============================] - 4s 73ms/step - loss: 0.4241 - accuracy: 0.8535\n",
      "Epoch 5/10\n",
      "60/60 [==============================] - 4s 73ms/step - loss: 0.3887 - accuracy: 0.8658\n",
      "Epoch 6/10\n",
      "60/60 [==============================] - 4s 73ms/step - loss: 0.3705 - accuracy: 0.8717\n",
      "Epoch 7/10\n",
      "60/60 [==============================] - 5s 76ms/step - loss: 0.3519 - accuracy: 0.8764\n",
      "Epoch 8/10\n",
      "60/60 [==============================] - 5s 75ms/step - loss: 0.3364 - accuracy: 0.8814\n",
      "Epoch 9/10\n",
      "60/60 [==============================] - 5s 75ms/step - loss: 0.3277 - accuracy: 0.8841\n",
      "Epoch 10/10\n",
      "60/60 [==============================] - 5s 76ms/step - loss: 0.3195 - accuracy: 0.8885\n",
      "313/313 [==============================] - 1s 1ms/step - loss: 0.3274 - accuracy: 0.8898\n",
      "[0.32738327980041504, 0.8898000121116638]\n"
     ]
    }
   ],
   "source": [
    "from tensorflow.keras.models import Sequential\n",
    "from tensorflow.keras.layers import Dense, Conv2D, MaxPooling2D, Flatten, Dropout\n",
    "\n",
    "model = Sequential()\n",
    "\n",
    "model.add(Conv2D(10, kernel_size=(3, 3), activation=\"relu\", input_shape=(28, 28, 1)))\n",
    "model.add(MaxPooling2D(pool_size=(2, 2)))\n",
    "model.add(Flatten())\n",
    "model.add(Dropout(0.25))\n",
    "\n",
    "model.add(Dense(100, activation=\"relu\"))\n",
    "model.add(Dropout(0.25))\n",
    "\n",
    "model.add(Dense(100, activation=\"relu\"))\n",
    "model.add(Dropout(0.25))\n",
    "\n",
    "model.add(Dense(100, activation=\"relu\"))\n",
    "model.add(Dropout(0.25))\n",
    "\n",
    "model.add(Dense(100, activation=\"sigmoid\"))\n",
    "model.add(Dense(10, activation=\"softmax\"))\n",
    "\n",
    "model.compile(optimizer=\"rmsprop\", loss=\"categorical_crossentropy\", metrics=[\"accuracy\"])\n",
    "\n",
    "model.fit(\n",
    "    X_train.reshape(60000, 28, 28, 1),\n",
    "    y_train,\n",
    "    epochs=10,\n",
    "    batch_size=1000)\n",
    "\n",
    "print(model.evaluate(X_test.reshape(-1, 28, 28, 1), y_test))"
   ]
  },
  {
   "cell_type": "code",
   "execution_count": 13,
   "metadata": {},
   "outputs": [
    {
     "name": "stdout",
     "output_type": "stream",
     "text": [
      "10000/10000 [==============================] - 1s 62us/step\n"
     ]
    },
    {
     "data": {
      "text/plain": [
       "[0.5640673876047134, 0.8366]"
      ]
     },
     "execution_count": 13,
     "metadata": {},
     "output_type": "execute_result"
    }
   ],
   "source": [
    "model.evaluate(X_test.reshape(-1, 28, 28, 1), y_test)"
   ]
  },
  {
   "cell_type": "code",
   "execution_count": 3,
   "metadata": {},
   "outputs": [
    {
     "name": "stdout",
     "output_type": "stream",
     "text": [
      "Epoch 1/10\n",
      "60/60 [==============================] - 4s 67ms/step - loss: 1.3271 - accuracy: 0.5742\n",
      "Epoch 2/10\n",
      "60/60 [==============================] - 4s 68ms/step - loss: 0.5529 - accuracy: 0.8054\n",
      "Epoch 3/10\n",
      "60/60 [==============================] - 4s 70ms/step - loss: 0.4724 - accuracy: 0.8297\n",
      "Epoch 4/10\n",
      "60/60 [==============================] - 4s 68ms/step - loss: 0.4212 - accuracy: 0.8494\n",
      "Epoch 5/10\n",
      "60/60 [==============================] - 4s 68ms/step - loss: 0.4040 - accuracy: 0.8526\n",
      "Epoch 6/10\n",
      "60/60 [==============================] - 4s 70ms/step - loss: 0.3802 - accuracy: 0.8632\n",
      "Epoch 7/10\n",
      "60/60 [==============================] - 4s 73ms/step - loss: 0.3605 - accuracy: 0.8690\n",
      "Epoch 8/10\n",
      "60/60 [==============================] - 4s 70ms/step - loss: 0.3444 - accuracy: 0.8767\n",
      "Epoch 9/10\n",
      "60/60 [==============================] - 4s 70ms/step - loss: 0.3432 - accuracy: 0.8765\n",
      "Epoch 10/10\n",
      "60/60 [==============================] - 4s 71ms/step - loss: 0.3188 - accuracy: 0.8861\n"
     ]
    },
    {
     "data": {
      "text/plain": [
       "<tensorflow.python.keras.callbacks.History at 0x7fcda73950a0>"
      ]
     },
     "execution_count": 3,
     "metadata": {},
     "output_type": "execute_result"
    }
   ],
   "source": [
    "# CNN (Max-Pooling, Sigmoid)!\n",
    "\n",
    "from tensorflow.keras.models import Sequential\n",
    "from tensorflow.keras.layers import Dense, Conv2D, MaxPooling2D, Flatten\n",
    "\n",
    "model2 = Sequential()\n",
    "\n",
    "model2.add(Conv2D(10, kernel_size=(3, 3), activation=\"sigmoid\", input_shape=(28, 28, 1)))\n",
    "model2.add(MaxPooling2D(pool_size=(2, 2)))\n",
    "model2.add(Flatten())\n",
    "model2.add(Dense(10, activation=\"softmax\"))\n",
    "\n",
    "model2.compile(optimizer=\"rmsprop\", loss=\"categorical_crossentropy\", metrics=[\"accuracy\"])\n",
    "\n",
    "model2.fit(\n",
    "    X_train.reshape(60000, 28, 28, 1),\n",
    "    y_train,\n",
    "    epochs=10,\n",
    "    batch_size=1000)"
   ]
  },
  {
   "cell_type": "code",
   "execution_count": 15,
   "metadata": {},
   "outputs": [
    {
     "name": "stdout",
     "output_type": "stream",
     "text": [
      "10000/10000 [==============================] - 1s 68us/step\n"
     ]
    },
    {
     "data": {
      "text/plain": [
       "[0.3964018678665161, 0.8529]"
      ]
     },
     "execution_count": 15,
     "metadata": {},
     "output_type": "execute_result"
    }
   ],
   "source": [
    "model2.evaluate(X_test.reshape(-1, 28, 28, 1), y_test)"
   ]
  },
  {
   "cell_type": "code",
   "execution_count": null,
   "metadata": {},
   "outputs": [],
   "source": []
  }
 ],
 "metadata": {
  "kernelspec": {
   "display_name": "Python 3",
   "language": "python",
   "name": "python3"
  },
  "language_info": {
   "codemirror_mode": {
    "name": "ipython",
    "version": 3
   },
   "file_extension": ".py",
   "mimetype": "text/x-python",
   "name": "python",
   "nbconvert_exporter": "python",
   "pygments_lexer": "ipython3",
   "version": "3.8.5"
  }
 },
 "nbformat": 4,
 "nbformat_minor": 2
}
