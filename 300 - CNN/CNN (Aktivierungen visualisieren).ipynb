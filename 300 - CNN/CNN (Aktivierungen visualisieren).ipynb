{
 "cells": [
  {
   "cell_type": "code",
   "execution_count": 1,
   "metadata": {},
   "outputs": [],
   "source": [
    "# Vorstellung: MNIST-Daten!\n",
    "# http://yann.lecun.com/exdb/mnist/\n",
    "# FashionMNIST: https://github.com/zalandoresearch/fashion-mnist\n",
    "\n",
    "import gzip\n",
    "import numpy as np\n",
    "from  tensorflow.keras.utils import to_categorical\n",
    "\n",
    "def open_images(filename):\n",
    "    with gzip.open(filename, \"rb\") as file:\n",
    "        data = file.read()\n",
    "        return np.frombuffer(data, dtype=np.uint8, offset=16)\\\n",
    "            .reshape(-1, 28, 28)\\\n",
    "            .astype(np.float32)\n",
    "\n",
    "\n",
    "def open_labels(filename):\n",
    "    with gzip.open(filename, \"rb\") as file:\n",
    "        data = file.read()\n",
    "        return np.frombuffer(data, dtype=np.uint8, offset=8)\n",
    "    \n",
    "X_train = open_images(\"../data/fashion/train-images-idx3-ubyte.gz\")\n",
    "y_train = open_labels(\"../data/fashion/train-labels-idx1-ubyte.gz\")\n",
    "\n",
    "X_test = open_images(\"../data/fashion/t10k-images-idx3-ubyte.gz\")\n",
    "y_test = open_labels(\"../data/fashion/t10k-labels-idx1-ubyte.gz\")\n",
    "\n",
    "y_train = to_categorical(y_train)\n",
    "y_test = to_categorical(y_test)"
   ]
  },
  {
   "cell_type": "code",
   "execution_count": 3,
   "metadata": {},
   "outputs": [
    {
     "name": "stdout",
     "output_type": "stream",
     "text": [
      "Epoch 1/10\n",
      "60/60 [==============================] - 3s 41ms/step - loss: 3.6799 - accuracy: 0.4110\n",
      "Epoch 2/10\n",
      "60/60 [==============================] - 2s 41ms/step - loss: 0.8512 - accuracy: 0.7183\n",
      "Epoch 3/10\n",
      "60/60 [==============================] - 3s 43ms/step - loss: 0.6171 - accuracy: 0.7854\n",
      "Epoch 4/10\n",
      "60/60 [==============================] - 3s 50ms/step - loss: 0.5387 - accuracy: 0.8133\n",
      "Epoch 5/10\n",
      "60/60 [==============================] - 3s 48ms/step - loss: 0.4887 - accuracy: 0.8280\n",
      "Epoch 6/10\n",
      "60/60 [==============================] - 3s 53ms/step - loss: 0.4252 - accuracy: 0.8492\n",
      "Epoch 7/10\n",
      "60/60 [==============================] - 3s 50ms/step - loss: 0.3952 - accuracy: 0.8579\n",
      "Epoch 8/10\n",
      "60/60 [==============================] - 3s 45ms/step - loss: 0.3685 - accuracy: 0.8678\n",
      "Epoch 9/10\n",
      "60/60 [==============================] - 3s 50ms/step - loss: 0.3575 - accuracy: 0.8712\n",
      "Epoch 10/10\n",
      "60/60 [==============================] - 3s 47ms/step - loss: 0.3221 - accuracy: 0.8861\n"
     ]
    },
    {
     "data": {
      "text/plain": [
       "<tensorflow.python.keras.callbacks.History at 0x7fa243617af0>"
      ]
     },
     "execution_count": 3,
     "metadata": {},
     "output_type": "execute_result"
    }
   ],
   "source": [
    "from  tensorflow.keras.models import Sequential\n",
    "from  tensorflow.keras.layers import Dense, Conv2D, Flatten\n",
    "\n",
    "model = Sequential()\n",
    "\n",
    "model.add(Conv2D(10, kernel_size=(3, 3), activation=\"sigmoid\", input_shape=(28, 28, 1)))\n",
    "model.add(Flatten())\n",
    "model.add(Dense(10, activation=\"softmax\"))\n",
    "\n",
    "model.compile(optimizer=\"rmsprop\", loss=\"categorical_crossentropy\", metrics=[\"accuracy\"])\n",
    "model.fit(X_train.reshape(60000, 28, 28, 1), y_train, epochs=10, batch_size=1000)"
   ]
  },
  {
   "cell_type": "code",
   "execution_count": 12,
   "metadata": {},
   "outputs": [
    {
     "data": {
      "text/plain": [
       "<tf.Variable 'conv2d_1/kernel:0' shape=(3, 3, 1, 10) dtype=float32, numpy=\n",
       "array([[[[-0.22464234, -0.29947788,  0.02368485,  0.15186165,\n",
       "           0.03218066,  0.15700102,  0.0375466 ,  0.14515738,\n",
       "          -0.19148675,  0.21803357]],\n",
       "\n",
       "        [[ 0.21952254, -0.20322494, -0.18503948, -0.24839935,\n",
       "          -0.04337317,  0.07383545,  0.17041396,  0.02654413,\n",
       "           0.09020488, -0.11046324]],\n",
       "\n",
       "        [[ 0.02137829, -0.03508775,  0.1413609 , -0.12539308,\n",
       "           0.12949362, -0.25400943, -0.3142536 , -0.02948268,\n",
       "           0.05137533,  0.08180097]]],\n",
       "\n",
       "\n",
       "       [[[-0.25359723, -0.07177307, -0.22130992, -0.10845511,\n",
       "          -0.19914028, -0.13040926, -0.11223446,  0.07386953,\n",
       "           0.01128729, -0.23089226]],\n",
       "\n",
       "        [[ 0.20418814,  0.02771723, -0.22822277, -0.05690966,\n",
       "          -0.17443842,  0.04831221, -0.2463876 ,  0.0840112 ,\n",
       "          -0.02102936, -0.16640037]],\n",
       "\n",
       "        [[ 0.19618152,  0.16022496, -0.03925523,  0.04678425,\n",
       "           0.13071457,  0.1071628 ,  0.04265934,  0.08296959,\n",
       "          -0.24968779, -0.10791748]]],\n",
       "\n",
       "\n",
       "       [[[ 0.04555656, -0.1446593 , -0.0215027 ,  0.15305448,\n",
       "           0.14868657, -0.0612766 ,  0.14121243, -0.23204088,\n",
       "           0.20321198,  0.03120831]],\n",
       "\n",
       "        [[-0.06916347, -0.01440534,  0.12773219, -0.15277435,\n",
       "           0.10253183,  0.10934599, -0.00491498, -0.05044239,\n",
       "           0.13753074,  0.05772649]],\n",
       "\n",
       "        [[-0.1539417 ,  0.20247516,  0.20838833,  0.07410545,\n",
       "          -0.30241752, -0.12185521, -0.02614596, -0.23819165,\n",
       "          -0.19984993, -0.23409678]]]], dtype=float32)>"
      ]
     },
     "execution_count": 12,
     "metadata": {},
     "output_type": "execute_result"
    }
   ],
   "source": [
    "model.layers[0].weights[0]"
   ]
  },
  {
   "cell_type": "code",
   "execution_count": 13,
   "metadata": {},
   "outputs": [
    {
     "name": "stdout",
     "output_type": "stream",
     "text": [
      "[[[[-0.22464234 -0.29947788  0.02368485  0.15186165  0.03218066\n",
      "     0.15700102  0.0375466   0.14515738 -0.19148675  0.21803357]]\n",
      "\n",
      "  [[ 0.21952254 -0.20322494 -0.18503948 -0.24839935 -0.04337317\n",
      "     0.07383545  0.17041396  0.02654413  0.09020488 -0.11046324]]\n",
      "\n",
      "  [[ 0.02137829 -0.03508775  0.1413609  -0.12539308  0.12949362\n",
      "    -0.25400943 -0.3142536  -0.02948268  0.05137533  0.08180097]]]\n",
      "\n",
      "\n",
      " [[[-0.25359723 -0.07177307 -0.22130992 -0.10845511 -0.19914028\n",
      "    -0.13040926 -0.11223446  0.07386953  0.01128729 -0.23089226]]\n",
      "\n",
      "  [[ 0.20418814  0.02771723 -0.22822277 -0.05690966 -0.17443842\n",
      "     0.04831221 -0.2463876   0.0840112  -0.02102936 -0.16640037]]\n",
      "\n",
      "  [[ 0.19618152  0.16022496 -0.03925523  0.04678425  0.13071457\n",
      "     0.1071628   0.04265934  0.08296959 -0.24968779 -0.10791748]]]\n",
      "\n",
      "\n",
      " [[[ 0.04555656 -0.1446593  -0.0215027   0.15305448  0.14868657\n",
      "    -0.0612766   0.14121243 -0.23204088  0.20321198  0.03120831]]\n",
      "\n",
      "  [[-0.06916347 -0.01440534  0.12773219 -0.15277435  0.10253183\n",
      "     0.10934599 -0.00491498 -0.05044239  0.13753074  0.05772649]]\n",
      "\n",
      "  [[-0.1539417   0.20247516  0.20838833  0.07410545 -0.30241752\n",
      "    -0.12185521 -0.02614596 -0.23819165 -0.19984993 -0.23409678]]]]\n"
     ]
    }
   ],
   "source": [
    "import  tensorflow.keras.backend as K\n",
    "\n",
    "data = K.eval(model.layers[0].weights[0])\n",
    "print(data)"
   ]
  },
  {
   "cell_type": "code",
   "execution_count": 14,
   "metadata": {},
   "outputs": [
    {
     "data": {
      "text/plain": [
       "array([[-0.22464234,  0.21952254,  0.02137829],\n",
       "       [-0.25359723,  0.20418814,  0.19618152],\n",
       "       [ 0.04555656, -0.06916347, -0.1539417 ]], dtype=float32)"
      ]
     },
     "execution_count": 14,
     "metadata": {},
     "output_type": "execute_result"
    }
   ],
   "source": [
    "data[:, :, :, 0].reshape(3, 3)"
   ]
  },
  {
   "cell_type": "code",
   "execution_count": 15,
   "metadata": {},
   "outputs": [
    {
     "data": {
      "image/png": "[encoded data removed]",
      "text/plain": [
       "<Figure size 432x288 with 1 Axes>"
      ]
     },
     "metadata": {
      "needs_background": "light"
     },
     "output_type": "display_data"
    }
   ],
   "source": [
    "%matplotlib inline\n",
    "\n",
    "import matplotlib.pyplot as plt\n",
    "\n",
    "plt.imshow(data[:, :, :, 7].reshape(3, 3))\n",
    "plt.show()"
   ]
  },
  {
   "cell_type": "markdown",
   "metadata": {},
   "source": [
    "### Vergleich: https://en.wikipedia.org/wiki/Sobel_operator\n",
    "\n",
    "$ {\\displaystyle \\mathbf {G} _{x}={\\begin{bmatrix}+1&0&-1\\\\+2&0&-2\\\\+1&0&-1\\end{bmatrix}}*\\mathbf {A} \\quad {\\mbox{and}}\\quad \\mathbf {G} _{y}={\\begin{bmatrix}+1&+2&+1\\\\0&0&0\\\\-1&-2&-1\\end{bmatrix}}*\\mathbf {A} } $ "
   ]
  },
  {
   "cell_type": "code",
   "execution_count": null,
   "metadata": {},
   "outputs": [],
   "source": []
  }
 ],
 "metadata": {
  "kernelspec": {
   "display_name": "Python 3",
   "language": "python",
   "name": "python3"
  },
  "language_info": {
   "codemirror_mode": {
    "name": "ipython",
    "version": 3
   },
   "file_extension": ".py",
   "mimetype": "text/x-python",
   "name": "python",
   "nbconvert_exporter": "python",
   "pygments_lexer": "ipython3",
   "version": "3.8.5"
  }
 },
 "nbformat": 4,
 "nbformat_minor": 2
}
