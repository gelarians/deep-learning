{
 "cells": [
  {
   "cell_type": "code",
   "execution_count": 1,
   "metadata": {},
   "outputs": [],
   "source": [
    "# Vorstellung: MNIST-Daten!\n",
    "# http://yann.lecun.com/exdb/mnist/\n",
    "# FashionMNIST: https://github.com/zalandoresearch/fashion-mnist\n",
    "\n",
    "import gzip\n",
    "import numpy as np\n",
    "from tensorflow.keras.utils import to_categorical\n",
    "\n",
    "def open_images(filename):\n",
    "    with gzip.open(filename, \"rb\") as file:\n",
    "        data = file.read()\n",
    "        return np.frombuffer(data, dtype=np.uint8, offset=16)\\\n",
    "            .reshape(-1, 28, 28)\\\n",
    "            .astype(np.float32)\n",
    "\n",
    "\n",
    "def open_labels(filename):\n",
    "    with gzip.open(filename, \"rb\") as file:\n",
    "        data = file.read()\n",
    "        return np.frombuffer(data, dtype=np.uint8, offset=8)\n",
    "    \n",
    "X_train = open_images(\"../data/fashion/train-images-idx3-ubyte.gz\")\n",
    "y_train = open_labels(\"../data/fashion/train-labels-idx1-ubyte.gz\")\n",
    "\n",
    "X_test = open_images(\"../data/fashion/t10k-images-idx3-ubyte.gz\")\n",
    "y_test = open_labels(\"../data/fashion/t10k-labels-idx1-ubyte.gz\")\n",
    "\n",
    "y_train = to_categorical(y_train)\n",
    "y_test = to_categorical(y_test)"
   ]
  },
  {
   "cell_type": "code",
   "execution_count": 6,
   "metadata": {},
   "outputs": [
    {
     "name": "stdout",
     "output_type": "stream",
     "text": [
      "Epoch 1/20\n",
      "60/60 [==============================] - 16s 255ms/step - loss: 88.9624 - accuracy: 0.5758\n",
      "Epoch 2/20\n",
      "60/60 [==============================] - 16s 263ms/step - loss: 1.1949 - accuracy: 0.8359\n",
      "Epoch 3/20\n",
      "60/60 [==============================] - 16s 264ms/step - loss: 0.3161 - accuracy: 0.8907\n",
      "Epoch 4/20\n",
      "60/60 [==============================] - 16s 264ms/step - loss: 0.2104 - accuracy: 0.9251\n",
      "Epoch 5/20\n",
      "60/60 [==============================] - 16s 269ms/step - loss: 0.1646 - accuracy: 0.9386\n",
      "Epoch 6/20\n",
      "60/60 [==============================] - 16s 269ms/step - loss: 0.1374 - accuracy: 0.9488\n",
      "Epoch 7/20\n",
      "60/60 [==============================] - 16s 262ms/step - loss: 0.1192 - accuracy: 0.9583\n",
      "Epoch 8/20\n",
      "60/60 [==============================] - 16s 273ms/step - loss: 0.1005 - accuracy: 0.9645\n",
      "Epoch 9/20\n",
      "60/60 [==============================] - 16s 259ms/step - loss: 0.0847 - accuracy: 0.9686\n",
      "Epoch 10/20\n",
      "60/60 [==============================] - 16s 263ms/step - loss: 0.0734 - accuracy: 0.9734\n",
      "Epoch 11/20\n",
      "60/60 [==============================] - 16s 262ms/step - loss: 0.0653 - accuracy: 0.9762\n",
      "Epoch 12/20\n",
      "60/60 [==============================] - 16s 266ms/step - loss: 0.0587 - accuracy: 0.9793\n",
      "Epoch 13/20\n",
      "60/60 [==============================] - 16s 264ms/step - loss: 0.0518 - accuracy: 0.9811\n",
      "Epoch 14/20\n",
      "60/60 [==============================] - 16s 265ms/step - loss: 0.0460 - accuracy: 0.9839\n",
      "Epoch 15/20\n",
      "60/60 [==============================] - 16s 265ms/step - loss: 0.0425 - accuracy: 0.9855\n",
      "Epoch 16/20\n",
      "60/60 [==============================] - 16s 260ms/step - loss: 0.0371 - accuracy: 0.9871\n",
      "Epoch 17/20\n",
      "60/60 [==============================] - 16s 267ms/step - loss: 0.0367 - accuracy: 0.9867\n",
      "Epoch 18/20\n",
      "60/60 [==============================] - 16s 262ms/step - loss: 0.0326 - accuracy: 0.9886\n",
      "Epoch 19/20\n",
      "60/60 [==============================] - 16s 263ms/step - loss: 0.0283 - accuracy: 0.9897\n",
      "Epoch 20/20\n",
      "60/60 [==============================] - 16s 264ms/step - loss: 0.0272 - accuracy: 0.9906\n"
     ]
    },
    {
     "data": {
      "text/plain": [
       "<tensorflow.python.keras.callbacks.History at 0x7fb06703e160>"
      ]
     },
     "execution_count": 6,
     "metadata": {},
     "output_type": "execute_result"
    }
   ],
   "source": [
    "# CNN!\n",
    "\n",
    "from tensorflow.keras.models import Sequential\n",
    "from tensorflow.keras.layers import Dense, Conv2D, Flatten\n",
    "\n",
    "model = Sequential()\n",
    "\n",
    "model.add(Conv2D(100, kernel_size=(3, 3), activation=\"relu\", input_shape=(28, 28, 1))) # höhe, breite, farbkanäle \n",
    "model.add(Flatten())\n",
    "model.add(Dense(10, activation=\"softmax\"))\n",
    "\n",
    "model.compile(optimizer=\"rmsprop\", loss=\"categorical_crossentropy\", metrics=[\"accuracy\"])\n",
    "\n",
    "model.fit(\n",
    "    X_train.reshape(60000, 28, 28, 1),\n",
    "    y_train,\n",
    "    epochs=20,\n",
    "    batch_size=1000)"
   ]
  },
  {
   "cell_type": "code",
   "execution_count": 3,
   "metadata": {},
   "outputs": [],
   "source": [
    "Conv2D?"
   ]
  },
  {
   "cell_type": "code",
   "execution_count": null,
   "metadata": {},
   "outputs": [],
   "source": []
  },
  {
   "cell_type": "code",
   "execution_count": null,
   "metadata": {},
   "outputs": [],
   "source": []
  }
 ],
 "metadata": {
  "kernelspec": {
   "display_name": "Python 3",
   "language": "python",
   "name": "python3"
  },
  "language_info": {
   "codemirror_mode": {
    "name": "ipython",
    "version": 3
   },
   "file_extension": ".py",
   "mimetype": "text/x-python",
   "name": "python",
   "nbconvert_exporter": "python",
   "pygments_lexer": "ipython3",
   "version": "3.8.5"
  }
 },
 "nbformat": 4,
 "nbformat_minor": 2
}
