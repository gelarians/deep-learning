{
 "cells": [
  {
   "cell_type": "code",
   "execution_count": 1,
   "metadata": {},
   "outputs": [],
   "source": [
    "# Vorstellung: MNIST-Daten!\n",
    "# http://yann.lecun.com/exdb/mnist/\n",
    "# FashionMNIST: https://github.com/zalandoresearch/fashion-mnist\n",
    "\n",
    "import gzip\n",
    "import numpy as np\n",
    "from tensorflow.keras.utils import to_categorical\n",
    "\n",
    "def open_images(filename):\n",
    "    with gzip.open(filename, \"rb\") as file:\n",
    "        data = file.read()\n",
    "        return np.frombuffer(data, dtype=np.uint8, offset=16)\\\n",
    "            .reshape(-1, 28, 28)\\\n",
    "            .astype(np.float32)\n",
    "\n",
    "\n",
    "def open_labels(filename):\n",
    "    with gzip.open(filename, \"rb\") as file:\n",
    "        data = file.read()\n",
    "        return np.frombuffer(data, dtype=np.uint8, offset=8)\n",
    "    \n",
    "X_train = open_images(\"../data/fashion/train-images-idx3-ubyte.gz\")\n",
    "y_train = open_labels(\"../data/fashion/train-labels-idx1-ubyte.gz\")\n",
    "\n",
    "X_test = open_images(\"../data/fashion/t10k-images-idx3-ubyte.gz\")\n",
    "y_test = open_labels(\"../data/fashion/t10k-labels-idx1-ubyte.gz\")\n",
    "\n",
    "y_train = to_categorical(y_train)\n",
    "y_test = to_categorical(y_test)"
   ]
  },
  {
   "cell_type": "code",
   "execution_count": 2,
   "metadata": {},
   "outputs": [
    {
     "name": "stdout",
     "output_type": "stream",
     "text": [
      "Epoch 1/10\n",
      "60/60 [==============================] - 3s 47ms/step - loss: 2.7158 - accuracy: 0.4660\n",
      "Epoch 2/10\n",
      "60/60 [==============================] - 3s 43ms/step - loss: 0.7653 - accuracy: 0.7415\n",
      "Epoch 3/10\n",
      "60/60 [==============================] - 3s 47ms/step - loss: 0.5928 - accuracy: 0.7921\n",
      "Epoch 4/10\n",
      "60/60 [==============================] - 3s 48ms/step - loss: 0.4941 - accuracy: 0.8256\n",
      "Epoch 5/10\n",
      "60/60 [==============================] - 3s 49ms/step - loss: 0.4217 - accuracy: 0.8482\n",
      "Epoch 6/10\n",
      "60/60 [==============================] - 3s 48ms/step - loss: 0.3995 - accuracy: 0.8558\n",
      "Epoch 7/10\n",
      "60/60 [==============================] - 3s 48ms/step - loss: 0.3716 - accuracy: 0.8665\n",
      "Epoch 8/10\n",
      "60/60 [==============================] - 3s 46ms/step - loss: 0.3598 - accuracy: 0.8677\n",
      "Epoch 9/10\n",
      "60/60 [==============================] - 3s 48ms/step - loss: 0.3354 - accuracy: 0.8784\n",
      "Epoch 10/10\n",
      "60/60 [==============================] - 3s 49ms/step - loss: 0.3364 - accuracy: 0.8771\n"
     ]
    },
    {
     "data": {
      "text/plain": [
       "<tensorflow.python.keras.callbacks.History at 0x7f9de15915b0>"
      ]
     },
     "execution_count": 2,
     "metadata": {},
     "output_type": "execute_result"
    }
   ],
   "source": [
    "from tensorflow.keras.models import Sequential\n",
    "from tensorflow.keras.layers import Dense, Conv2D, Flatten\n",
    "\n",
    "model = Sequential()\n",
    "\n",
    "model.add(Conv2D(10, kernel_size=(3, 3), activation=\"sigmoid\", input_shape=(28, 28, 1)))\n",
    "model.add(Flatten())\n",
    "model.add(Dense(10, activation=\"softmax\"))\n",
    "\n",
    "model.compile(optimizer=\"rmsprop\", loss=\"categorical_crossentropy\", metrics=[\"accuracy\"])\n",
    "model.fit(X_train.reshape(60000, 28, 28, 1), y_train, epochs=10, batch_size=1000)"
   ]
  },
  {
   "cell_type": "code",
   "execution_count": 3,
   "metadata": {},
   "outputs": [],
   "source": [
    "model2 = Sequential()\n",
    "\n",
    "model2.add(Conv2D(10, \n",
    "                  kernel_size=(3, 3), \n",
    "                  activation=\"sigmoid\", \n",
    "                  input_shape=(28, 28, 1), \n",
    "                  weights=model.layers[0].get_weights()))"
   ]
  },
  {
   "cell_type": "code",
   "execution_count": 4,
   "metadata": {},
   "outputs": [
    {
     "data": {
      "image/png": "[encoded data removed]",
      "text/plain": [
       "<Figure size 432x288 with 1 Axes>"
      ]
     },
     "metadata": {
      "needs_background": "light"
     },
     "output_type": "display_data"
    }
   ],
   "source": [
    "%matplotlib inline\n",
    "\n",
    "import matplotlib.pyplot as plt\n",
    "\n",
    "plt.imshow(X_test[0], cmap=\"gray_r\")\n",
    "plt.show()"
   ]
  },
  {
   "cell_type": "code",
   "execution_count": 5,
   "metadata": {},
   "outputs": [],
   "source": [
    "result = model2.predict(X_test[0].reshape(1, 28, 28, 1)) # wie viele bilder , höhe, breite , farbkanäle"
   ]
  },
  {
   "cell_type": "code",
   "execution_count": 12,
   "metadata": {},
   "outputs": [
    {
     "data": {
      "text/plain": [
       "(1, 26, 26, 10)"
      ]
     },
     "execution_count": 12,
     "metadata": {},
     "output_type": "execute_result"
    }
   ],
   "source": [
    "result.shape"
   ]
  },
  {
   "cell_type": "code",
   "execution_count": 13,
   "metadata": {},
   "outputs": [
    {
     "data": {
      "text/plain": [
       "(26, 26, 10)"
      ]
     },
     "execution_count": 13,
     "metadata": {},
     "output_type": "execute_result"
    }
   ],
   "source": [
    "result[0].shape"
   ]
  },
  {
   "cell_type": "code",
   "execution_count": 14,
   "metadata": {},
   "outputs": [
    {
     "data": {
      "text/plain": [
       "array([[4.15605843e-01, 4.15605843e-01, 4.15605843e-01, 4.15605843e-01,\n",
       "        4.15605843e-01, 4.15605843e-01, 4.15605843e-01, 4.15605843e-01,\n",
       "        4.15605843e-01, 4.15605843e-01, 4.15605843e-01, 4.15605843e-01,\n",
       "        4.15605843e-01, 4.15605843e-01, 4.15605843e-01, 4.15605843e-01,\n",
       "        4.15605843e-01, 4.15605843e-01, 4.15605843e-01, 4.15605843e-01,\n",
       "        4.15605843e-01, 4.15605843e-01, 4.15605843e-01, 4.15605843e-01,\n",
       "        4.15605843e-01, 4.15605843e-01],\n",
       "       [4.15605843e-01, 4.15605843e-01, 4.15605843e-01, 4.15605843e-01,\n",
       "        4.15605843e-01, 4.15605843e-01, 4.15605843e-01, 4.15605843e-01,\n",
       "        4.15605843e-01, 4.15605843e-01, 4.15605843e-01, 4.15605843e-01,\n",
       "        4.15605843e-01, 4.15605843e-01, 4.15605843e-01, 4.15605843e-01,\n",
       "        4.15605843e-01, 4.15605843e-01, 4.15605843e-01, 4.15605843e-01,\n",
       "        4.15605843e-01, 4.15605843e-01, 4.15605843e-01, 4.15605843e-01,\n",
       "        4.15605843e-01, 4.15605843e-01],\n",
       "       [4.15605843e-01, 4.15605843e-01, 4.15605843e-01, 4.15605843e-01,\n",
       "        4.15605843e-01, 4.15605843e-01, 4.15605843e-01, 4.15605843e-01,\n",
       "        4.15605843e-01, 4.15605843e-01, 4.15605843e-01, 4.15605843e-01,\n",
       "        4.15605843e-01, 4.15605843e-01, 4.15605843e-01, 4.15605843e-01,\n",
       "        4.15605843e-01, 4.15605843e-01, 4.15605843e-01, 4.15605843e-01,\n",
       "        4.15605843e-01, 4.15605843e-01, 4.15605843e-01, 4.15605843e-01,\n",
       "        4.15605843e-01, 4.15605843e-01],\n",
       "       [4.15605843e-01, 4.15605843e-01, 4.15605843e-01, 4.15605843e-01,\n",
       "        4.15605843e-01, 4.15605843e-01, 4.15605843e-01, 4.15605843e-01,\n",
       "        4.15605843e-01, 4.15605843e-01, 4.15605843e-01, 4.15605843e-01,\n",
       "        4.15605843e-01, 4.15605843e-01, 4.15605843e-01, 4.15605843e-01,\n",
       "        4.15605843e-01, 4.15605843e-01, 4.15605843e-01, 4.15605843e-01,\n",
       "        4.15605843e-01, 4.15605843e-01, 4.15605843e-01, 4.15605843e-01,\n",
       "        4.15605843e-01, 4.15605843e-01],\n",
       "       [4.15605843e-01, 4.15605843e-01, 4.15605843e-01, 4.15605843e-01,\n",
       "        4.15605843e-01, 4.15605843e-01, 4.15605843e-01, 4.15605843e-01,\n",
       "        4.15605843e-01, 4.15605843e-01, 4.15605843e-01, 4.15605843e-01,\n",
       "        4.15605843e-01, 4.15605843e-01, 4.15605843e-01, 4.15605843e-01,\n",
       "        4.15605843e-01, 4.15605843e-01, 4.15605843e-01, 4.15605843e-01,\n",
       "        4.15605843e-01, 4.15605843e-01, 4.15605843e-01, 4.15605843e-01,\n",
       "        4.15605843e-01, 4.15605843e-01],\n",
       "       [4.15605843e-01, 4.15605843e-01, 4.15605843e-01, 4.15605843e-01,\n",
       "        4.15605843e-01, 4.15605843e-01, 4.15605843e-01, 4.15605843e-01,\n",
       "        4.15605843e-01, 4.15605843e-01, 4.15605843e-01, 4.15605843e-01,\n",
       "        4.15605843e-01, 4.15605843e-01, 4.15605843e-01, 4.15605843e-01,\n",
       "        4.15605843e-01, 5.04790664e-01, 3.27133119e-01, 4.37238932e-01,\n",
       "        4.36407000e-01, 6.22263193e-01, 1.81190252e-01, 9.90939677e-01,\n",
       "        1.48367882e-03, 9.43062007e-01],\n",
       "       [4.15605843e-01, 4.15605843e-01, 4.15605843e-01, 4.15605843e-01,\n",
       "        4.15605843e-01, 4.15605843e-01, 4.15605843e-01, 4.15605843e-01,\n",
       "        4.15605843e-01, 4.15605843e-01, 4.15605843e-01, 4.45013851e-01,\n",
       "        4.33491945e-01, 3.56791198e-01, 9.55610156e-01, 9.94707346e-01,\n",
       "        2.18081514e-05, 9.95699048e-01, 6.97828770e-01, 3.05888325e-01,\n",
       "        3.75259668e-01, 6.82065785e-01, 4.63965416e-01, 1.00000000e+00,\n",
       "        4.82536366e-09, 9.71675336e-01],\n",
       "       [4.15605843e-01, 4.15605843e-01, 4.15605843e-01, 4.15605843e-01,\n",
       "        4.15605843e-01, 4.15605843e-01, 4.15605843e-01, 4.15605843e-01,\n",
       "        4.15605843e-01, 4.15605843e-01, 4.15605843e-01, 4.84228641e-01,\n",
       "        4.59068775e-01, 4.08901572e-01, 9.99999404e-01, 1.00000000e+00,\n",
       "        1.85130537e-02, 1.35627254e-09, 9.98895824e-01, 3.92700374e-01,\n",
       "        4.17236239e-01, 9.04616952e-01, 9.98244345e-01, 1.00000000e+00,\n",
       "        1.61730604e-05, 1.40812863e-05],\n",
       "       [4.15605843e-01, 4.15605843e-01, 4.15605843e-01, 4.15605843e-01,\n",
       "        4.15605843e-01, 4.15605843e-01, 4.15605843e-01, 4.15605843e-01,\n",
       "        4.15605843e-01, 4.15605843e-01, 4.15605843e-01, 5.71950793e-01,\n",
       "        2.47997284e-01, 9.97444153e-01, 1.00000000e+00, 1.00000000e+00,\n",
       "        9.94427800e-01, 2.02032197e-07, 5.68183296e-08, 9.99747515e-01,\n",
       "        8.22208285e-01, 9.99998212e-01, 1.00000000e+00, 1.00000000e+00,\n",
       "        2.71142446e-16, 3.94111872e-03],\n",
       "       [4.15605843e-01, 4.15605843e-01, 4.15605843e-01, 4.15605843e-01,\n",
       "        4.15605843e-01, 4.15605843e-01, 4.15605843e-01, 4.15605843e-01,\n",
       "        4.15605843e-01, 4.15605843e-01, 4.74812031e-01, 4.87364024e-01,\n",
       "        7.58838773e-01, 1.00000000e+00, 9.99999464e-01, 9.99410510e-01,\n",
       "        3.45377624e-02, 9.91233230e-01, 9.99813318e-01, 9.99898076e-01,\n",
       "        9.97834802e-01, 8.75486016e-01, 9.99997497e-01, 2.23723054e-03,\n",
       "        2.24222613e-21, 1.63524874e-05],\n",
       "       [4.15605843e-01, 4.15605843e-01, 4.15605843e-01, 4.15605843e-01,\n",
       "        4.45013851e-01, 3.75751823e-01, 4.96061087e-01, 3.64844322e-01,\n",
       "        4.16427433e-01, 5.26037574e-01, 3.71516168e-01, 4.85557109e-01,\n",
       "        9.99999523e-01, 1.00000000e+00, 1.00000000e+00, 1.43969059e-03,\n",
       "        2.41728425e-01, 6.13766909e-03, 3.93397422e-05, 2.59777426e-05,\n",
       "        4.65393066e-04, 4.84512111e-06, 1.31666875e-05, 2.41658290e-06,\n",
       "        8.78483784e-22, 5.49322158e-06],\n",
       "       [4.15605843e-01, 4.15605843e-01, 4.45013851e-01, 3.75751823e-01,\n",
       "        4.75513190e-01, 4.22437787e-01, 4.51588362e-01, 4.68297988e-01,\n",
       "        4.27873731e-01, 3.68916899e-01, 4.96109426e-01, 9.99932349e-01,\n",
       "        1.00000000e+00, 9.99998987e-01, 2.28285789e-04, 5.88904917e-01,\n",
       "        7.22511411e-02, 6.96453280e-05, 1.36391900e-05, 3.84807587e-04,\n",
       "        5.24552670e-05, 8.67615935e-09, 9.56237316e-04, 1.28054619e-03,\n",
       "        2.41817253e-20, 3.84779764e-09],\n",
       "       [4.15605843e-01, 4.15605843e-01, 4.54350740e-01, 4.22437787e-01,\n",
       "        4.31239158e-01, 4.23197359e-01, 3.26237857e-01, 4.00135159e-01,\n",
       "        5.28865695e-01, 4.32617933e-01, 9.99974251e-01, 9.99998927e-01,\n",
       "        1.00000000e+00, 6.48567080e-03, 2.50014011e-07, 9.99896467e-01,\n",
       "        2.13173032e-03, 4.48085939e-06, 3.45456283e-05, 3.87440920e-02,\n",
       "        9.82612371e-04, 2.06030961e-08, 4.91619110e-04, 4.29028273e-03,\n",
       "        7.10449520e-15, 3.77460836e-15],\n",
       "       [4.74812031e-01, 3.93076420e-01, 4.03400242e-01, 4.47019815e-01,\n",
       "        4.33607668e-01, 6.26300514e-01, 3.99245679e-01, 2.71249473e-01,\n",
       "        9.30153847e-01, 9.99642909e-01, 9.99998450e-01, 1.00000000e+00,\n",
       "        4.49365348e-01, 2.65926928e-07, 8.59470069e-02, 9.89737511e-01,\n",
       "        7.45654106e-05, 1.40696764e-04, 1.40160322e-03, 9.26733017e-04,\n",
       "        3.03357840e-04, 1.13793533e-07, 2.48879194e-04, 2.64319777e-03,\n",
       "        5.49417734e-07, 7.38373646e-21],\n",
       "       [5.57215393e-01, 5.07687628e-01, 3.85862529e-01, 4.17007446e-01,\n",
       "        3.85148853e-01, 8.29567432e-01, 8.87162149e-01, 9.72296596e-01,\n",
       "        9.99063492e-01, 1.00000000e+00, 1.00000000e+00, 2.80362368e-03,\n",
       "        2.62772173e-05, 2.46291757e-02, 2.37004876e-01, 7.78962791e-01,\n",
       "        3.03541474e-05, 2.90274620e-04, 9.67651606e-04, 3.87877226e-04,\n",
       "        1.44213438e-04, 3.60975264e-07, 1.66789232e-05, 1.21411681e-03,\n",
       "        4.27839160e-03, 8.86290487e-20],\n",
       "       [8.69707465e-01, 8.86808038e-01, 5.46295047e-01, 9.18101847e-01,\n",
       "        9.23461199e-01, 9.99920130e-01, 9.99990046e-01, 9.99999881e-01,\n",
       "        9.99999821e-01, 9.98726547e-01, 1.13591923e-04, 1.75258517e-03,\n",
       "        1.52606905e-01, 2.09754527e-01, 2.23451853e-03, 9.03269649e-03,\n",
       "        1.30368173e-02, 1.65551901e-04, 2.68489122e-04, 1.58870625e-06,\n",
       "        4.62128082e-06, 1.14333030e-04, 5.84702175e-05, 3.57476129e-05,\n",
       "        2.30802149e-01, 6.94588730e-20],\n",
       "       [9.62531567e-01, 9.99940515e-01, 9.99999046e-01, 9.99235988e-01,\n",
       "        9.99655485e-01, 9.99996424e-01, 9.99964356e-01, 8.65832567e-01,\n",
       "        6.94751740e-04, 9.91546185e-05, 1.66645348e-02, 5.59076667e-03,\n",
       "        1.67341828e-02, 2.31357217e-02, 3.15070152e-04, 1.70034091e-05,\n",
       "        9.06133652e-03, 1.45329375e-06, 6.24448061e-04, 1.41739845e-04,\n",
       "        3.04259493e-06, 2.85427795e-05, 1.18120611e-01, 1.30450726e-03,\n",
       "        4.42979336e-02, 2.82826441e-19],\n",
       "       [9.99923706e-01, 9.99338150e-01, 9.35752928e-01, 9.16255236e-01,\n",
       "        1.25570893e-02, 1.55373216e-02, 3.01837921e-04, 8.94427299e-04,\n",
       "        8.81588459e-03, 2.64734030e-03, 1.64186358e-02, 6.83010658e-05,\n",
       "        4.26068436e-05, 9.94747877e-02, 1.05635226e-02, 4.87715006e-04,\n",
       "        1.24558806e-03, 9.94108291e-07, 1.16783082e-02, 1.01381183e-01,\n",
       "        9.50840422e-06, 4.81936468e-06, 4.18031216e-03, 3.38405371e-04,\n",
       "        1.05283499e-01, 4.80846843e-20],\n",
       "       [9.94990110e-01, 2.73452798e-07, 1.98423862e-04, 3.47757339e-03,\n",
       "        1.34307146e-03, 1.31589174e-03, 2.43896246e-03, 1.70767307e-03,\n",
       "        5.35696745e-03, 1.17137046e-04, 3.83976102e-03, 2.22768486e-02,\n",
       "        1.98924541e-03, 4.87863868e-01, 1.35457516e-02, 7.60770321e-01,\n",
       "        2.53438950e-04, 1.04458153e-01, 9.99012589e-01, 3.57315948e-05,\n",
       "        1.79150701e-03, 4.00534272e-03, 1.27679110e-02, 3.79085541e-04,\n",
       "        9.38306257e-05, 8.76397644e-24],\n",
       "       [9.99469876e-01, 4.50474352e-01, 4.83290136e-01, 1.45539641e-03,\n",
       "        2.21611857e-02, 7.73758366e-05, 3.71873379e-04, 8.41498375e-04,\n",
       "        1.06180906e-02, 1.57535523e-01, 6.28456771e-01, 9.73686635e-01,\n",
       "        7.33844578e-01, 6.91652298e-04, 6.35650986e-06, 1.09161496e-01,\n",
       "        6.72251645e-07, 1.63220776e-14, 9.99339461e-01, 1.58193980e-05,\n",
       "        3.22035334e-07, 7.97275061e-06, 5.57112389e-06, 3.91204829e-08,\n",
       "        3.07055359e-09, 1.93723511e-24],\n",
       "       [1.16253901e-07, 7.99884603e-09, 1.25028891e-05, 4.15754318e-03,\n",
       "        1.85053051e-02, 1.76676512e-02, 1.36286020e-04, 2.58862972e-04,\n",
       "        1.85698271e-04, 1.14469894e-05, 5.56101713e-06, 3.11148192e-08,\n",
       "        5.65618190e-13, 3.14086964e-17, 7.31557968e-21, 2.22839132e-17,\n",
       "        2.90866506e-14, 3.87677460e-11, 9.99089956e-01, 9.99820709e-01,\n",
       "        3.44843633e-11, 1.87709430e-14, 5.02076916e-14, 3.19919140e-13,\n",
       "        2.05690222e-11, 1.08624557e-19],\n",
       "       [4.15605843e-01, 3.95128906e-01, 9.98949111e-02, 1.61051750e-04,\n",
       "        1.72463774e-06, 2.41193998e-09, 2.86471236e-10, 6.07610212e-11,\n",
       "        1.86508448e-11, 1.80204237e-11, 2.06484638e-11, 2.93386530e-11,\n",
       "        3.05959619e-10, 4.41219754e-08, 1.44422054e-04, 3.28976899e-01,\n",
       "        4.28697616e-01, 4.15605843e-01, 1.67820454e-01, 2.00436334e-10,\n",
       "        2.40078443e-11, 3.22779525e-10, 1.38473832e-09, 5.84185411e-09,\n",
       "        8.92136587e-09, 5.24425303e-08],\n",
       "       [4.15605843e-01, 4.15605843e-01, 4.15605843e-01, 4.15605843e-01,\n",
       "        4.15605843e-01, 4.15605843e-01, 4.15605843e-01, 4.15605843e-01,\n",
       "        4.15605843e-01, 4.15605843e-01, 4.15605843e-01, 4.15605843e-01,\n",
       "        4.15605843e-01, 4.15605843e-01, 4.15605843e-01, 4.15605843e-01,\n",
       "        4.15605843e-01, 4.15605843e-01, 4.15605843e-01, 4.15605843e-01,\n",
       "        4.15605843e-01, 4.15605843e-01, 4.15605843e-01, 4.15605843e-01,\n",
       "        4.15605843e-01, 4.15605843e-01],\n",
       "       [4.15605843e-01, 4.15605843e-01, 4.15605843e-01, 4.15605843e-01,\n",
       "        4.15605843e-01, 4.15605843e-01, 4.15605843e-01, 4.15605843e-01,\n",
       "        4.15605843e-01, 4.15605843e-01, 4.15605843e-01, 4.15605843e-01,\n",
       "        4.15605843e-01, 4.15605843e-01, 4.15605843e-01, 4.15605843e-01,\n",
       "        4.15605843e-01, 4.15605843e-01, 4.15605843e-01, 4.15605843e-01,\n",
       "        4.15605843e-01, 4.15605843e-01, 4.15605843e-01, 4.15605843e-01,\n",
       "        4.15605843e-01, 4.15605843e-01],\n",
       "       [4.15605843e-01, 4.15605843e-01, 4.15605843e-01, 4.15605843e-01,\n",
       "        4.15605843e-01, 4.15605843e-01, 4.15605843e-01, 4.15605843e-01,\n",
       "        4.15605843e-01, 4.15605843e-01, 4.15605843e-01, 4.15605843e-01,\n",
       "        4.15605843e-01, 4.15605843e-01, 4.15605843e-01, 4.15605843e-01,\n",
       "        4.15605843e-01, 4.15605843e-01, 4.15605843e-01, 4.15605843e-01,\n",
       "        4.15605843e-01, 4.15605843e-01, 4.15605843e-01, 4.15605843e-01,\n",
       "        4.15605843e-01, 4.15605843e-01],\n",
       "       [4.15605843e-01, 4.15605843e-01, 4.15605843e-01, 4.15605843e-01,\n",
       "        4.15605843e-01, 4.15605843e-01, 4.15605843e-01, 4.15605843e-01,\n",
       "        4.15605843e-01, 4.15605843e-01, 4.15605843e-01, 4.15605843e-01,\n",
       "        4.15605843e-01, 4.15605843e-01, 4.15605843e-01, 4.15605843e-01,\n",
       "        4.15605843e-01, 4.15605843e-01, 4.15605843e-01, 4.15605843e-01,\n",
       "        4.15605843e-01, 4.15605843e-01, 4.15605843e-01, 4.15605843e-01,\n",
       "        4.15605843e-01, 4.15605843e-01]], dtype=float32)"
      ]
     },
     "execution_count": 14,
     "metadata": {},
     "output_type": "execute_result"
    }
   ],
   "source": [
    "result[0][:, :, 0]"
   ]
  },
  {
   "cell_type": "code",
   "execution_count": 20,
   "metadata": {},
   "outputs": [
    {
     "data": {
      "image/png": "[encoded data removed]",
      "text/plain": [
       "<Figure size 432x288 with 1 Axes>"
      ]
     },
     "metadata": {
      "needs_background": "light"
     },
     "output_type": "display_data"
    }
   ],
   "source": [
    "plt.imshow(result[0][:, :, 9])\n",
    "plt.show()"
   ]
  },
  {
   "cell_type": "code",
   "execution_count": 11,
   "metadata": {},
   "outputs": [
    {
     "name": "stdout",
     "output_type": "stream",
     "text": [
      "60/60 [==============================] - 8s 120ms/step - loss: 2.7020 - accuracy: 0.2925\n"
     ]
    },
    {
     "data": {
      "text/plain": [
       "<tensorflow.python.keras.callbacks.History at 0x7f9dc30a9970>"
      ]
     },
     "execution_count": 11,
     "metadata": {},
     "output_type": "execute_result"
    }
   ],
   "source": [
    "from tensorflow.keras.models import Sequential\n",
    "from tensorflow.keras.layers import Dense, Conv2D, Flatten\n",
    "\n",
    "model3 = Sequential()\n",
    "\n",
    "model3.add(Conv2D(10, kernel_size=(3, 3), activation=\"sigmoid\", input_shape=(28, 28, 1)))\n",
    "model3.add(Conv2D(10, kernel_size=(3, 3), activation=\"sigmoid\"))\n",
    "model3.add(Flatten())\n",
    "model3.add(Dense(10, activation=\"softmax\"))\n",
    "\n",
    "model3.compile(optimizer=\"rmsprop\", loss=\"categorical_crossentropy\", metrics=[\"accuracy\"])\n",
    "model3.fit(X_train.reshape(60000, 28, 28, 1), y_train, epochs=1, batch_size=1000)"
   ]
  },
  {
   "cell_type": "code",
   "execution_count": null,
   "metadata": {},
   "outputs": [],
   "source": []
  },
  {
   "cell_type": "code",
   "execution_count": null,
   "metadata": {},
   "outputs": [],
   "source": []
  }
 ],
 "metadata": {
  "kernelspec": {
   "display_name": "Python 3",
   "language": "python",
   "name": "python3"
  },
  "language_info": {
   "codemirror_mode": {
    "name": "ipython",
    "version": 3
   },
   "file_extension": ".py",
   "mimetype": "text/x-python",
   "name": "python",
   "nbconvert_exporter": "python",
   "pygments_lexer": "ipython3",
   "version": "3.8.5"
  }
 },
 "nbformat": 4,
 "nbformat_minor": 2
}
