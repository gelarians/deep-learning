{
 "cells": [
  {
   "cell_type": "code",
   "execution_count": 1,
   "metadata": {},
   "outputs": [],
   "source": [
    "# Vorstellung: MNIST-Daten!\n",
    "# http://yann.lecun.com/exdb/mnist/\n",
    "# FashionMNIST: https://github.com/zalandoresearch/fashion-mnist\n",
    "\n",
    "import gzip\n",
    "import numpy as np\n",
    "from tensorflow.keras.utils import to_categorical\n",
    "\n",
    "def open_images(filename):\n",
    "    with gzip.open(filename, \"rb\") as file:\n",
    "        data = file.read()\n",
    "        return np.frombuffer(data, dtype=np.uint8, offset=16)\\\n",
    "            .reshape(-1, 28, 28)\\\n",
    "            .astype(np.float32)\n",
    "\n",
    "\n",
    "def open_labels(filename):\n",
    "    with gzip.open(filename, \"rb\") as file:\n",
    "        data = file.read()\n",
    "        return np.frombuffer(data, dtype=np.uint8, offset=8)\n",
    "    \n",
    "X_train = open_images(\"../data/fashion/train-images-idx3-ubyte.gz\")\n",
    "y_train = open_labels(\"../data/fashion/train-labels-idx1-ubyte.gz\")\n",
    "\n",
    "X_test = open_images(\"../data/fashion/t10k-images-idx3-ubyte.gz\")\n",
    "y_test = open_labels(\"../data/fashion/t10k-labels-idx1-ubyte.gz\")\n",
    "\n",
    "y_train = to_categorical(y_train)\n",
    "y_test = to_categorical(y_test)"
   ]
  },
  {
   "cell_type": "code",
   "execution_count": 2,
   "metadata": {},
   "outputs": [
    {
     "name": "stdout",
     "output_type": "stream",
     "text": [
      "Epoch 1/10\n",
      "60/60 [==============================] - 4s 56ms/step - loss: 17.7921 - accuracy: 0.5113\n",
      "Epoch 2/10\n",
      "60/60 [==============================] - 3s 56ms/step - loss: 2.5958 - accuracy: 0.7728\n",
      "Epoch 3/10\n",
      "60/60 [==============================] - 4s 68ms/step - loss: 1.1955 - accuracy: 0.8113\n",
      "Epoch 4/10\n",
      "60/60 [==============================] - 4s 68ms/step - loss: 0.6366 - accuracy: 0.8416\n",
      "Epoch 5/10\n",
      "60/60 [==============================] - 4s 68ms/step - loss: 0.4311 - accuracy: 0.8604\n",
      "Epoch 6/10\n",
      "60/60 [==============================] - 4s 65ms/step - loss: 0.3498 - accuracy: 0.8790\n",
      "Epoch 7/10\n",
      "60/60 [==============================] - 4s 65ms/step - loss: 0.3176 - accuracy: 0.8879\n",
      "Epoch 8/10\n",
      "60/60 [==============================] - 4s 64ms/step - loss: 0.2920 - accuracy: 0.8949\n",
      "Epoch 9/10\n",
      "60/60 [==============================] - 4s 62ms/step - loss: 0.2842 - accuracy: 0.8958\n",
      "Epoch 10/10\n",
      "60/60 [==============================] - 4s 64ms/step - loss: 0.2696 - accuracy: 0.9004\n"
     ]
    },
    {
     "data": {
      "text/plain": [
       "<tensorflow.python.keras.callbacks.History at 0x7f9292da35b0>"
      ]
     },
     "execution_count": 2,
     "metadata": {},
     "output_type": "execute_result"
    }
   ],
   "source": [
    "# CNN (Max-Pooling, RELU)!\n",
    "\n",
    "from tensorflow.keras.models import Sequential\n",
    "from tensorflow.keras.layers import Dense, Conv2D, MaxPooling2D, Flatten\n",
    "\n",
    "model = Sequential()\n",
    "\n",
    "model.add(Conv2D(10, kernel_size=(3, 3), activation=\"relu\", input_shape=(28, 28, 1)))\n",
    "model.add(MaxPooling2D(pool_size=(2, 2)))\n",
    "model.add(Flatten())\n",
    "model.add(Dense(10, activation=\"softmax\"))\n",
    "\n",
    "model.compile(optimizer=\"rmsprop\", loss=\"categorical_crossentropy\", metrics=[\"accuracy\"])\n",
    "\n",
    "model.fit(\n",
    "    X_train.reshape(60000, 28, 28, 1),\n",
    "    y_train,\n",
    "    epochs=10,\n",
    "    batch_size=1000)"
   ]
  },
  {
   "cell_type": "code",
   "execution_count": 3,
   "metadata": {},
   "outputs": [
    {
     "name": "stdout",
     "output_type": "stream",
     "text": [
      "313/313 [==============================] - 0s 998us/step - loss: 0.4223 - accuracy: 0.8669\n"
     ]
    },
    {
     "data": {
      "text/plain": [
       "[0.4222809076309204, 0.8669000267982483]"
      ]
     },
     "execution_count": 3,
     "metadata": {},
     "output_type": "execute_result"
    }
   ],
   "source": [
    "model.evaluate(X_test.reshape(-1, 28, 28, 1), y_test)"
   ]
  },
  {
   "cell_type": "code",
   "execution_count": 4,
   "metadata": {},
   "outputs": [
    {
     "name": "stdout",
     "output_type": "stream",
     "text": [
      "Epoch 1/10\n",
      "60/60 [==============================] - 4s 60ms/step - loss: 1.6530 - accuracy: 0.4808\n",
      "Epoch 2/10\n",
      "60/60 [==============================] - 4s 61ms/step - loss: 0.6947 - accuracy: 0.7511\n",
      "Epoch 3/10\n",
      "60/60 [==============================] - 4s 65ms/step - loss: 0.5749 - accuracy: 0.7881\n",
      "Epoch 4/10\n",
      "60/60 [==============================] - 4s 67ms/step - loss: 0.5211 - accuracy: 0.8082\n",
      "Epoch 5/10\n",
      "60/60 [==============================] - 4s 67ms/step - loss: 0.4703 - accuracy: 0.8299\n",
      "Epoch 6/10\n",
      "60/60 [==============================] - 4s 67ms/step - loss: 0.4486 - accuracy: 0.8357\n",
      "Epoch 7/10\n",
      "60/60 [==============================] - 4s 69ms/step - loss: 0.4300 - accuracy: 0.8443\n",
      "Epoch 8/10\n",
      "60/60 [==============================] - 4s 68ms/step - loss: 0.4118 - accuracy: 0.8515\n",
      "Epoch 9/10\n",
      "60/60 [==============================] - 4s 69ms/step - loss: 0.3914 - accuracy: 0.8581\n",
      "Epoch 10/10\n",
      "60/60 [==============================] - 4s 70ms/step - loss: 0.3829 - accuracy: 0.8605\n"
     ]
    },
    {
     "data": {
      "text/plain": [
       "<tensorflow.python.keras.callbacks.History at 0x7f9293570be0>"
      ]
     },
     "execution_count": 4,
     "metadata": {},
     "output_type": "execute_result"
    }
   ],
   "source": [
    "# CNN (Max-Pooling, Sigmoid)!\n",
    "\n",
    "from tensorflow.keras.models import Sequential\n",
    "from tensorflow.keras.layers import Dense, Conv2D, MaxPooling2D, Flatten\n",
    "\n",
    "model2 = Sequential()\n",
    "\n",
    "model2.add(Conv2D(10, kernel_size=(3, 3), activation=\"sigmoid\", input_shape=(28, 28, 1)))\n",
    "model2.add(MaxPooling2D(pool_size=(2, 2)))\n",
    "model2.add(Flatten())\n",
    "model2.add(Dense(10, activation=\"softmax\"))\n",
    "\n",
    "model2.compile(optimizer=\"rmsprop\", loss=\"categorical_crossentropy\", metrics=[\"accuracy\"])\n",
    "\n",
    "model2.fit(\n",
    "    X_train.reshape(60000, 28, 28, 1),\n",
    "    y_train,\n",
    "    epochs=10,\n",
    "    batch_size=1000)"
   ]
  },
  {
   "cell_type": "code",
   "execution_count": 15,
   "metadata": {},
   "outputs": [
    {
     "name": "stdout",
     "output_type": "stream",
     "text": [
      "10000/10000 [==============================] - 1s 68us/step\n"
     ]
    },
    {
     "data": {
      "text/plain": [
       "[0.3964018678665161, 0.8529]"
      ]
     },
     "execution_count": 15,
     "metadata": {},
     "output_type": "execute_result"
    }
   ],
   "source": [
    "model2.evaluate(X_test.reshape(-1, 28, 28, 1), y_test)"
   ]
  },
  {
   "cell_type": "code",
   "execution_count": null,
   "metadata": {},
   "outputs": [],
   "source": []
  }
 ],
 "metadata": {
  "kernelspec": {
   "display_name": "Python 3",
   "language": "python",
   "name": "python3"
  },
  "language_info": {
   "codemirror_mode": {
    "name": "ipython",
    "version": 3
   },
   "file_extension": ".py",
   "mimetype": "text/x-python",
   "name": "python",
   "nbconvert_exporter": "python",
   "pygments_lexer": "ipython3",
   "version": "3.8.5"
  }
 },
 "nbformat": 4,
 "nbformat_minor": 2
}
