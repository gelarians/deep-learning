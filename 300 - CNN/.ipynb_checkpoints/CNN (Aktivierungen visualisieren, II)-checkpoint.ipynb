{
 "cells": [
  {
   "cell_type": "code",
   "execution_count": 3,
   "metadata": {},
   "outputs": [],
   "source": [
    "# Vorstellung: MNIST-Daten!\n",
    "# http://yann.lecun.com/exdb/mnist/\n",
    "# FashionMNIST: https://github.com/zalandoresearch/fashion-mnist\n",
    "\n",
    "import gzip\n",
    "import numpy as np\n",
    "from keras.utils import to_categorical\n",
    "\n",
    "def open_images(filename):\n",
    "    with gzip.open(filename, \"rb\") as file:\n",
    "        data = file.read()\n",
    "        return np.frombuffer(data, dtype=np.uint8, offset=16)\\\n",
    "            .reshape(-1, 28, 28)\\\n",
    "            .astype(np.float32)\n",
    "\n",
    "\n",
    "def open_labels(filename):\n",
    "    with gzip.open(filename, \"rb\") as file:\n",
    "        data = file.read()\n",
    "        return np.frombuffer(data, dtype=np.uint8, offset=8)\n",
    "    \n",
    "X_train = open_images(\"../data/fashion/train-images-idx3-ubyte.gz\")\n",
    "y_train = open_labels(\"../data/fashion/train-labels-idx1-ubyte.gz\")\n",
    "\n",
    "X_test = open_images(\"../data/fashion/t10k-images-idx3-ubyte.gz\")\n",
    "y_test = open_labels(\"../data/fashion/t10k-labels-idx1-ubyte.gz\")\n",
    "\n",
    "y_train = to_categorical(y_train)\n",
    "y_test = to_categorical(y_test)"
   ]
  },
  {
   "cell_type": "code",
   "execution_count": 5,
   "metadata": {},
   "outputs": [
    {
     "name": "stdout",
     "output_type": "stream",
     "text": [
      "Epoch 1/10\n",
      "60000/60000 [==============================] - 5s 89us/step - loss: 1.0377 - acc: 0.6751\n",
      "Epoch 2/10\n",
      "60000/60000 [==============================] - 5s 89us/step - loss: 0.5906 - acc: 0.7887\n",
      "Epoch 3/10\n",
      "60000/60000 [==============================] - 7s 122us/step - loss: 0.4958 - acc: 0.8229\n",
      "Epoch 4/10\n",
      "60000/60000 [==============================] - 7s 123us/step - loss: 0.4671 - acc: 0.8342\n",
      "Epoch 5/10\n",
      "60000/60000 [==============================] - 7s 115us/step - loss: 0.4261 - acc: 0.8479\n",
      "Epoch 6/10\n",
      "60000/60000 [==============================] - 5s 83us/step - loss: 0.3847 - acc: 0.8612\n",
      "Epoch 7/10\n",
      "60000/60000 [==============================] - 6s 95us/step - loss: 0.3594 - acc: 0.8707\n",
      "Epoch 8/10\n",
      "60000/60000 [==============================] - 6s 95us/step - loss: 0.3410 - acc: 0.8761\n",
      "Epoch 9/10\n",
      "60000/60000 [==============================] - 7s 121us/step - loss: 0.3250 - acc: 0.8827\n",
      "Epoch 10/10\n",
      "60000/60000 [==============================] - 7s 122us/step - loss: 0.3100 - acc: 0.8872\n"
     ]
    },
    {
     "data": {
      "text/plain": [
       "<keras.callbacks.History at 0x10c4f7160>"
      ]
     },
     "execution_count": 5,
     "metadata": {},
     "output_type": "execute_result"
    }
   ],
   "source": [
    "from keras.models import Sequential\n",
    "from keras.layers import Dense, Conv2D, Flatten\n",
    "\n",
    "model = Sequential()\n",
    "\n",
    "model.add(Conv2D(10, kernel_size=(3, 3), activation=\"sigmoid\", input_shape=(28, 28, 1)))\n",
    "model.add(Flatten())\n",
    "model.add(Dense(10, activation=\"softmax\"))\n",
    "\n",
    "model.compile(optimizer=\"rmsprop\", loss=\"categorical_crossentropy\", metrics=[\"accuracy\"])\n",
    "model.fit(X_train.reshape(60000, 28, 28, 1), y_train, epochs=10, batch_size=1000)"
   ]
  },
  {
   "cell_type": "code",
   "execution_count": 24,
   "metadata": {},
   "outputs": [
    {
     "data": {
      "text/plain": [
       "<tf.Variable 'conv2d_3/kernel:0' shape=(3, 3, 1, 10) dtype=float32_ref>"
      ]
     },
     "execution_count": 24,
     "metadata": {},
     "output_type": "execute_result"
    }
   ],
   "source": [
    "model.layers[0].weights[0]"
   ]
  },
  {
   "cell_type": "code",
   "execution_count": 30,
   "metadata": {},
   "outputs": [
    {
     "name": "stdout",
     "output_type": "stream",
     "text": [
      "[[[[ 0.19576691  0.0488221   0.10550261 -0.04532979 -0.08933904\n",
      "    -0.12719081  0.27532718 -0.24473518  0.21682476  0.07759319]]\n",
      "\n",
      "  [[-0.1553149   0.12740776 -0.20479676  0.08950718 -0.23042966\n",
      "    -0.12292543 -0.20877895 -0.3325742   0.02387012  0.01134508]]\n",
      "\n",
      "  [[-0.18828513 -0.19438311 -0.13022545 -0.01258874  0.10100666\n",
      "     0.1448426   0.17041886 -0.19958541  0.20681421 -0.17638798]]]\n",
      "\n",
      "\n",
      " [[[ 0.17208107 -0.0504432   0.01423773 -0.16220795 -0.3519061\n",
      "    -0.19586863 -0.09531954  0.02515816 -0.14333914  0.00102207]]\n",
      "\n",
      "  [[-0.17980495  0.09487661 -0.19493401 -0.16590752 -0.20034878\n",
      "    -0.14435406 -0.14131387 -0.01544061 -0.16472289 -0.09398057]]\n",
      "\n",
      "  [[ 0.10034253 -0.06236054  0.05025429  0.05441032  0.03079811\n",
      "     0.238057    0.0136452  -0.01357119 -0.01644461  0.05710166]]]\n",
      "\n",
      "\n",
      " [[[-0.11135367 -0.03968542 -0.03738845 -0.11308649 -0.15099539\n",
      "     0.1080709  -0.17720373 -0.06087229 -0.1712324  -0.22550768]]\n",
      "\n",
      "  [[ 0.03043447  0.08481387  0.11257308 -0.09018416  0.13727975\n",
      "    -0.0184738  -0.18481003  0.11306812 -0.06815758  0.13112436]]\n",
      "\n",
      "  [[-0.14171575 -0.09621537  0.15670012  0.08366403 -0.01337701\n",
      "     0.09247903 -0.0417033   0.12527853 -0.02686762 -0.09345925]]]]\n"
     ]
    }
   ],
   "source": [
    "import keras.backend as K\n",
    "\n",
    "data = K.eval(model.layers[0].weights[0])\n",
    "print(data)"
   ]
  },
  {
   "cell_type": "code",
   "execution_count": 35,
   "metadata": {},
   "outputs": [
    {
     "data": {
      "text/plain": [
       "array([[ 0.19576691, -0.1553149 , -0.18828513],\n",
       "       [ 0.17208107, -0.17980495,  0.10034253],\n",
       "       [-0.11135367,  0.03043447, -0.14171575]], dtype=float32)"
      ]
     },
     "execution_count": 35,
     "metadata": {},
     "output_type": "execute_result"
    }
   ],
   "source": [
    "data[:, :, :, 0].reshape(3, 3)"
   ]
  },
  {
   "cell_type": "code",
   "execution_count": 43,
   "metadata": {},
   "outputs": [
    {
     "data": {
      "image/png": "[encoded data removed]",
      "text/plain": [
       "<Figure size 432x288 with 1 Axes>"
      ]
     },
     "metadata": {},
     "output_type": "display_data"
    }
   ],
   "source": [
    "%matplotlib inline\n",
    "\n",
    "import matplotlib.pyplot as plt\n",
    "\n",
    "plt.imshow(data[:, :, :, 7].reshape(3, 3))\n",
    "plt.show()"
   ]
  },
  {
   "cell_type": "markdown",
   "metadata": {},
   "source": [
    "### Vergleich: https://en.wikipedia.org/wiki/Sobel_operator\n",
    "\n",
    "$ {\\displaystyle \\mathbf {G} _{x}={\\begin{bmatrix}+1&0&-1\\\\+2&0&-2\\\\+1&0&-1\\end{bmatrix}}*\\mathbf {A} \\quad {\\mbox{and}}\\quad \\mathbf {G} _{y}={\\begin{bmatrix}+1&+2&+1\\\\0&0&0\\\\-1&-2&-1\\end{bmatrix}}*\\mathbf {A} } $ "
   ]
  },
  {
   "cell_type": "code",
   "execution_count": null,
   "metadata": {},
   "outputs": [],
   "source": []
  }
 ],
 "metadata": {
  "kernelspec": {
   "display_name": "Python 3",
   "language": "python",
   "name": "python3"
  },
  "language_info": {
   "codemirror_mode": {
    "name": "ipython",
    "version": 3
   },
   "file_extension": ".py",
   "mimetype": "text/x-python",
   "name": "python",
   "nbconvert_exporter": "python",
   "pygments_lexer": "ipython3",
   "version": "3.6.5"
  }
 },
 "nbformat": 4,
 "nbformat_minor": 2
}
