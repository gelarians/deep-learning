{
 "cells": [
  {
   "cell_type": "code",
   "execution_count": 1,
   "metadata": {},
   "outputs": [],
   "source": [
    "# Vorstellung: MNIST-Daten!\n",
    "# http://yann.lecun.com/exdb/mnist/\n",
    "# FashionMNIST: https://github.com/zalandoresearch/fashion-mnist\n",
    "\n",
    "import gzip\n",
    "import numpy as np\n",
    "from tensorflow.keras.utils import to_categorical\n",
    "\n",
    "def open_images(filename):\n",
    "    with gzip.open(filename, \"rb\") as file:\n",
    "        data = file.read()\n",
    "        return np.frombuffer(data, dtype=np.uint8, offset=16)\\\n",
    "            .reshape(-1, 28, 28)\\\n",
    "            .astype(np.float32)\n",
    "\n",
    "\n",
    "def open_labels(filename):\n",
    "    with gzip.open(filename, \"rb\") as file:\n",
    "        data = file.read()\n",
    "        return np.frombuffer(data, dtype=np.uint8, offset=8)\n",
    "    \n",
    "X_train = open_images(\"../data/fashion/train-images-idx3-ubyte.gz\")\n",
    "y_train = open_labels(\"../data/fashion/train-labels-idx1-ubyte.gz\")\n",
    "\n",
    "X_test = open_images(\"../data/fashion/t10k-images-idx3-ubyte.gz\")\n",
    "y_test = open_labels(\"../data/fashion/t10k-labels-idx1-ubyte.gz\")\n",
    "\n",
    "y_train = to_categorical(y_train)\n",
    "y_test = to_categorical(y_test)"
   ]
  },
  {
   "cell_type": "code",
   "execution_count": 2,
   "metadata": {},
   "outputs": [
    {
     "name": "stdout",
     "output_type": "stream",
     "text": [
      "Epoch 1/10\n",
      "60/60 [==============================] - 3s 49ms/step - loss: 1.2742 - accuracy: 0.6095\n",
      "Epoch 2/10\n",
      "60/60 [==============================] - 3s 50ms/step - loss: 0.5361 - accuracy: 0.8235\n",
      "Epoch 3/10\n",
      "60/60 [==============================] - 3s 55ms/step - loss: 0.4193 - accuracy: 0.8571\n",
      "Epoch 4/10\n",
      "60/60 [==============================] - 3s 56ms/step - loss: 0.3629 - accuracy: 0.8736\n",
      "Epoch 5/10\n",
      "60/60 [==============================] - 3s 58ms/step - loss: 0.3311 - accuracy: 0.8843\n",
      "Epoch 6/10\n",
      "60/60 [==============================] - 3s 56ms/step - loss: 0.3126 - accuracy: 0.8892\n",
      "Epoch 7/10\n",
      "60/60 [==============================] - 3s 57ms/step - loss: 0.2950 - accuracy: 0.8953\n",
      "Epoch 8/10\n",
      "60/60 [==============================] - 3s 58ms/step - loss: 0.2776 - accuracy: 0.9010\n",
      "Epoch 9/10\n",
      "60/60 [==============================] - 3s 58ms/step - loss: 0.2694 - accuracy: 0.9031\n",
      "Epoch 10/10\n",
      "60/60 [==============================] - 3s 58ms/step - loss: 0.2642 - accuracy: 0.9026\n"
     ]
    },
    {
     "data": {
      "text/plain": [
       "<tensorflow.python.keras.callbacks.History at 0x7fddf81022e0>"
      ]
     },
     "execution_count": 2,
     "metadata": {},
     "output_type": "execute_result"
    }
   ],
   "source": [
    "from tensorflow.keras.models import Sequential\n",
    "from tensorflow.keras.layers import Dense, Conv2D, MaxPooling2D, Flatten, Dropout\n",
    "\n",
    "model = Sequential()\n",
    "\n",
    "model.add(Conv2D(10, kernel_size=(3, 3), activation=\"relu\", input_shape=(28, 28, 1)))\n",
    "model.add(MaxPooling2D(pool_size=(2, 2)))\n",
    "# model.add(Dropout(0.25))\n",
    "model.add(Flatten())\n",
    "model.add(Dense(100, activation=\"sigmoid\"))\n",
    "# model.add(Dropout(0.25))\n",
    "\n",
    "model.add(Dense(10, activation=\"softmax\"))\n",
    "\n",
    "model.compile(optimizer=\"rmsprop\", loss=\"categorical_crossentropy\", metrics=[\"accuracy\"])\n",
    "\n",
    "model.fit(\n",
    "    X_train.reshape(60000, 28, 28, 1),\n",
    "    y_train,\n",
    "    epochs=10,\n",
    "    batch_size=1000)"
   ]
  },
  {
   "cell_type": "code",
   "execution_count": 3,
   "metadata": {},
   "outputs": [
    {
     "name": "stdout",
     "output_type": "stream",
     "text": [
      "1875/1875 [==============================] - 2s 1ms/step - loss: 0.2454 - accuracy: 0.9134\n",
      "[0.2453511655330658, 0.9133666753768921]\n",
      "313/313 [==============================] - 1s 2ms/step - loss: 0.3094 - accuracy: 0.8877\n",
      "[0.30941879749298096, 0.8877000212669373]\n"
     ]
    }
   ],
   "source": [
    "print(model.evaluate(X_train.reshape(-1, 28, 28, 1), y_train))\n",
    "print(model.evaluate(X_test.reshape(-1, 28, 28, 1), y_test))"
   ]
  },
  {
   "cell_type": "code",
   "execution_count": null,
   "metadata": {},
   "outputs": [],
   "source": []
  }
 ],
 "metadata": {
  "kernelspec": {
   "display_name": "Python 3",
   "language": "python",
   "name": "python3"
  },
  "language_info": {
   "codemirror_mode": {
    "name": "ipython",
    "version": 3
   },
   "file_extension": ".py",
   "mimetype": "text/x-python",
   "name": "python",
   "nbconvert_exporter": "python",
   "pygments_lexer": "ipython3",
   "version": "3.8.5"
  }
 },
 "nbformat": 4,
 "nbformat_minor": 2
}
