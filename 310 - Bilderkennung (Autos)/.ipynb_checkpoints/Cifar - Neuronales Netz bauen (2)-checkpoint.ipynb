{
 "cells": [
  {
   "cell_type": "markdown",
   "metadata": {},
   "source": [
    "## Cifar: Neuronales Netz bauen\n",
    "\n",
    "https://www.cs.toronto.edu/~kriz/cifar.html"
   ]
  },
  {
   "cell_type": "code",
   "execution_count": 7,
   "metadata": {},
   "outputs": [],
   "source": [
    "from tensorflow.keras.datasets import cifar10"
   ]
  },
  {
   "cell_type": "code",
   "execution_count": 20,
   "metadata": {},
   "outputs": [],
   "source": [
    "(X_train, y_train), (X_test, y_test) = cifar10.load_data()\n",
    "\n",
    "import numpy as np\n",
    "\n",
    "X_train = X_train.astype(np.float32) / 255.\n",
    "X_test = X_test.astype(np.float32) / 255."
   ]
  },
  {
   "cell_type": "code",
   "execution_count": 21,
   "metadata": {},
   "outputs": [
    {
     "name": "stdout",
     "output_type": "stream",
     "text": [
      "[1]\n"
     ]
    },
    {
     "data": {
      "image/png": "[encoded data removed]",
      "text/plain": [
       "<Figure size 432x288 with 1 Axes>"
      ]
     },
     "metadata": {},
     "output_type": "display_data"
    }
   ],
   "source": [
    "%matplotlib inline\n",
    "\n",
    "import matplotlib.pyplot as plt\n",
    "\n",
    "print(y_train[4])\n",
    "plt.imshow(X_train[4])\n",
    "plt.show()"
   ]
  },
  {
   "cell_type": "code",
   "execution_count": null,
   "metadata": {},
   "outputs": [],
   "source": []
  },
  {
   "cell_type": "code",
   "execution_count": 22,
   "metadata": {},
   "outputs": [],
   "source": [
    "from keras.models import Sequential\n",
    "from keras.layers import Dense, Dropout, Flatten, Conv2D, MaxPooling2D\n",
    "\n",
    "model = Sequential()\n",
    "model.add(Conv2D(32, kernel_size=(3, 3), input_shape=(32, 32, 3), activation=\"relu\"))\n",
    "model.add(MaxPooling2D(pool_size=(2, 2)))\n",
    "model.add(Dropout(0.25))\n",
    "\n",
    "model.add(Flatten())\n",
    "model.add(Dense(128, activation=\"relu\"))\n",
    "model.add(Dense(1, activation=\"sigmoid\"))\n",
    "\n",
    "model.compile(optimizer=\"rmsprop\", loss=\"binary_crossentropy\", metrics=[\"accuracy\"])"
   ]
  },
  {
   "cell_type": "code",
   "execution_count": 23,
   "metadata": {},
   "outputs": [
    {
     "name": "stdout",
     "output_type": "stream",
     "text": [
      "Epoch 1/10\n",
      "50000/50000 [==============================] - 6s 111us/step - loss: 0.2450 - acc: 0.9101\n",
      "Epoch 2/10\n",
      "50000/50000 [==============================] - 4s 82us/step - loss: 0.1803 - acc: 0.9309\n",
      "Epoch 3/10\n",
      "50000/50000 [==============================] - 4s 82us/step - loss: 0.1568 - acc: 0.9396\n",
      "Epoch 4/10\n",
      "50000/50000 [==============================] - 4s 82us/step - loss: 0.1440 - acc: 0.9459\n",
      "Epoch 5/10\n",
      "50000/50000 [==============================] - 4s 82us/step - loss: 0.1348 - acc: 0.9490\n",
      "Epoch 6/10\n",
      "50000/50000 [==============================] - 4s 82us/step - loss: 0.1248 - acc: 0.9536\n",
      "Epoch 7/10\n",
      "50000/50000 [==============================] - 4s 82us/step - loss: 0.1159 - acc: 0.9568\n",
      "Epoch 8/10\n",
      "50000/50000 [==============================] - 4s 82us/step - loss: 0.1091 - acc: 0.9596\n",
      "Epoch 9/10\n",
      "50000/50000 [==============================] - 4s 82us/step - loss: 0.1007 - acc: 0.9631\n",
      "Epoch 10/10\n",
      "50000/50000 [==============================] - 4s 82us/step - loss: 0.0949 - acc: 0.9650\n"
     ]
    },
    {
     "data": {
      "text/plain": [
       "<keras.callbacks.History at 0x7f493b2f55f8>"
      ]
     },
     "execution_count": 23,
     "metadata": {},
     "output_type": "execute_result"
    }
   ],
   "source": [
    "y_train_car = y_train == 1\n",
    "\n",
    "model.fit(X_train, y_train_car, batch_size=128, epochs=10, shuffle=True)"
   ]
  },
  {
   "cell_type": "code",
   "execution_count": 24,
   "metadata": {},
   "outputs": [
    {
     "name": "stdout",
     "output_type": "stream",
     "text": [
      "50000/50000 [==============================] - 4s 86us/step\n",
      "[0.0801772673407197, 0.97082]\n"
     ]
    }
   ],
   "source": [
    "print(model.evaluate(X_train, y_train_car))"
   ]
  },
  {
   "cell_type": "code",
   "execution_count": 25,
   "metadata": {},
   "outputs": [
    {
     "name": "stdout",
     "output_type": "stream",
     "text": [
      "10000/10000 [==============================] - 1s 86us/step\n",
      "[0.13696064681261777, 0.9522]\n"
     ]
    }
   ],
   "source": [
    "y_test_car = y_test == 1\n",
    "print(model.evaluate(X_test, y_test_car))"
   ]
  },
  {
   "cell_type": "code",
   "execution_count": null,
   "metadata": {},
   "outputs": [],
   "source": []
  }
 ],
 "metadata": {
  "kernelspec": {
   "display_name": "Python 3",
   "language": "python",
   "name": "python3"
  },
  "language_info": {
   "codemirror_mode": {
    "name": "ipython",
    "version": 3
   },
   "file_extension": ".py",
   "mimetype": "text/x-python",
   "name": "python",
   "nbconvert_exporter": "python",
   "pygments_lexer": "ipython3",
   "version": "3.8.5"
  }
 },
 "nbformat": 4,
 "nbformat_minor": 2
}
